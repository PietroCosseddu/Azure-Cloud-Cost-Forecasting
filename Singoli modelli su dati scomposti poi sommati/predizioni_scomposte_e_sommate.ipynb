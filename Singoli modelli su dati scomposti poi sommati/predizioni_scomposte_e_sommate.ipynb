{
 "cells": [
  {
   "cell_type": "markdown",
   "metadata": {},
   "source": [
    "# data preparation"
   ]
  },
  {
   "cell_type": "code",
   "execution_count": 1,
   "metadata": {},
   "outputs": [],
   "source": [
    "import pandas as pd\n",
    "import matplotlib.pyplot as plt\n",
    "import seaborn as sns\n",
    "import xgboost as xgb\n",
    "from sklearn.metrics import mean_squared_error\n",
    "import numpy as np\n",
    "from sklearn.model_selection import TimeSeriesSplit\n",
    "from hyperopt import fmin, tpe, hp, STATUS_OK, Trials\n",
    "import tensorflow as tf\n",
    "color_pal = sns.color_palette()\n",
    "\n",
    "from tensorflow.keras import backend as K\n",
    "from tensorflow.keras.models import Sequential\n",
    "from tensorflow.keras.layers import *\n",
    "from tensorflow.keras.callbacks import ModelCheckpoint\n",
    "from tensorflow.keras.losses import MeanSquaredError\n",
    "from tensorflow.keras.losses import MeanAbsoluteError\n",
    "from tensorflow.keras.metrics import RootMeanSquaredError\n",
    "from tensorflow.keras.metrics import MeanAbsoluteError\n",
    "from tensorflow.keras.optimizers.legacy import Adam\n",
    "from tensorflow.keras.initializers import HeNormal\n",
    "from tensorflow.keras.initializers import GlorotUniform"
   ]
  },
  {
   "cell_type": "code",
   "execution_count": 2,
   "metadata": {},
   "outputs": [],
   "source": [
    "def get_df(MeterCategory):\n",
    "\n",
    "    df = pd.read_csv(\"/Users/pietrocosseddu/Desktop/Tirocinio/Approccio robusto/anonymized_costs.csv\")\n",
    "\n",
    "    undesired_meter_categories = ['Storage', 'Virtual Machines', 'Automation', 'Bandwidth', 'Load Balancer', 'Log Analytics', 'Service Bus', 'Logic Apps'] \n",
    "\n",
    "    # Define the MeterCategories you want to select as a list\n",
    "    desired_meter_categories = [MeterCategory]  # Add your desired categories\n",
    "\n",
    "    # Select rows where 'MeterCategory' matches the desired names\n",
    "    if (MeterCategory == 'Others'):\n",
    "        df = df[-df['MeterCategory'].isin(undesired_meter_categories)]\n",
    "    else:\n",
    "        df = df[df['MeterCategory'].isin(desired_meter_categories)]\n",
    "\n",
    "    # Rest of your data processing code\n",
    "    columns_to_eliminate = ['InvoiceSectionName', 'MeterCategory', 'MeterSubCategory', 'MeterName', 'SubscriptionName', 'ResourceGroup', 'ConsumedService', 'ResourceLocation', 'ResourceName']\n",
    "\n",
    "    # Mapping categorical features (if needed)\n",
    "\n",
    "    df.drop(columns=columns_to_eliminate, inplace=True)\n",
    "    df = df.set_index(\"Date\")\n",
    "    df.index = pd.to_datetime(df.index)\n",
    "\n",
    "    df['DayOfWeek'] = df.index.day_of_week\n",
    "    df['Month'] = df.index.month\n",
    "\n",
    "    df['CostInBillingCurrency'] = df.groupby(df.index.date)['CostInBillingCurrency'].sum()\n",
    "    df = df.drop_duplicates(subset=['CostInBillingCurrency'])\n",
    "    df = df.sort_index()\n",
    "    return df"
   ]
  },
  {
   "cell_type": "code",
   "execution_count": 3,
   "metadata": {},
   "outputs": [],
   "source": [
    "df = pd.read_csv(\"/Users/pietrocosseddu/Desktop/Tirocinio/Approccio robusto/anonymized_costs.csv\")\n",
    "\n",
    "# Define the MeterCategories you want to select as a list\n",
    "#desired_meter_categories = ['Storage', 'Virtual Machines', 'Automation', 'Bandwidth', 'Load Balancer', 'Log Analytics', 'Service Bus', 'Logic Apps']  # Add your desired categories\n",
    "\n",
    "# Select rows where 'MeterCategory' matches the desired names\n",
    "#df = df[df['MeterCategory'].isin(desired_meter_categories)]\n",
    "\n",
    "# Rest of your data processing code\n",
    "columns_to_eliminate = ['InvoiceSectionName', 'MeterCategory', 'MeterSubCategory', 'MeterName', 'SubscriptionName', 'ResourceGroup', 'ConsumedService', 'ResourceLocation', 'ResourceName']\n",
    "\n",
    "# Mapping categorical features (if needed)\n",
    "\n",
    "df.drop(columns=columns_to_eliminate, inplace=True)\n",
    "df = df.set_index(\"Date\")\n",
    "df.index = pd.to_datetime(df.index)\n",
    "\n",
    "df['DayOfWeek'] = df.index.day_of_week\n",
    "df['Month'] = df.index.month\n",
    "\n",
    "df['CostInBillingCurrency'] = df.groupby(df.index.date)['CostInBillingCurrency'].sum()\n",
    "df = df.drop_duplicates(subset=['CostInBillingCurrency'])\n",
    "df = df.sort_index()\n",
    "\n",
    "Y = df['CostInBillingCurrency'][4:].values\n",
    "\n",
    "walk_train_y = []\n",
    "walk_val_y = []\n",
    "walk_test_y = []\n",
    "\n",
    "for i in range (5):\n",
    "\n",
    "    delay = i*5\n",
    "\n",
    "    walk_train_y.append(Y[delay:50+delay])\n",
    "    walk_val_y.append(Y[50+delay:60+delay])\n",
    "    walk_test_y.append(Y[60+delay:65+delay])"
   ]
  },
  {
   "cell_type": "code",
   "execution_count": 4,
   "metadata": {},
   "outputs": [],
   "source": [
    "def custom_loss(y_true, y_pred):\n",
    "\n",
    "    rmse_w = 1\n",
    "    da_w = 1\n",
    "\n",
    "    # Calculate RMSE\n",
    "    rmse = K.sqrt(K.mean(K.square(y_pred - y_true)))\n",
    "    \n",
    "    # Calculate directional accuracy\n",
    "    actual_diff = K.sign(y_true[1:] - y_true[:-1])\n",
    "    pred_diff = K.sign(y_pred[1:] - y_true[:-1])\n",
    "    num_correct = K.sum(K.cast(K.equal(actual_diff, pred_diff), tf.float32))\n",
    "    total_comparisons = K.cast(K.shape(y_true)[0] - 1, tf.float32)\n",
    "    da = num_correct / total_comparisons\n",
    "    da = 1-da\n",
    "\n",
    "    # Normalize RMSE and directional accuracy\n",
    "    rmse_normalized = rmse / (K.max(y_true) - K.min(y_true))\n",
    "    \n",
    "    # Combine normalized RMSE and directional accuracy with weights\n",
    "    loss = (rmse_normalized * rmse_w) + (da * da_w)\n",
    "    \n",
    "    return loss"
   ]
  },
  {
   "cell_type": "code",
   "execution_count": 5,
   "metadata": {},
   "outputs": [],
   "source": [
    "def create_sequences(data, seq_length):\n",
    "    X, y = [], []\n",
    "    for i in range(len(data) - seq_length):\n",
    "        X.append(data[i:i+seq_length])\n",
    "    return np.array(X)"
   ]
  },
  {
   "cell_type": "code",
   "execution_count": 6,
   "metadata": {},
   "outputs": [],
   "source": [
    "def add_element(data, element):\n",
    "  DataSet = np.empty((data.shape[0], data.shape[1] + 1))\n",
    "  for i in range(data.shape[0]):\n",
    "      nuova_riga = np.append(data[i], element[i])\n",
    "      DataSet[i] = nuova_riga\n",
    "  return DataSet"
   ]
  },
  {
   "cell_type": "code",
   "execution_count": 7,
   "metadata": {},
   "outputs": [],
   "source": [
    "def da(y_true, y_pred):\n",
    "    y_true = np.array(y_true)\n",
    "    y_pred = np.array(y_pred)\n",
    "\n",
    "    # Calculate the sign of the difference between consecutive actual values\n",
    "    actual_diff = np.sign(y_true[1:] - y_true[:-1])\n",
    "    \n",
    "    # Calculate the sign of the difference between the predicted value and the actual value of the previous day\n",
    "    pred_diff = np.sign(y_pred[1:] - y_true[:-1])\n",
    "    \n",
    "    # Calculate the number of times the signs are the same\n",
    "    num_correct = np.sum(actual_diff == pred_diff)\n",
    "    \n",
    "    # Calculate the total number of comparisons (which is one less than the length of the time series)\n",
    "    total_comparisons = len(y_true) - 1\n",
    "    \n",
    "    # Calculate the directional accuracy\n",
    "    da = num_correct / total_comparisons\n",
    "    \n",
    "    return da"
   ]
  },
  {
   "cell_type": "code",
   "execution_count": 8,
   "metadata": {},
   "outputs": [],
   "source": [
    "def create_train_test_val(df):\n",
    "\n",
    "    seq_length = 6\n",
    "\n",
    "    if(len(df) == 89):\n",
    "        if (seq_length == 4):\n",
    "            train = 50\n",
    "        elif (seq_length == 2):\n",
    "            train = 52\n",
    "        elif (seq_length == 6):\n",
    "            train = 48\n",
    "        val = train+10\n",
    "        test = train+15\n",
    "    else:\n",
    "        train = 50-(85-(len(df)-4))\n",
    "        if (seq_length == 4):\n",
    "            train = train\n",
    "        elif (seq_length == 2):\n",
    "            train += 2\n",
    "        elif (seq_length == 6):\n",
    "            train -= 2\n",
    "\n",
    "        val = train+10\n",
    "        test = train+15\n",
    "\n",
    "    data = df['CostInBillingCurrency'].values\n",
    "    data = create_sequences(data, seq_length)\n",
    "\n",
    "    week = df['DayOfWeek'][seq_length:].values\n",
    "    month = df['Month'][seq_length:].values\n",
    "    data = data.reshape(len(data), seq_length)\n",
    "\n",
    "    data = add_element(data, week)\n",
    "    data = add_element(data, month)\n",
    "\n",
    "    Y = df['CostInBillingCurrency'][seq_length:].values\n",
    "\n",
    "    walk_train_x = []\n",
    "    walk_val_x = []\n",
    "    walk_test_x = []\n",
    "\n",
    "    walk_train_y = []\n",
    "    walk_val_y = []\n",
    "    walk_test_y = []\n",
    "\n",
    "    delay = 0\n",
    "\n",
    "\n",
    "    # divisione dei passi\n",
    "    for i in range (5):\n",
    "\n",
    "        delay = i*5\n",
    "\n",
    "        walk_train_x.append(data[delay:train+delay])\n",
    "        walk_val_x.append(data[train+delay:val+delay])\n",
    "        walk_test_x.append(data[val+delay:test+delay])\n",
    "\n",
    "        walk_train_y.append(Y[delay:train+delay])\n",
    "        walk_val_y.append(Y[train+delay:val+delay])\n",
    "        walk_test_y.append(Y[val+delay:test+delay])\n",
    "\n",
    "    return walk_train_x, walk_train_y, walk_val_x, walk_val_y, walk_test_x, walk_test_y"
   ]
  },
  {
   "cell_type": "code",
   "execution_count": 9,
   "metadata": {},
   "outputs": [],
   "source": [
    "storage = get_df('Storage')\n",
    "storage_walk_train_x, storage_walk_train_y, storage_walk_val_x, storage_walk_val_y, storage_walk_test_x, storage_walk_test_y = create_train_test_val(storage)"
   ]
  },
  {
   "cell_type": "code",
   "execution_count": 10,
   "metadata": {},
   "outputs": [],
   "source": [
    "virtual_machines = get_df('Virtual Machines')\n",
    "virtual_machines_walk_train_x, virtual_machines_walk_train_y, virtual_machines_walk_val_x, virtual_machines_walk_val_y, virtual_machines_walk_test_x, virtual_machines_walk_test_y = create_train_test_val(virtual_machines)"
   ]
  },
  {
   "cell_type": "code",
   "execution_count": 11,
   "metadata": {},
   "outputs": [],
   "source": [
    "automation = get_df('Automation')\n",
    "automation_walk_train_x, automation_walk_train_y, automation_walk_val_x, automation_walk_val_y, automation_walk_test_x, automation_walk_test_y = create_train_test_val(automation)"
   ]
  },
  {
   "cell_type": "code",
   "execution_count": 12,
   "metadata": {},
   "outputs": [],
   "source": [
    "bandwidth = get_df('Bandwidth')\n",
    "bandwidth_walk_train_x, bandwidth_walk_train_y, bandwidth_walk_val_x, bandwidth_walk_val_y, bandwidth_walk_test_x, bandwidth_walk_test_y = create_train_test_val(bandwidth)"
   ]
  },
  {
   "cell_type": "code",
   "execution_count": 13,
   "metadata": {},
   "outputs": [],
   "source": [
    "load_balancer = get_df('Load Balancer')\n",
    "load_balancer_walk_train_x, load_balancer_walk_train_y, load_balancer_walk_val_x, load_balancer_walk_val_y, load_balancer_walk_test_x, load_balancer_walk_test_y = create_train_test_val(load_balancer)"
   ]
  },
  {
   "cell_type": "code",
   "execution_count": 14,
   "metadata": {},
   "outputs": [],
   "source": [
    "log_analytics = get_df('Log Analytics')\n",
    "log_analytics_walk_train_x, log_analytics_walk_train_y, log_analytics_walk_val_x, log_analytics_walk_val_y, log_analytics_walk_test_x, log_analytics_walk_test_y = create_train_test_val(log_analytics)"
   ]
  },
  {
   "cell_type": "code",
   "execution_count": 15,
   "metadata": {},
   "outputs": [],
   "source": [
    "logic_apps = get_df('Logic Apps')\n",
    "logic_apps_walk_train_x, logic_apps_walk_train_y, logic_apps_walk_val_x, logic_apps_walk_val_y, logic_apps_walk_test_x, logic_apps_walk_test_y = create_train_test_val(logic_apps)"
   ]
  },
  {
   "cell_type": "code",
   "execution_count": 16,
   "metadata": {},
   "outputs": [],
   "source": [
    "service_bus = get_df('Service Bus')\n",
    "service_bus_walk_train_x, service_bus_walk_train_y, service_bus_walk_val_x, service_bus_walk_val_y, service_bus_walk_test_x, service_bus_walk_test_y = create_train_test_val(service_bus)"
   ]
  },
  {
   "cell_type": "code",
   "execution_count": 17,
   "metadata": {},
   "outputs": [],
   "source": [
    "remaining = get_df('Others')\n",
    "remaining_walk_train_x, remaining_walk_train_y, remaining_walk_val_x, remaining_walk_val_y, remaining_walk_test_x, remaining_walk_test_y = create_train_test_val(remaining)"
   ]
  },
  {
   "cell_type": "markdown",
   "metadata": {},
   "source": [
    "# Training"
   ]
  },
  {
   "cell_type": "code",
   "execution_count": 18,
   "metadata": {},
   "outputs": [],
   "source": [
    "def train_model(model, train_x, train_y, val_x, val_y, cp):\n",
    "    history = model.fit(train_x, train_y, validation_data=(val_x, val_y), epochs = 25, batch_size = 5, callbacks=[cp], verbose = False)\n",
    "    model = tf.keras.models.load_model('model', custom_objects={'custom_loss': custom_loss})\n",
    "\n",
    "    return history.history, model"
   ]
  },
  {
   "cell_type": "code",
   "execution_count": 19,
   "metadata": {},
   "outputs": [],
   "source": [
    "HISTORY_STORAGE = []\n",
    "HISTORY_VIRTUAL_MACHINES = []\n",
    "HISTORY_AUTOMATION = []\n",
    "HISTORY_LOGIC_APPS = []\n",
    "HISTORY_BANDWIDTH = []\n",
    "HISTORY_LOAD_BALANCER = []\n",
    "HISTORY_LOG_ANALYTICS = []\n",
    "HISTORY_SERVICE_BUS = []\n",
    "HISTORY_OTHERS = []\n",
    "\n",
    "MDA_VAL_STORAGE = []\n",
    "MDA_VAL_VIRTUAL_MACHINES = []\n",
    "MDA_VAL_AUTOMATION = []\n",
    "MDA_VAL_LOGIC_APPS = []\n",
    "MDA_VAL_BANDWIDTH = []\n",
    "MDA_VAL_LOAD_BALANCER = []\n",
    "MDA_VAL_LOG_ANALYTICS = []\n",
    "MDA_VAL_SERVICE_BUS = []\n",
    "MDA_VAL_OTHERS = []\n",
    "\n",
    "MDA_TEST_STORAGE = []\n",
    "MDA_TEST_VIRTUAL_MACHINES = []\n",
    "MDA_TEST_AUTOMATION = []\n",
    "MDA_TEST_LOGIC_APPS = []\n",
    "MDA_TEST_BANDWIDTH = []\n",
    "MDA_TEST_LOAD_BALANCER = []\n",
    "MDA_TEST_LOG_ANALYTICS = []\n",
    "MDA_TEST_SERVICE_BUS = []\n",
    "MDA_TEST_OTHERS = []\n",
    "\n",
    "MODELS_STORAGE = []\n",
    "MODELS_VIRTUAL_MACHINES = []\n",
    "MODELS_AUTOMATION = []\n",
    "MODELS_LOGIC_APPS = []\n",
    "MODELS_BANDWIDTH = []\n",
    "MODELS_LOAD_BALANCER = []\n",
    "MODELS_LOG_ANALYTICS = []\n",
    "MODELS_SERVICE_BUS = []\n",
    "MODELS_OTHERS = []\n",
    "\n",
    "predizioni_test_storage = []\n",
    "predizioni_test_virtual_machines = []\n",
    "predizioni_test_automation = []\n",
    "predizioni_test_bandwidth = []\n",
    "predizioni_test_logic_apps = []\n",
    "predizioni_test_log_analytics = []\n",
    "predizioni_test_load_balancer = []\n",
    "predizioni_test_service_bus = []\n",
    "predizioni_test_remaining = []\n",
    "\n",
    "predizioni_val_storage = []\n",
    "predizioni_val_virtual_machines = []\n",
    "predizioni_val_automation = []\n",
    "predizioni_val_bandwidth = []\n",
    "predizioni_val_logic_apps = []\n",
    "predizioni_val_log_analytics = []\n",
    "predizioni_val_load_balancer = []\n",
    "predizioni_val_service_bus = []\n",
    "predizioni_val_remaining = []"
   ]
  },
  {
   "cell_type": "code",
   "execution_count": 20,
   "metadata": {},
   "outputs": [
    {
     "name": "stdout",
     "output_type": "stream",
     "text": [
      "Model: \"sequential\"\n",
      "_________________________________________________________________\n",
      " Layer (type)                Output Shape              Param #   \n",
      "=================================================================\n",
      " lstm (LSTM)                 (None, 8, 256)            264192    \n",
      "                                                                 \n",
      " lstm_1 (LSTM)               (None, 8, 128)            197120    \n",
      "                                                                 \n",
      " lstm_2 (LSTM)               (None, 8, 64)             49408     \n",
      "                                                                 \n",
      " lstm_3 (LSTM)               (None, 64)                33024     \n",
      "                                                                 \n",
      " dense (Dense)               (None, 1)                 65        \n",
      "                                                                 \n",
      "=================================================================\n",
      "Total params: 543809 (2.07 MB)\n",
      "Trainable params: 543809 (2.07 MB)\n",
      "Non-trainable params: 0 (0.00 Byte)\n",
      "_________________________________________________________________\n",
      "INFO:tensorflow:Assets written to: model/assets\n"
     ]
    },
    {
     "name": "stderr",
     "output_type": "stream",
     "text": [
      "INFO:tensorflow:Assets written to: model/assets\n"
     ]
    },
    {
     "name": "stdout",
     "output_type": "stream",
     "text": [
      "INFO:tensorflow:Assets written to: model/assets\n"
     ]
    },
    {
     "name": "stderr",
     "output_type": "stream",
     "text": [
      "INFO:tensorflow:Assets written to: model/assets\n"
     ]
    },
    {
     "name": "stdout",
     "output_type": "stream",
     "text": [
      "INFO:tensorflow:Assets written to: model/assets\n"
     ]
    },
    {
     "name": "stderr",
     "output_type": "stream",
     "text": [
      "INFO:tensorflow:Assets written to: model/assets\n"
     ]
    },
    {
     "name": "stdout",
     "output_type": "stream",
     "text": [
      "INFO:tensorflow:Assets written to: model/assets\n"
     ]
    },
    {
     "name": "stderr",
     "output_type": "stream",
     "text": [
      "INFO:tensorflow:Assets written to: model/assets\n"
     ]
    },
    {
     "name": "stdout",
     "output_type": "stream",
     "text": [
      "INFO:tensorflow:Assets written to: model/assets\n"
     ]
    },
    {
     "name": "stderr",
     "output_type": "stream",
     "text": [
      "INFO:tensorflow:Assets written to: model/assets\n"
     ]
    },
    {
     "name": "stdout",
     "output_type": "stream",
     "text": [
      "INFO:tensorflow:Assets written to: model/assets\n"
     ]
    },
    {
     "name": "stderr",
     "output_type": "stream",
     "text": [
      "INFO:tensorflow:Assets written to: model/assets\n"
     ]
    },
    {
     "name": "stdout",
     "output_type": "stream",
     "text": [
      "1/1 [==============================] - 1s 623ms/step\n",
      "1/1 [==============================] - 0s 45ms/step\n",
      "1/1 [==============================] - 0s 489ms/step\n",
      "1/1 [==============================] - 0s 23ms/step\n",
      "1/1 [==============================] - 0s 330ms/step\n",
      "1/1 [==============================] - 0s 21ms/step\n",
      "INFO:tensorflow:Assets written to: model/assets\n"
     ]
    },
    {
     "name": "stderr",
     "output_type": "stream",
     "text": [
      "INFO:tensorflow:Assets written to: model/assets\n"
     ]
    },
    {
     "name": "stdout",
     "output_type": "stream",
     "text": [
      "1/1 [==============================] - 0s 326ms/step\n",
      "1/1 [==============================] - 0s 20ms/step\n",
      "WARNING:tensorflow:5 out of the last 9 calls to <function Model.make_predict_function.<locals>.predict_function at 0x2c5c43240> triggered tf.function retracing. Tracing is expensive and the excessive number of tracings could be due to (1) creating @tf.function repeatedly in a loop, (2) passing tensors with different shapes, (3) passing Python objects instead of tensors. For (1), please define your @tf.function outside of the loop. For (2), @tf.function has reduce_retracing=True option that can avoid unnecessary retracing. For (3), please refer to https://www.tensorflow.org/guide/function#controlling_retracing and https://www.tensorflow.org/api_docs/python/tf/function for  more details.\n"
     ]
    },
    {
     "name": "stderr",
     "output_type": "stream",
     "text": [
      "WARNING:tensorflow:5 out of the last 9 calls to <function Model.make_predict_function.<locals>.predict_function at 0x2c5c43240> triggered tf.function retracing. Tracing is expensive and the excessive number of tracings could be due to (1) creating @tf.function repeatedly in a loop, (2) passing tensors with different shapes, (3) passing Python objects instead of tensors. For (1), please define your @tf.function outside of the loop. For (2), @tf.function has reduce_retracing=True option that can avoid unnecessary retracing. For (3), please refer to https://www.tensorflow.org/guide/function#controlling_retracing and https://www.tensorflow.org/api_docs/python/tf/function for  more details.\n"
     ]
    },
    {
     "name": "stdout",
     "output_type": "stream",
     "text": [
      "1/1 [==============================] - 0s 339ms/step\n",
      "1/1 [==============================] - 0s 23ms/step\n",
      "Model: \"sequential_1\"\n",
      "_________________________________________________________________\n",
      " Layer (type)                Output Shape              Param #   \n",
      "=================================================================\n",
      " lstm_4 (LSTM)               (None, 8, 256)            264192    \n",
      "                                                                 \n",
      " lstm_5 (LSTM)               (None, 8, 128)            197120    \n",
      "                                                                 \n",
      " lstm_6 (LSTM)               (None, 8, 64)             49408     \n",
      "                                                                 \n",
      " lstm_7 (LSTM)               (None, 64)                33024     \n",
      "                                                                 \n",
      " dense_1 (Dense)             (None, 1)                 65        \n",
      "                                                                 \n",
      "=================================================================\n",
      "Total params: 543809 (2.07 MB)\n",
      "Trainable params: 543809 (2.07 MB)\n",
      "Non-trainable params: 0 (0.00 Byte)\n",
      "_________________________________________________________________\n",
      "INFO:tensorflow:Assets written to: model/assets\n"
     ]
    },
    {
     "name": "stderr",
     "output_type": "stream",
     "text": [
      "INFO:tensorflow:Assets written to: model/assets\n"
     ]
    },
    {
     "name": "stdout",
     "output_type": "stream",
     "text": [
      "INFO:tensorflow:Assets written to: model/assets\n"
     ]
    },
    {
     "name": "stderr",
     "output_type": "stream",
     "text": [
      "INFO:tensorflow:Assets written to: model/assets\n"
     ]
    },
    {
     "name": "stdout",
     "output_type": "stream",
     "text": [
      "INFO:tensorflow:Assets written to: model/assets\n"
     ]
    },
    {
     "name": "stderr",
     "output_type": "stream",
     "text": [
      "INFO:tensorflow:Assets written to: model/assets\n"
     ]
    },
    {
     "name": "stdout",
     "output_type": "stream",
     "text": [
      "INFO:tensorflow:Assets written to: model/assets\n"
     ]
    },
    {
     "name": "stderr",
     "output_type": "stream",
     "text": [
      "INFO:tensorflow:Assets written to: model/assets\n"
     ]
    },
    {
     "name": "stdout",
     "output_type": "stream",
     "text": [
      "WARNING:tensorflow:6 out of the last 11 calls to <function Model.make_predict_function.<locals>.predict_function at 0x2da363740> triggered tf.function retracing. Tracing is expensive and the excessive number of tracings could be due to (1) creating @tf.function repeatedly in a loop, (2) passing tensors with different shapes, (3) passing Python objects instead of tensors. For (1), please define your @tf.function outside of the loop. For (2), @tf.function has reduce_retracing=True option that can avoid unnecessary retracing. For (3), please refer to https://www.tensorflow.org/guide/function#controlling_retracing and https://www.tensorflow.org/api_docs/python/tf/function for  more details.\n"
     ]
    },
    {
     "name": "stderr",
     "output_type": "stream",
     "text": [
      "WARNING:tensorflow:6 out of the last 11 calls to <function Model.make_predict_function.<locals>.predict_function at 0x2da363740> triggered tf.function retracing. Tracing is expensive and the excessive number of tracings could be due to (1) creating @tf.function repeatedly in a loop, (2) passing tensors with different shapes, (3) passing Python objects instead of tensors. For (1), please define your @tf.function outside of the loop. For (2), @tf.function has reduce_retracing=True option that can avoid unnecessary retracing. For (3), please refer to https://www.tensorflow.org/guide/function#controlling_retracing and https://www.tensorflow.org/api_docs/python/tf/function for  more details.\n"
     ]
    },
    {
     "name": "stdout",
     "output_type": "stream",
     "text": [
      "1/1 [==============================] - 0s 430ms/step\n",
      "1/1 [==============================] - 0s 30ms/step\n",
      "1/1 [==============================] - 0s 333ms/step\n",
      "1/1 [==============================] - 0s 21ms/step\n",
      "1/1 [==============================] - 0s 332ms/step\n",
      "1/1 [==============================] - 0s 23ms/step\n",
      "INFO:tensorflow:Assets written to: model/assets\n"
     ]
    },
    {
     "name": "stderr",
     "output_type": "stream",
     "text": [
      "INFO:tensorflow:Assets written to: model/assets\n"
     ]
    },
    {
     "name": "stdout",
     "output_type": "stream",
     "text": [
      "1/1 [==============================] - 0s 335ms/step\n",
      "1/1 [==============================] - 0s 20ms/step\n",
      "1/1 [==============================] - 0s 332ms/step\n",
      "1/1 [==============================] - 0s 22ms/step\n",
      "Model: \"sequential_2\"\n",
      "_________________________________________________________________\n",
      " Layer (type)                Output Shape              Param #   \n",
      "=================================================================\n",
      " lstm_8 (LSTM)               (None, 8, 256)            264192    \n",
      "                                                                 \n",
      " lstm_9 (LSTM)               (None, 8, 128)            197120    \n",
      "                                                                 \n",
      " lstm_10 (LSTM)              (None, 8, 64)             49408     \n",
      "                                                                 \n",
      " lstm_11 (LSTM)              (None, 64)                33024     \n",
      "                                                                 \n",
      " dense_2 (Dense)             (None, 1)                 65        \n",
      "                                                                 \n",
      "=================================================================\n",
      "Total params: 543809 (2.07 MB)\n",
      "Trainable params: 543809 (2.07 MB)\n",
      "Non-trainable params: 0 (0.00 Byte)\n",
      "_________________________________________________________________\n",
      "INFO:tensorflow:Assets written to: model/assets\n"
     ]
    },
    {
     "name": "stderr",
     "output_type": "stream",
     "text": [
      "INFO:tensorflow:Assets written to: model/assets\n"
     ]
    },
    {
     "name": "stdout",
     "output_type": "stream",
     "text": [
      "INFO:tensorflow:Assets written to: model/assets\n"
     ]
    },
    {
     "name": "stderr",
     "output_type": "stream",
     "text": [
      "INFO:tensorflow:Assets written to: model/assets\n"
     ]
    },
    {
     "name": "stdout",
     "output_type": "stream",
     "text": [
      "INFO:tensorflow:Assets written to: model/assets\n"
     ]
    },
    {
     "name": "stderr",
     "output_type": "stream",
     "text": [
      "INFO:tensorflow:Assets written to: model/assets\n"
     ]
    },
    {
     "name": "stdout",
     "output_type": "stream",
     "text": [
      "INFO:tensorflow:Assets written to: model/assets\n"
     ]
    },
    {
     "name": "stderr",
     "output_type": "stream",
     "text": [
      "INFO:tensorflow:Assets written to: model/assets\n"
     ]
    },
    {
     "name": "stdout",
     "output_type": "stream",
     "text": [
      "1/1 [==============================] - 0s 337ms/step\n",
      "1/1 [==============================] - 0s 21ms/step\n",
      "1/1 [==============================] - 0s 389ms/step\n",
      "1/1 [==============================] - 0s 55ms/step\n",
      "1/1 [==============================] - 0s 339ms/step\n",
      "1/1 [==============================] - 0s 22ms/step\n",
      "INFO:tensorflow:Assets written to: model/assets\n"
     ]
    },
    {
     "name": "stderr",
     "output_type": "stream",
     "text": [
      "INFO:tensorflow:Assets written to: model/assets\n"
     ]
    },
    {
     "name": "stdout",
     "output_type": "stream",
     "text": [
      "INFO:tensorflow:Assets written to: model/assets\n"
     ]
    },
    {
     "name": "stderr",
     "output_type": "stream",
     "text": [
      "INFO:tensorflow:Assets written to: model/assets\n"
     ]
    },
    {
     "name": "stdout",
     "output_type": "stream",
     "text": [
      "1/1 [==============================] - 0s 336ms/step\n",
      "1/1 [==============================] - 0s 22ms/step\n",
      "1/1 [==============================] - 0s 342ms/step\n",
      "1/1 [==============================] - 0s 23ms/step\n",
      "Model: \"sequential_3\"\n",
      "_________________________________________________________________\n",
      " Layer (type)                Output Shape              Param #   \n",
      "=================================================================\n",
      " lstm_12 (LSTM)              (None, 8, 256)            264192    \n",
      "                                                                 \n",
      " lstm_13 (LSTM)              (None, 8, 128)            197120    \n",
      "                                                                 \n",
      " lstm_14 (LSTM)              (None, 8, 64)             49408     \n",
      "                                                                 \n",
      " lstm_15 (LSTM)              (None, 64)                33024     \n",
      "                                                                 \n",
      " dense_3 (Dense)             (None, 1)                 65        \n",
      "                                                                 \n",
      "=================================================================\n",
      "Total params: 543809 (2.07 MB)\n",
      "Trainable params: 543809 (2.07 MB)\n",
      "Non-trainable params: 0 (0.00 Byte)\n",
      "_________________________________________________________________\n",
      "INFO:tensorflow:Assets written to: model/assets\n"
     ]
    },
    {
     "name": "stderr",
     "output_type": "stream",
     "text": [
      "INFO:tensorflow:Assets written to: model/assets\n"
     ]
    },
    {
     "name": "stdout",
     "output_type": "stream",
     "text": [
      "INFO:tensorflow:Assets written to: model/assets\n"
     ]
    },
    {
     "name": "stderr",
     "output_type": "stream",
     "text": [
      "INFO:tensorflow:Assets written to: model/assets\n"
     ]
    },
    {
     "name": "stdout",
     "output_type": "stream",
     "text": [
      "INFO:tensorflow:Assets written to: model/assets\n"
     ]
    },
    {
     "name": "stderr",
     "output_type": "stream",
     "text": [
      "INFO:tensorflow:Assets written to: model/assets\n"
     ]
    },
    {
     "name": "stdout",
     "output_type": "stream",
     "text": [
      "1/1 [==============================] - 0s 357ms/step\n",
      "1/1 [==============================] - 0s 25ms/step\n",
      "1/1 [==============================] - 0s 336ms/step\n",
      "1/1 [==============================] - 0s 23ms/step\n",
      "1/1 [==============================] - 0s 340ms/step\n",
      "1/1 [==============================] - 0s 22ms/step\n",
      "INFO:tensorflow:Assets written to: model/assets\n"
     ]
    },
    {
     "name": "stderr",
     "output_type": "stream",
     "text": [
      "INFO:tensorflow:Assets written to: model/assets\n"
     ]
    },
    {
     "name": "stdout",
     "output_type": "stream",
     "text": [
      "INFO:tensorflow:Assets written to: model/assets\n"
     ]
    },
    {
     "name": "stderr",
     "output_type": "stream",
     "text": [
      "INFO:tensorflow:Assets written to: model/assets\n"
     ]
    },
    {
     "name": "stdout",
     "output_type": "stream",
     "text": [
      "INFO:tensorflow:Assets written to: model/assets\n"
     ]
    },
    {
     "name": "stderr",
     "output_type": "stream",
     "text": [
      "INFO:tensorflow:Assets written to: model/assets\n"
     ]
    },
    {
     "name": "stdout",
     "output_type": "stream",
     "text": [
      "1/1 [==============================] - 0s 337ms/step\n",
      "1/1 [==============================] - 0s 21ms/step\n",
      "1/1 [==============================] - 0s 347ms/step\n",
      "1/1 [==============================] - 0s 20ms/step\n",
      "Model: \"sequential_4\"\n",
      "_________________________________________________________________\n",
      " Layer (type)                Output Shape              Param #   \n",
      "=================================================================\n",
      " lstm_16 (LSTM)              (None, 8, 256)            264192    \n",
      "                                                                 \n",
      " lstm_17 (LSTM)              (None, 8, 128)            197120    \n",
      "                                                                 \n",
      " lstm_18 (LSTM)              (None, 8, 64)             49408     \n",
      "                                                                 \n",
      " lstm_19 (LSTM)              (None, 64)                33024     \n",
      "                                                                 \n",
      " dense_4 (Dense)             (None, 1)                 65        \n",
      "                                                                 \n",
      "=================================================================\n",
      "Total params: 543809 (2.07 MB)\n",
      "Trainable params: 543809 (2.07 MB)\n",
      "Non-trainable params: 0 (0.00 Byte)\n",
      "_________________________________________________________________\n",
      "INFO:tensorflow:Assets written to: model/assets\n"
     ]
    },
    {
     "name": "stderr",
     "output_type": "stream",
     "text": [
      "INFO:tensorflow:Assets written to: model/assets\n"
     ]
    },
    {
     "name": "stdout",
     "output_type": "stream",
     "text": [
      "INFO:tensorflow:Assets written to: model/assets\n"
     ]
    },
    {
     "name": "stderr",
     "output_type": "stream",
     "text": [
      "INFO:tensorflow:Assets written to: model/assets\n"
     ]
    },
    {
     "name": "stdout",
     "output_type": "stream",
     "text": [
      "INFO:tensorflow:Assets written to: model/assets\n"
     ]
    },
    {
     "name": "stderr",
     "output_type": "stream",
     "text": [
      "INFO:tensorflow:Assets written to: model/assets\n"
     ]
    },
    {
     "name": "stdout",
     "output_type": "stream",
     "text": [
      "INFO:tensorflow:Assets written to: model/assets\n"
     ]
    },
    {
     "name": "stderr",
     "output_type": "stream",
     "text": [
      "INFO:tensorflow:Assets written to: model/assets\n"
     ]
    },
    {
     "name": "stdout",
     "output_type": "stream",
     "text": [
      "INFO:tensorflow:Assets written to: model/assets\n"
     ]
    },
    {
     "name": "stderr",
     "output_type": "stream",
     "text": [
      "INFO:tensorflow:Assets written to: model/assets\n"
     ]
    },
    {
     "name": "stdout",
     "output_type": "stream",
     "text": [
      "INFO:tensorflow:Assets written to: model/assets\n"
     ]
    },
    {
     "name": "stderr",
     "output_type": "stream",
     "text": [
      "INFO:tensorflow:Assets written to: model/assets\n"
     ]
    },
    {
     "name": "stdout",
     "output_type": "stream",
     "text": [
      "1/1 [==============================] - 1s 1s/step\n",
      "1/1 [==============================] - 0s 70ms/step\n",
      "1/1 [==============================] - 1s 514ms/step\n",
      "1/1 [==============================] - 0s 42ms/step\n",
      "1/1 [==============================] - 0s 494ms/step\n",
      "1/1 [==============================] - 0s 30ms/step\n",
      "1/1 [==============================] - 0s 466ms/step\n",
      "1/1 [==============================] - 0s 28ms/step\n",
      "1/1 [==============================] - 1s 502ms/step\n",
      "1/1 [==============================] - 0s 31ms/step\n",
      "Model: \"sequential_5\"\n",
      "_________________________________________________________________\n",
      " Layer (type)                Output Shape              Param #   \n",
      "=================================================================\n",
      " lstm_20 (LSTM)              (None, 8, 256)            264192    \n",
      "                                                                 \n",
      " lstm_21 (LSTM)              (None, 8, 128)            197120    \n",
      "                                                                 \n",
      " lstm_22 (LSTM)              (None, 8, 64)             49408     \n",
      "                                                                 \n",
      " lstm_23 (LSTM)              (None, 64)                33024     \n",
      "                                                                 \n",
      " dense_5 (Dense)             (None, 1)                 65        \n",
      "                                                                 \n",
      "=================================================================\n",
      "Total params: 543809 (2.07 MB)\n",
      "Trainable params: 543809 (2.07 MB)\n",
      "Non-trainable params: 0 (0.00 Byte)\n",
      "_________________________________________________________________\n",
      "INFO:tensorflow:Assets written to: model/assets\n"
     ]
    },
    {
     "name": "stderr",
     "output_type": "stream",
     "text": [
      "INFO:tensorflow:Assets written to: model/assets\n"
     ]
    },
    {
     "name": "stdout",
     "output_type": "stream",
     "text": [
      "INFO:tensorflow:Assets written to: model/assets\n"
     ]
    },
    {
     "name": "stderr",
     "output_type": "stream",
     "text": [
      "INFO:tensorflow:Assets written to: model/assets\n"
     ]
    },
    {
     "name": "stdout",
     "output_type": "stream",
     "text": [
      "INFO:tensorflow:Assets written to: model/assets\n"
     ]
    },
    {
     "name": "stderr",
     "output_type": "stream",
     "text": [
      "INFO:tensorflow:Assets written to: model/assets\n"
     ]
    },
    {
     "name": "stdout",
     "output_type": "stream",
     "text": [
      "INFO:tensorflow:Assets written to: model/assets\n"
     ]
    },
    {
     "name": "stderr",
     "output_type": "stream",
     "text": [
      "INFO:tensorflow:Assets written to: model/assets\n"
     ]
    },
    {
     "name": "stdout",
     "output_type": "stream",
     "text": [
      "INFO:tensorflow:Assets written to: model/assets\n"
     ]
    },
    {
     "name": "stderr",
     "output_type": "stream",
     "text": [
      "INFO:tensorflow:Assets written to: model/assets\n"
     ]
    },
    {
     "name": "stdout",
     "output_type": "stream",
     "text": [
      "INFO:tensorflow:Assets written to: model/assets\n"
     ]
    },
    {
     "name": "stderr",
     "output_type": "stream",
     "text": [
      "INFO:tensorflow:Assets written to: model/assets\n"
     ]
    },
    {
     "name": "stdout",
     "output_type": "stream",
     "text": [
      "1/1 [==============================] - 1s 575ms/step\n",
      "1/1 [==============================] - 0s 53ms/step\n",
      "1/1 [==============================] - 0s 486ms/step\n",
      "1/1 [==============================] - 0s 42ms/step\n",
      "1/1 [==============================] - 0s 487ms/step\n",
      "1/1 [==============================] - 0s 39ms/step\n",
      "INFO:tensorflow:Assets written to: model/assets\n"
     ]
    },
    {
     "name": "stderr",
     "output_type": "stream",
     "text": [
      "INFO:tensorflow:Assets written to: model/assets\n"
     ]
    },
    {
     "name": "stdout",
     "output_type": "stream",
     "text": [
      "INFO:tensorflow:Assets written to: model/assets\n"
     ]
    },
    {
     "name": "stderr",
     "output_type": "stream",
     "text": [
      "INFO:tensorflow:Assets written to: model/assets\n"
     ]
    },
    {
     "name": "stdout",
     "output_type": "stream",
     "text": [
      "1/1 [==============================] - 0s 363ms/step\n",
      "1/1 [==============================] - 0s 21ms/step\n",
      "1/1 [==============================] - 0s 408ms/step\n",
      "1/1 [==============================] - 0s 34ms/step\n",
      "Model: \"sequential_6\"\n",
      "_________________________________________________________________\n",
      " Layer (type)                Output Shape              Param #   \n",
      "=================================================================\n",
      " lstm_24 (LSTM)              (None, 8, 256)            264192    \n",
      "                                                                 \n",
      " lstm_25 (LSTM)              (None, 8, 128)            197120    \n",
      "                                                                 \n",
      " lstm_26 (LSTM)              (None, 8, 64)             49408     \n",
      "                                                                 \n",
      " lstm_27 (LSTM)              (None, 64)                33024     \n",
      "                                                                 \n",
      " dense_6 (Dense)             (None, 1)                 65        \n",
      "                                                                 \n",
      "=================================================================\n",
      "Total params: 543809 (2.07 MB)\n",
      "Trainable params: 543809 (2.07 MB)\n",
      "Non-trainable params: 0 (0.00 Byte)\n",
      "_________________________________________________________________\n",
      "INFO:tensorflow:Assets written to: model/assets\n"
     ]
    },
    {
     "name": "stderr",
     "output_type": "stream",
     "text": [
      "INFO:tensorflow:Assets written to: model/assets\n"
     ]
    },
    {
     "name": "stdout",
     "output_type": "stream",
     "text": [
      "INFO:tensorflow:Assets written to: model/assets\n"
     ]
    },
    {
     "name": "stderr",
     "output_type": "stream",
     "text": [
      "INFO:tensorflow:Assets written to: model/assets\n"
     ]
    },
    {
     "name": "stdout",
     "output_type": "stream",
     "text": [
      "INFO:tensorflow:Assets written to: model/assets\n"
     ]
    },
    {
     "name": "stderr",
     "output_type": "stream",
     "text": [
      "INFO:tensorflow:Assets written to: model/assets\n"
     ]
    },
    {
     "name": "stdout",
     "output_type": "stream",
     "text": [
      "INFO:tensorflow:Assets written to: model/assets\n"
     ]
    },
    {
     "name": "stderr",
     "output_type": "stream",
     "text": [
      "INFO:tensorflow:Assets written to: model/assets\n"
     ]
    },
    {
     "name": "stdout",
     "output_type": "stream",
     "text": [
      "INFO:tensorflow:Assets written to: model/assets\n"
     ]
    },
    {
     "name": "stderr",
     "output_type": "stream",
     "text": [
      "INFO:tensorflow:Assets written to: model/assets\n"
     ]
    },
    {
     "name": "stdout",
     "output_type": "stream",
     "text": [
      "1/1 [==============================] - 0s 422ms/step\n",
      "1/1 [==============================] - 0s 23ms/step\n",
      "1/1 [==============================] - 0s 455ms/step\n",
      "1/1 [==============================] - 0s 40ms/step\n",
      "1/1 [==============================] - 0s 365ms/step\n",
      "1/1 [==============================] - 0s 29ms/step\n",
      "INFO:tensorflow:Assets written to: model/assets\n"
     ]
    },
    {
     "name": "stderr",
     "output_type": "stream",
     "text": [
      "INFO:tensorflow:Assets written to: model/assets\n"
     ]
    },
    {
     "name": "stdout",
     "output_type": "stream",
     "text": [
      "INFO:tensorflow:Assets written to: model/assets\n"
     ]
    },
    {
     "name": "stderr",
     "output_type": "stream",
     "text": [
      "INFO:tensorflow:Assets written to: model/assets\n"
     ]
    },
    {
     "name": "stdout",
     "output_type": "stream",
     "text": [
      "1/1 [==============================] - 0s 426ms/step\n",
      "1/1 [==============================] - 0s 33ms/step\n",
      "1/1 [==============================] - 0s 367ms/step\n",
      "1/1 [==============================] - 0s 29ms/step\n",
      "Model: \"sequential_7\"\n",
      "_________________________________________________________________\n",
      " Layer (type)                Output Shape              Param #   \n",
      "=================================================================\n",
      " lstm_28 (LSTM)              (None, 8, 256)            264192    \n",
      "                                                                 \n",
      " lstm_29 (LSTM)              (None, 8, 128)            197120    \n",
      "                                                                 \n",
      " lstm_30 (LSTM)              (None, 8, 64)             49408     \n",
      "                                                                 \n",
      " lstm_31 (LSTM)              (None, 64)                33024     \n",
      "                                                                 \n",
      " dense_7 (Dense)             (None, 1)                 65        \n",
      "                                                                 \n",
      "=================================================================\n",
      "Total params: 543809 (2.07 MB)\n",
      "Trainable params: 543809 (2.07 MB)\n",
      "Non-trainable params: 0 (0.00 Byte)\n",
      "_________________________________________________________________\n",
      "INFO:tensorflow:Assets written to: model/assets\n"
     ]
    },
    {
     "name": "stderr",
     "output_type": "stream",
     "text": [
      "INFO:tensorflow:Assets written to: model/assets\n"
     ]
    },
    {
     "name": "stdout",
     "output_type": "stream",
     "text": [
      "INFO:tensorflow:Assets written to: model/assets\n"
     ]
    },
    {
     "name": "stderr",
     "output_type": "stream",
     "text": [
      "INFO:tensorflow:Assets written to: model/assets\n"
     ]
    },
    {
     "name": "stdout",
     "output_type": "stream",
     "text": [
      "INFO:tensorflow:Assets written to: model/assets\n"
     ]
    },
    {
     "name": "stderr",
     "output_type": "stream",
     "text": [
      "INFO:tensorflow:Assets written to: model/assets\n"
     ]
    },
    {
     "name": "stdout",
     "output_type": "stream",
     "text": [
      "1/1 [==============================] - 0s 371ms/step\n",
      "1/1 [==============================] - 0s 26ms/step\n",
      "1/1 [==============================] - 0s 369ms/step\n",
      "1/1 [==============================] - 0s 25ms/step\n",
      "1/1 [==============================] - 0s 355ms/step\n",
      "1/1 [==============================] - 0s 20ms/step\n",
      "1/1 [==============================] - 0s 413ms/step\n",
      "1/1 [==============================] - 0s 22ms/step\n",
      "1/1 [==============================] - 0s 374ms/step\n",
      "1/1 [==============================] - 0s 24ms/step\n",
      "Model: \"sequential_8\"\n",
      "_________________________________________________________________\n",
      " Layer (type)                Output Shape              Param #   \n",
      "=================================================================\n",
      " lstm_32 (LSTM)              (None, 8, 256)            264192    \n",
      "                                                                 \n",
      " lstm_33 (LSTM)              (None, 8, 128)            197120    \n",
      "                                                                 \n",
      " lstm_34 (LSTM)              (None, 8, 64)             49408     \n",
      "                                                                 \n",
      " lstm_35 (LSTM)              (None, 64)                33024     \n",
      "                                                                 \n",
      " dense_8 (Dense)             (None, 1)                 65        \n",
      "                                                                 \n",
      "=================================================================\n",
      "Total params: 543809 (2.07 MB)\n",
      "Trainable params: 543809 (2.07 MB)\n",
      "Non-trainable params: 0 (0.00 Byte)\n",
      "_________________________________________________________________\n",
      "INFO:tensorflow:Assets written to: model/assets\n"
     ]
    },
    {
     "name": "stderr",
     "output_type": "stream",
     "text": [
      "INFO:tensorflow:Assets written to: model/assets\n"
     ]
    },
    {
     "name": "stdout",
     "output_type": "stream",
     "text": [
      "INFO:tensorflow:Assets written to: model/assets\n"
     ]
    },
    {
     "name": "stderr",
     "output_type": "stream",
     "text": [
      "INFO:tensorflow:Assets written to: model/assets\n"
     ]
    },
    {
     "name": "stdout",
     "output_type": "stream",
     "text": [
      "INFO:tensorflow:Assets written to: model/assets\n"
     ]
    },
    {
     "name": "stderr",
     "output_type": "stream",
     "text": [
      "INFO:tensorflow:Assets written to: model/assets\n"
     ]
    },
    {
     "name": "stdout",
     "output_type": "stream",
     "text": [
      "INFO:tensorflow:Assets written to: model/assets\n"
     ]
    },
    {
     "name": "stderr",
     "output_type": "stream",
     "text": [
      "INFO:tensorflow:Assets written to: model/assets\n"
     ]
    },
    {
     "name": "stdout",
     "output_type": "stream",
     "text": [
      "1/1 [==============================] - 0s 364ms/step\n",
      "1/1 [==============================] - 0s 22ms/step\n",
      "1/1 [==============================] - 0s 396ms/step\n",
      "1/1 [==============================] - 0s 21ms/step\n",
      "1/1 [==============================] - 0s 353ms/step\n",
      "1/1 [==============================] - 0s 38ms/step\n",
      "1/1 [==============================] - 0s 356ms/step\n",
      "1/1 [==============================] - 0s 22ms/step\n",
      "1/1 [==============================] - 0s 340ms/step\n",
      "1/1 [==============================] - 0s 21ms/step\n",
      "Model: \"sequential_9\"\n",
      "_________________________________________________________________\n",
      " Layer (type)                Output Shape              Param #   \n",
      "=================================================================\n",
      " lstm_36 (LSTM)              (None, 8, 256)            264192    \n",
      "                                                                 \n",
      " lstm_37 (LSTM)              (None, 8, 128)            197120    \n",
      "                                                                 \n",
      " lstm_38 (LSTM)              (None, 8, 64)             49408     \n",
      "                                                                 \n",
      " lstm_39 (LSTM)              (None, 64)                33024     \n",
      "                                                                 \n",
      " dense_9 (Dense)             (None, 1)                 65        \n",
      "                                                                 \n",
      "=================================================================\n",
      "Total params: 543809 (2.07 MB)\n",
      "Trainable params: 543809 (2.07 MB)\n",
      "Non-trainable params: 0 (0.00 Byte)\n",
      "_________________________________________________________________\n",
      "INFO:tensorflow:Assets written to: model/assets\n"
     ]
    },
    {
     "name": "stderr",
     "output_type": "stream",
     "text": [
      "INFO:tensorflow:Assets written to: model/assets\n"
     ]
    },
    {
     "name": "stdout",
     "output_type": "stream",
     "text": [
      "INFO:tensorflow:Assets written to: model/assets\n"
     ]
    },
    {
     "name": "stderr",
     "output_type": "stream",
     "text": [
      "INFO:tensorflow:Assets written to: model/assets\n"
     ]
    },
    {
     "name": "stdout",
     "output_type": "stream",
     "text": [
      "INFO:tensorflow:Assets written to: model/assets\n"
     ]
    },
    {
     "name": "stderr",
     "output_type": "stream",
     "text": [
      "INFO:tensorflow:Assets written to: model/assets\n"
     ]
    },
    {
     "name": "stdout",
     "output_type": "stream",
     "text": [
      "INFO:tensorflow:Assets written to: model/assets\n"
     ]
    },
    {
     "name": "stderr",
     "output_type": "stream",
     "text": [
      "INFO:tensorflow:Assets written to: model/assets\n"
     ]
    },
    {
     "name": "stdout",
     "output_type": "stream",
     "text": [
      "1/1 [==============================] - 0s 413ms/step\n",
      "1/1 [==============================] - 0s 28ms/step\n",
      "1/1 [==============================] - 0s 363ms/step\n",
      "1/1 [==============================] - 0s 23ms/step\n",
      "1/1 [==============================] - 0s 449ms/step\n",
      "1/1 [==============================] - 0s 60ms/step\n",
      "INFO:tensorflow:Assets written to: model/assets\n"
     ]
    },
    {
     "name": "stderr",
     "output_type": "stream",
     "text": [
      "INFO:tensorflow:Assets written to: model/assets\n"
     ]
    },
    {
     "name": "stdout",
     "output_type": "stream",
     "text": [
      "1/1 [==============================] - 0s 474ms/step\n",
      "1/1 [==============================] - 0s 24ms/step\n",
      "1/1 [==============================] - 0s 414ms/step\n",
      "1/1 [==============================] - 0s 21ms/step\n"
     ]
    }
   ],
   "source": [
    "# Storage\n",
    "for i in range(10):\n",
    "\n",
    "    preds_test = []\n",
    "    preds_val = []\n",
    "\n",
    "    walk_history_storage = []\n",
    "\n",
    "    walk_mda_test = []\n",
    "    walk_mda_val = []\n",
    "\n",
    "    history = 0 \n",
    "\n",
    "    model = Sequential()\n",
    "    model.add(InputLayer((8, 1)))\n",
    "    model.add(LSTM(256, activation='relu', return_sequences=True))\n",
    "    model.add(LSTM(128, activation='relu', return_sequences=True))\n",
    "    model.add(LSTM(64, activation='relu', return_sequences=True))\n",
    "    model.add(LSTM(64, activation='relu'))\n",
    "    model.add(Dense(1))\n",
    "\n",
    "    model.summary()\n",
    "\n",
    "    cp = ModelCheckpoint(\"model/\", save_best_only=True, verbose = False)\n",
    "    model.compile(loss=custom_loss, optimizer=Adam(learning_rate=0.01), metrics=[custom_loss])\n",
    "\n",
    "    storage_model = model\n",
    "\n",
    "    for i in range(5):  \n",
    "\n",
    "        history_dict, storage_model = train_model(storage_model, storage_walk_train_x[i], storage_walk_train_y[i], storage_walk_val_x[i], storage_walk_val_y[i], cp)\n",
    "        walk_history_storage.append(history_dict)\n",
    "        preds_test.append(storage_model.predict(storage_walk_test_x[i]))\n",
    "        preds_val.append(storage_model.predict(storage_walk_val_x[i]))\n",
    "\n",
    "        preds_test = np.array(preds_test)\n",
    "        preds_val = np.array(preds_val)\n",
    "\n",
    "        walk_mda_test.append(da(storage_walk_test_y[i],preds_test.reshape(5)))\n",
    "        walk_mda_val.append(da(storage_walk_val_y[i],preds_val.reshape(10)))\n",
    "\n",
    "        predizioni_test_storage.append(preds_test)\n",
    "        predizioni_val_storage.append(preds_val)\n",
    "\n",
    "        preds_test = []\n",
    "        preds_val = []\n",
    "    \n",
    "    MODELS_STORAGE.append(storage_model)\n",
    "    MDA_VAL_STORAGE.append(sum(walk_mda_val)/len(walk_mda_val))\n",
    "    MDA_TEST_STORAGE.append(sum(walk_mda_test)/len(walk_mda_test))\n",
    "    HISTORY_STORAGE.append(walk_history_storage)\n",
    "\n",
    "    walk_mda_test = []\n",
    "    walk_mda_val = []\n"
   ]
  },
  {
   "cell_type": "code",
   "execution_count": 21,
   "metadata": {},
   "outputs": [
    {
     "name": "stdout",
     "output_type": "stream",
     "text": [
      "Model: \"sequential_10\"\n",
      "_________________________________________________________________\n",
      " Layer (type)                Output Shape              Param #   \n",
      "=================================================================\n",
      " lstm_40 (LSTM)              (None, 8, 256)            264192    \n",
      "                                                                 \n",
      " lstm_41 (LSTM)              (None, 8, 128)            197120    \n",
      "                                                                 \n",
      " lstm_42 (LSTM)              (None, 8, 64)             49408     \n",
      "                                                                 \n",
      " lstm_43 (LSTM)              (None, 64)                33024     \n",
      "                                                                 \n",
      " dense_10 (Dense)            (None, 1)                 65        \n",
      "                                                                 \n",
      "=================================================================\n",
      "Total params: 543809 (2.07 MB)\n",
      "Trainable params: 543809 (2.07 MB)\n",
      "Non-trainable params: 0 (0.00 Byte)\n",
      "_________________________________________________________________\n",
      "1/1 [==============================] - 0s 346ms/step\n",
      "1/1 [==============================] - 0s 19ms/step\n",
      "1/1 [==============================] - 0s 403ms/step\n",
      "1/1 [==============================] - 0s 21ms/step\n",
      "1/1 [==============================] - 0s 339ms/step\n",
      "1/1 [==============================] - 0s 21ms/step\n",
      "1/1 [==============================] - 0s 340ms/step\n",
      "1/1 [==============================] - 0s 22ms/step\n",
      "1/1 [==============================] - 0s 345ms/step\n",
      "1/1 [==============================] - 0s 21ms/step\n",
      "Model: \"sequential_11\"\n",
      "_________________________________________________________________\n",
      " Layer (type)                Output Shape              Param #   \n",
      "=================================================================\n",
      " lstm_44 (LSTM)              (None, 8, 256)            264192    \n",
      "                                                                 \n",
      " lstm_45 (LSTM)              (None, 8, 128)            197120    \n",
      "                                                                 \n",
      " lstm_46 (LSTM)              (None, 8, 64)             49408     \n",
      "                                                                 \n",
      " lstm_47 (LSTM)              (None, 64)                33024     \n",
      "                                                                 \n",
      " dense_11 (Dense)            (None, 1)                 65        \n",
      "                                                                 \n",
      "=================================================================\n",
      "Total params: 543809 (2.07 MB)\n",
      "Trainable params: 543809 (2.07 MB)\n",
      "Non-trainable params: 0 (0.00 Byte)\n",
      "_________________________________________________________________\n",
      "1/1 [==============================] - 0s 352ms/step\n",
      "1/1 [==============================] - 0s 19ms/step\n",
      "1/1 [==============================] - 0s 346ms/step\n",
      "1/1 [==============================] - 0s 21ms/step\n",
      "1/1 [==============================] - 0s 343ms/step\n",
      "1/1 [==============================] - 0s 20ms/step\n",
      "1/1 [==============================] - 0s 351ms/step\n",
      "1/1 [==============================] - 0s 21ms/step\n",
      "1/1 [==============================] - 0s 448ms/step\n",
      "1/1 [==============================] - 0s 51ms/step\n",
      "Model: \"sequential_12\"\n",
      "_________________________________________________________________\n",
      " Layer (type)                Output Shape              Param #   \n",
      "=================================================================\n",
      " lstm_48 (LSTM)              (None, 8, 256)            264192    \n",
      "                                                                 \n",
      " lstm_49 (LSTM)              (None, 8, 128)            197120    \n",
      "                                                                 \n",
      " lstm_50 (LSTM)              (None, 8, 64)             49408     \n",
      "                                                                 \n",
      " lstm_51 (LSTM)              (None, 64)                33024     \n",
      "                                                                 \n",
      " dense_12 (Dense)            (None, 1)                 65        \n",
      "                                                                 \n",
      "=================================================================\n",
      "Total params: 543809 (2.07 MB)\n",
      "Trainable params: 543809 (2.07 MB)\n",
      "Non-trainable params: 0 (0.00 Byte)\n",
      "_________________________________________________________________\n",
      "1/1 [==============================] - 0s 380ms/step\n",
      "1/1 [==============================] - 0s 24ms/step\n",
      "1/1 [==============================] - 0s 368ms/step\n",
      "1/1 [==============================] - 0s 51ms/step\n",
      "1/1 [==============================] - 0s 345ms/step\n",
      "1/1 [==============================] - 0s 21ms/step\n",
      "1/1 [==============================] - 0s 356ms/step\n",
      "1/1 [==============================] - 0s 22ms/step\n",
      "1/1 [==============================] - 0s 361ms/step\n",
      "1/1 [==============================] - 0s 21ms/step\n",
      "Model: \"sequential_13\"\n",
      "_________________________________________________________________\n",
      " Layer (type)                Output Shape              Param #   \n",
      "=================================================================\n",
      " lstm_52 (LSTM)              (None, 8, 256)            264192    \n",
      "                                                                 \n",
      " lstm_53 (LSTM)              (None, 8, 128)            197120    \n",
      "                                                                 \n",
      " lstm_54 (LSTM)              (None, 8, 64)             49408     \n",
      "                                                                 \n",
      " lstm_55 (LSTM)              (None, 64)                33024     \n",
      "                                                                 \n",
      " dense_13 (Dense)            (None, 1)                 65        \n",
      "                                                                 \n",
      "=================================================================\n",
      "Total params: 543809 (2.07 MB)\n",
      "Trainable params: 543809 (2.07 MB)\n",
      "Non-trainable params: 0 (0.00 Byte)\n",
      "_________________________________________________________________\n",
      "1/1 [==============================] - 0s 347ms/step\n",
      "1/1 [==============================] - 0s 20ms/step\n",
      "1/1 [==============================] - 0s 355ms/step\n",
      "1/1 [==============================] - 0s 20ms/step\n",
      "1/1 [==============================] - 0s 359ms/step\n",
      "1/1 [==============================] - 0s 21ms/step\n",
      "1/1 [==============================] - 0s 344ms/step\n",
      "1/1 [==============================] - 0s 21ms/step\n",
      "1/1 [==============================] - 0s 346ms/step\n",
      "1/1 [==============================] - 0s 22ms/step\n",
      "Model: \"sequential_14\"\n",
      "_________________________________________________________________\n",
      " Layer (type)                Output Shape              Param #   \n",
      "=================================================================\n",
      " lstm_56 (LSTM)              (None, 8, 256)            264192    \n",
      "                                                                 \n",
      " lstm_57 (LSTM)              (None, 8, 128)            197120    \n",
      "                                                                 \n",
      " lstm_58 (LSTM)              (None, 8, 64)             49408     \n",
      "                                                                 \n",
      " lstm_59 (LSTM)              (None, 64)                33024     \n",
      "                                                                 \n",
      " dense_14 (Dense)            (None, 1)                 65        \n",
      "                                                                 \n",
      "=================================================================\n",
      "Total params: 543809 (2.07 MB)\n",
      "Trainable params: 543809 (2.07 MB)\n",
      "Non-trainable params: 0 (0.00 Byte)\n",
      "_________________________________________________________________\n",
      "1/1 [==============================] - 0s 359ms/step\n",
      "1/1 [==============================] - 0s 20ms/step\n",
      "1/1 [==============================] - 0s 348ms/step\n",
      "1/1 [==============================] - 0s 27ms/step\n",
      "1/1 [==============================] - 0s 347ms/step\n",
      "1/1 [==============================] - 0s 20ms/step\n",
      "1/1 [==============================] - 0s 353ms/step\n",
      "1/1 [==============================] - 0s 21ms/step\n",
      "1/1 [==============================] - 0s 355ms/step\n",
      "1/1 [==============================] - 0s 21ms/step\n"
     ]
    }
   ],
   "source": [
    "HISTORY_VIRTUAL_MACHINES = []\n",
    "MODELS_VIRTUAL_MACHINES = []\n",
    "MDA_TEST_VIRTUAL_MACHINES = []\n",
    "MDA_VAL_VIRTUAL_MACHINES = []\n",
    "\n",
    "predizioni_test_virtual_machines = []\n",
    "predizioni_val_virtual_machines = []\n",
    "\n",
    "\n",
    "# virtual machines\n",
    "for i in range(5):\n",
    "\n",
    "    preds_test = []\n",
    "    preds_val = []\n",
    "\n",
    "    walk_history_virtual_machines = []\n",
    "\n",
    "    walk_mda_test = []\n",
    "    walk_mda_val = []\n",
    "\n",
    "    history = 0 \n",
    "\n",
    "    model = Sequential()\n",
    "    model.add(InputLayer((8, 1)))\n",
    "    model.add(LSTM(256, activation='relu', return_sequences=True))\n",
    "    model.add(LSTM(128, activation='relu', return_sequences=True))\n",
    "    model.add(LSTM(64, activation='relu', return_sequences=True))\n",
    "    model.add(LSTM(64, activation='relu'))\n",
    "    model.add(Dense(1))\n",
    "\n",
    "    model.summary()\n",
    "\n",
    "    cp = ModelCheckpoint(\"model/\", save_best_only=True, verbose = False)\n",
    "    model.compile(loss=custom_loss, optimizer=Adam(learning_rate=0.01), metrics=[custom_loss])\n",
    "\n",
    "    virtual_machines_model = model\n",
    "\n",
    "    for i in range(5):  \n",
    "\n",
    "        #virtual machines\n",
    "        history_dict, virtual_machines_model = train_model(virtual_machines_model, virtual_machines_walk_train_x[i], virtual_machines_walk_train_y[i], virtual_machines_walk_val_x[i], virtual_machines_walk_val_y[i], cp)\n",
    "        walk_history_virtual_machines.append(history_dict)\n",
    "        preds_test.append(virtual_machines_model.predict(virtual_machines_walk_test_x[i]))\n",
    "        preds_val.append(virtual_machines_model.predict(virtual_machines_walk_val_x[i]))\n",
    "\n",
    "        preds_test = np.array(preds_test)\n",
    "        preds_val = np.array(preds_val)\n",
    "\n",
    "        walk_mda_test.append(da(virtual_machines_walk_test_y[i],preds_test.reshape(5)))\n",
    "        walk_mda_val.append(da(virtual_machines_walk_val_y[i],preds_val.reshape(10)))\n",
    "\n",
    "        predizioni_test_virtual_machines.append(preds_test)\n",
    "        predizioni_val_virtual_machines.append(preds_val)\n",
    "\n",
    "        preds_test = []\n",
    "        preds_val = []\n",
    "    \n",
    "    MODELS_VIRTUAL_MACHINES.append(virtual_machines_model)\n",
    "    MDA_VAL_VIRTUAL_MACHINES.append(sum(walk_mda_val)/len(walk_mda_val))\n",
    "    MDA_TEST_VIRTUAL_MACHINES.append(sum(walk_mda_test)/len(walk_mda_test))\n",
    "    HISTORY_VIRTUAL_MACHINES.append(walk_history_virtual_machines)\n",
    "\n",
    "    walk_mda_test = []\n",
    "    walk_mda_val = []"
   ]
  },
  {
   "cell_type": "code",
   "execution_count": 22,
   "metadata": {},
   "outputs": [
    {
     "name": "stdout",
     "output_type": "stream",
     "text": [
      "Model: \"sequential_15\"\n",
      "_________________________________________________________________\n",
      " Layer (type)                Output Shape              Param #   \n",
      "=================================================================\n",
      " lstm_60 (LSTM)              (None, 8, 256)            264192    \n",
      "                                                                 \n",
      " lstm_61 (LSTM)              (None, 8, 128)            197120    \n",
      "                                                                 \n",
      " lstm_62 (LSTM)              (None, 8, 64)             49408     \n",
      "                                                                 \n",
      " lstm_63 (LSTM)              (None, 64)                33024     \n",
      "                                                                 \n",
      " dense_15 (Dense)            (None, 1)                 65        \n",
      "                                                                 \n",
      "=================================================================\n",
      "Total params: 543809 (2.07 MB)\n",
      "Trainable params: 543809 (2.07 MB)\n",
      "Non-trainable params: 0 (0.00 Byte)\n",
      "_________________________________________________________________\n",
      "INFO:tensorflow:Assets written to: model/assets\n"
     ]
    },
    {
     "name": "stderr",
     "output_type": "stream",
     "text": [
      "INFO:tensorflow:Assets written to: model/assets\n"
     ]
    },
    {
     "name": "stdout",
     "output_type": "stream",
     "text": [
      "INFO:tensorflow:Assets written to: model/assets\n"
     ]
    },
    {
     "name": "stderr",
     "output_type": "stream",
     "text": [
      "INFO:tensorflow:Assets written to: model/assets\n"
     ]
    },
    {
     "name": "stdout",
     "output_type": "stream",
     "text": [
      "INFO:tensorflow:Assets written to: model/assets\n"
     ]
    },
    {
     "name": "stderr",
     "output_type": "stream",
     "text": [
      "INFO:tensorflow:Assets written to: model/assets\n"
     ]
    },
    {
     "name": "stdout",
     "output_type": "stream",
     "text": [
      "INFO:tensorflow:Assets written to: model/assets\n"
     ]
    },
    {
     "name": "stderr",
     "output_type": "stream",
     "text": [
      "INFO:tensorflow:Assets written to: model/assets\n"
     ]
    },
    {
     "name": "stdout",
     "output_type": "stream",
     "text": [
      "INFO:tensorflow:Assets written to: model/assets\n"
     ]
    },
    {
     "name": "stderr",
     "output_type": "stream",
     "text": [
      "INFO:tensorflow:Assets written to: model/assets\n"
     ]
    },
    {
     "name": "stdout",
     "output_type": "stream",
     "text": [
      "INFO:tensorflow:Assets written to: model/assets\n"
     ]
    },
    {
     "name": "stderr",
     "output_type": "stream",
     "text": [
      "INFO:tensorflow:Assets written to: model/assets\n"
     ]
    },
    {
     "name": "stdout",
     "output_type": "stream",
     "text": [
      "INFO:tensorflow:Assets written to: model/assets\n"
     ]
    },
    {
     "name": "stderr",
     "output_type": "stream",
     "text": [
      "INFO:tensorflow:Assets written to: model/assets\n"
     ]
    },
    {
     "name": "stdout",
     "output_type": "stream",
     "text": [
      "1/1 [==============================] - 0s 357ms/step\n",
      "1/1 [==============================] - 0s 26ms/step\n",
      "1/1 [==============================] - 0s 362ms/step\n",
      "1/1 [==============================] - 0s 20ms/step\n",
      "1/1 [==============================] - 0s 351ms/step\n",
      "1/1 [==============================] - 0s 24ms/step\n",
      "1/1 [==============================] - 0s 357ms/step\n",
      "1/1 [==============================] - 0s 21ms/step\n",
      "1/1 [==============================] - 0s 361ms/step\n",
      "1/1 [==============================] - 0s 26ms/step\n",
      "Model: \"sequential_16\"\n",
      "_________________________________________________________________\n",
      " Layer (type)                Output Shape              Param #   \n",
      "=================================================================\n",
      " lstm_64 (LSTM)              (None, 8, 256)            264192    \n",
      "                                                                 \n",
      " lstm_65 (LSTM)              (None, 8, 128)            197120    \n",
      "                                                                 \n",
      " lstm_66 (LSTM)              (None, 8, 64)             49408     \n",
      "                                                                 \n",
      " lstm_67 (LSTM)              (None, 64)                33024     \n",
      "                                                                 \n",
      " dense_16 (Dense)            (None, 1)                 65        \n",
      "                                                                 \n",
      "=================================================================\n",
      "Total params: 543809 (2.07 MB)\n",
      "Trainable params: 543809 (2.07 MB)\n",
      "Non-trainable params: 0 (0.00 Byte)\n",
      "_________________________________________________________________\n",
      "INFO:tensorflow:Assets written to: model/assets\n"
     ]
    },
    {
     "name": "stderr",
     "output_type": "stream",
     "text": [
      "INFO:tensorflow:Assets written to: model/assets\n"
     ]
    },
    {
     "name": "stdout",
     "output_type": "stream",
     "text": [
      "INFO:tensorflow:Assets written to: model/assets\n"
     ]
    },
    {
     "name": "stderr",
     "output_type": "stream",
     "text": [
      "INFO:tensorflow:Assets written to: model/assets\n"
     ]
    },
    {
     "name": "stdout",
     "output_type": "stream",
     "text": [
      "INFO:tensorflow:Assets written to: model/assets\n"
     ]
    },
    {
     "name": "stderr",
     "output_type": "stream",
     "text": [
      "INFO:tensorflow:Assets written to: model/assets\n"
     ]
    },
    {
     "name": "stdout",
     "output_type": "stream",
     "text": [
      "INFO:tensorflow:Assets written to: model/assets\n"
     ]
    },
    {
     "name": "stderr",
     "output_type": "stream",
     "text": [
      "INFO:tensorflow:Assets written to: model/assets\n"
     ]
    },
    {
     "name": "stdout",
     "output_type": "stream",
     "text": [
      "1/1 [==============================] - 0s 374ms/step\n",
      "1/1 [==============================] - 0s 22ms/step\n",
      "1/1 [==============================] - 0s 365ms/step\n",
      "1/1 [==============================] - 0s 21ms/step\n",
      "1/1 [==============================] - 0s 371ms/step\n",
      "1/1 [==============================] - 0s 20ms/step\n",
      "1/1 [==============================] - 0s 360ms/step\n",
      "1/1 [==============================] - 0s 20ms/step\n",
      "1/1 [==============================] - 0s 364ms/step\n",
      "1/1 [==============================] - 0s 22ms/step\n",
      "Model: \"sequential_17\"\n",
      "_________________________________________________________________\n",
      " Layer (type)                Output Shape              Param #   \n",
      "=================================================================\n",
      " lstm_68 (LSTM)              (None, 8, 256)            264192    \n",
      "                                                                 \n",
      " lstm_69 (LSTM)              (None, 8, 128)            197120    \n",
      "                                                                 \n",
      " lstm_70 (LSTM)              (None, 8, 64)             49408     \n",
      "                                                                 \n",
      " lstm_71 (LSTM)              (None, 64)                33024     \n",
      "                                                                 \n",
      " dense_17 (Dense)            (None, 1)                 65        \n",
      "                                                                 \n",
      "=================================================================\n",
      "Total params: 543809 (2.07 MB)\n",
      "Trainable params: 543809 (2.07 MB)\n",
      "Non-trainable params: 0 (0.00 Byte)\n",
      "_________________________________________________________________\n",
      "INFO:tensorflow:Assets written to: model/assets\n"
     ]
    },
    {
     "name": "stderr",
     "output_type": "stream",
     "text": [
      "INFO:tensorflow:Assets written to: model/assets\n"
     ]
    },
    {
     "name": "stdout",
     "output_type": "stream",
     "text": [
      "INFO:tensorflow:Assets written to: model/assets\n"
     ]
    },
    {
     "name": "stderr",
     "output_type": "stream",
     "text": [
      "INFO:tensorflow:Assets written to: model/assets\n"
     ]
    },
    {
     "name": "stdout",
     "output_type": "stream",
     "text": [
      "INFO:tensorflow:Assets written to: model/assets\n"
     ]
    },
    {
     "name": "stderr",
     "output_type": "stream",
     "text": [
      "INFO:tensorflow:Assets written to: model/assets\n"
     ]
    },
    {
     "name": "stdout",
     "output_type": "stream",
     "text": [
      "INFO:tensorflow:Assets written to: model/assets\n"
     ]
    },
    {
     "name": "stderr",
     "output_type": "stream",
     "text": [
      "INFO:tensorflow:Assets written to: model/assets\n"
     ]
    },
    {
     "name": "stdout",
     "output_type": "stream",
     "text": [
      "INFO:tensorflow:Assets written to: model/assets\n"
     ]
    },
    {
     "name": "stderr",
     "output_type": "stream",
     "text": [
      "INFO:tensorflow:Assets written to: model/assets\n"
     ]
    },
    {
     "name": "stdout",
     "output_type": "stream",
     "text": [
      "INFO:tensorflow:Assets written to: model/assets\n"
     ]
    },
    {
     "name": "stderr",
     "output_type": "stream",
     "text": [
      "INFO:tensorflow:Assets written to: model/assets\n"
     ]
    },
    {
     "name": "stdout",
     "output_type": "stream",
     "text": [
      "1/1 [==============================] - 0s 355ms/step\n",
      "1/1 [==============================] - 0s 20ms/step\n",
      "1/1 [==============================] - 0s 351ms/step\n",
      "1/1 [==============================] - 0s 19ms/step\n",
      "1/1 [==============================] - 0s 346ms/step\n",
      "1/1 [==============================] - 0s 21ms/step\n",
      "1/1 [==============================] - 0s 363ms/step\n",
      "1/1 [==============================] - 0s 20ms/step\n",
      "1/1 [==============================] - 0s 358ms/step\n",
      "1/1 [==============================] - 0s 20ms/step\n",
      "Model: \"sequential_18\"\n",
      "_________________________________________________________________\n",
      " Layer (type)                Output Shape              Param #   \n",
      "=================================================================\n",
      " lstm_72 (LSTM)              (None, 8, 256)            264192    \n",
      "                                                                 \n",
      " lstm_73 (LSTM)              (None, 8, 128)            197120    \n",
      "                                                                 \n",
      " lstm_74 (LSTM)              (None, 8, 64)             49408     \n",
      "                                                                 \n",
      " lstm_75 (LSTM)              (None, 64)                33024     \n",
      "                                                                 \n",
      " dense_18 (Dense)            (None, 1)                 65        \n",
      "                                                                 \n",
      "=================================================================\n",
      "Total params: 543809 (2.07 MB)\n",
      "Trainable params: 543809 (2.07 MB)\n",
      "Non-trainable params: 0 (0.00 Byte)\n",
      "_________________________________________________________________\n",
      "INFO:tensorflow:Assets written to: model/assets\n"
     ]
    },
    {
     "name": "stderr",
     "output_type": "stream",
     "text": [
      "INFO:tensorflow:Assets written to: model/assets\n"
     ]
    },
    {
     "name": "stdout",
     "output_type": "stream",
     "text": [
      "INFO:tensorflow:Assets written to: model/assets\n"
     ]
    },
    {
     "name": "stderr",
     "output_type": "stream",
     "text": [
      "INFO:tensorflow:Assets written to: model/assets\n"
     ]
    },
    {
     "name": "stdout",
     "output_type": "stream",
     "text": [
      "INFO:tensorflow:Assets written to: model/assets\n"
     ]
    },
    {
     "name": "stderr",
     "output_type": "stream",
     "text": [
      "INFO:tensorflow:Assets written to: model/assets\n"
     ]
    },
    {
     "name": "stdout",
     "output_type": "stream",
     "text": [
      "INFO:tensorflow:Assets written to: model/assets\n"
     ]
    },
    {
     "name": "stderr",
     "output_type": "stream",
     "text": [
      "INFO:tensorflow:Assets written to: model/assets\n"
     ]
    },
    {
     "name": "stdout",
     "output_type": "stream",
     "text": [
      "1/1 [==============================] - 0s 369ms/step\n",
      "1/1 [==============================] - 0s 19ms/step\n",
      "1/1 [==============================] - 0s 364ms/step\n",
      "1/1 [==============================] - 0s 22ms/step\n",
      "1/1 [==============================] - 0s 365ms/step\n",
      "1/1 [==============================] - 0s 20ms/step\n",
      "1/1 [==============================] - 0s 346ms/step\n",
      "1/1 [==============================] - 0s 21ms/step\n",
      "1/1 [==============================] - 0s 357ms/step\n",
      "1/1 [==============================] - 0s 20ms/step\n",
      "Model: \"sequential_19\"\n",
      "_________________________________________________________________\n",
      " Layer (type)                Output Shape              Param #   \n",
      "=================================================================\n",
      " lstm_76 (LSTM)              (None, 8, 256)            264192    \n",
      "                                                                 \n",
      " lstm_77 (LSTM)              (None, 8, 128)            197120    \n",
      "                                                                 \n",
      " lstm_78 (LSTM)              (None, 8, 64)             49408     \n",
      "                                                                 \n",
      " lstm_79 (LSTM)              (None, 64)                33024     \n",
      "                                                                 \n",
      " dense_19 (Dense)            (None, 1)                 65        \n",
      "                                                                 \n",
      "=================================================================\n",
      "Total params: 543809 (2.07 MB)\n",
      "Trainable params: 543809 (2.07 MB)\n",
      "Non-trainable params: 0 (0.00 Byte)\n",
      "_________________________________________________________________\n",
      "INFO:tensorflow:Assets written to: model/assets\n"
     ]
    },
    {
     "name": "stderr",
     "output_type": "stream",
     "text": [
      "INFO:tensorflow:Assets written to: model/assets\n"
     ]
    },
    {
     "name": "stdout",
     "output_type": "stream",
     "text": [
      "INFO:tensorflow:Assets written to: model/assets\n"
     ]
    },
    {
     "name": "stderr",
     "output_type": "stream",
     "text": [
      "INFO:tensorflow:Assets written to: model/assets\n"
     ]
    },
    {
     "name": "stdout",
     "output_type": "stream",
     "text": [
      "INFO:tensorflow:Assets written to: model/assets\n"
     ]
    },
    {
     "name": "stderr",
     "output_type": "stream",
     "text": [
      "INFO:tensorflow:Assets written to: model/assets\n"
     ]
    },
    {
     "name": "stdout",
     "output_type": "stream",
     "text": [
      "1/1 [==============================] - 0s 363ms/step\n",
      "1/1 [==============================] - 0s 20ms/step\n",
      "1/1 [==============================] - 0s 353ms/step\n",
      "1/1 [==============================] - 0s 21ms/step\n",
      "1/1 [==============================] - 0s 362ms/step\n",
      "1/1 [==============================] - 0s 20ms/step\n",
      "1/1 [==============================] - 0s 356ms/step\n",
      "1/1 [==============================] - 0s 21ms/step\n",
      "1/1 [==============================] - 0s 361ms/step\n",
      "1/1 [==============================] - 0s 24ms/step\n"
     ]
    }
   ],
   "source": [
    "# automation\n",
    "for i in range(5):\n",
    "\n",
    "    preds_test = []\n",
    "    preds_val = []\n",
    "\n",
    "    walk_history_automation = []\n",
    "\n",
    "    walk_mda_test = []\n",
    "    walk_mda_val = []\n",
    "\n",
    "    history = 0 \n",
    "\n",
    "    model = Sequential()\n",
    "    model.add(InputLayer((8, 1)))\n",
    "    model.add(LSTM(256, activation='relu', return_sequences=True))\n",
    "    model.add(LSTM(128, activation='relu', return_sequences=True))\n",
    "    model.add(LSTM(64, activation='relu', return_sequences=True))\n",
    "    model.add(LSTM(64, activation='relu'))\n",
    "    model.add(Dense(1))\n",
    "\n",
    "    model.summary()\n",
    "\n",
    "    cp = ModelCheckpoint(\"model/\", save_best_only=True, verbose = False)\n",
    "    model.compile(loss=custom_loss, optimizer=Adam(learning_rate=0.01), metrics=[custom_loss])\n",
    "\n",
    "    automation_model = model\n",
    "\n",
    "    for i in range(5):  \n",
    "\n",
    "        history_dict, automation_model = train_model(automation_model, automation_walk_train_x[i], automation_walk_train_y[i], automation_walk_val_x[i], automation_walk_val_y[i], cp)\n",
    "        walk_history_automation.append(history_dict)\n",
    "        preds_test.append(automation_model.predict(automation_walk_test_x[i]))\n",
    "        preds_val.append(automation_model.predict(automation_walk_val_x[i]))\n",
    "\n",
    "        preds_test = np.array(preds_test)\n",
    "        preds_val = np.array(preds_val)\n",
    "\n",
    "        walk_mda_test.append(da(automation_walk_test_y[i],preds_test.reshape(5)))\n",
    "        walk_mda_val.append(da(automation_walk_val_y[i],preds_val.reshape(10)))\n",
    "\n",
    "        predizioni_test_automation.append(preds_test)\n",
    "        predizioni_val_automation.append(preds_val)\n",
    "\n",
    "        preds_test = []\n",
    "        preds_val = []\n",
    "    \n",
    "    MODELS_AUTOMATION.append(automation_model)\n",
    "    MDA_VAL_AUTOMATION.append(sum(walk_mda_val)/len(walk_mda_val))\n",
    "    MDA_TEST_AUTOMATION.append(sum(walk_mda_test)/len(walk_mda_test))\n",
    "    HISTORY_AUTOMATION.append(walk_history_automation)\n",
    "\n",
    "    walk_mda_test = []\n",
    "    walk_mda_val = []"
   ]
  },
  {
   "cell_type": "code",
   "execution_count": 23,
   "metadata": {},
   "outputs": [
    {
     "name": "stdout",
     "output_type": "stream",
     "text": [
      "Model: \"sequential_20\"\n",
      "_________________________________________________________________\n",
      " Layer (type)                Output Shape              Param #   \n",
      "=================================================================\n",
      " lstm_80 (LSTM)              (None, 8, 256)            264192    \n",
      "                                                                 \n",
      " lstm_81 (LSTM)              (None, 8, 128)            197120    \n",
      "                                                                 \n",
      " lstm_82 (LSTM)              (None, 8, 64)             49408     \n",
      "                                                                 \n",
      " lstm_83 (LSTM)              (None, 64)                33024     \n",
      "                                                                 \n",
      " dense_20 (Dense)            (None, 1)                 65        \n",
      "                                                                 \n",
      "=================================================================\n",
      "Total params: 543809 (2.07 MB)\n",
      "Trainable params: 543809 (2.07 MB)\n",
      "Non-trainable params: 0 (0.00 Byte)\n",
      "_________________________________________________________________\n",
      "INFO:tensorflow:Assets written to: model/assets\n"
     ]
    },
    {
     "name": "stderr",
     "output_type": "stream",
     "text": [
      "INFO:tensorflow:Assets written to: model/assets\n"
     ]
    },
    {
     "name": "stdout",
     "output_type": "stream",
     "text": [
      "INFO:tensorflow:Assets written to: model/assets\n"
     ]
    },
    {
     "name": "stderr",
     "output_type": "stream",
     "text": [
      "INFO:tensorflow:Assets written to: model/assets\n"
     ]
    },
    {
     "name": "stdout",
     "output_type": "stream",
     "text": [
      "INFO:tensorflow:Assets written to: model/assets\n"
     ]
    },
    {
     "name": "stderr",
     "output_type": "stream",
     "text": [
      "INFO:tensorflow:Assets written to: model/assets\n"
     ]
    },
    {
     "name": "stdout",
     "output_type": "stream",
     "text": [
      "INFO:tensorflow:Assets written to: model/assets\n"
     ]
    },
    {
     "name": "stderr",
     "output_type": "stream",
     "text": [
      "INFO:tensorflow:Assets written to: model/assets\n"
     ]
    },
    {
     "name": "stdout",
     "output_type": "stream",
     "text": [
      "INFO:tensorflow:Assets written to: model/assets\n"
     ]
    },
    {
     "name": "stderr",
     "output_type": "stream",
     "text": [
      "INFO:tensorflow:Assets written to: model/assets\n"
     ]
    },
    {
     "name": "stdout",
     "output_type": "stream",
     "text": [
      "1/1 [==============================] - 0s 346ms/step\n",
      "1/1 [==============================] - 0s 55ms/step\n",
      "1/1 [==============================] - 0s 369ms/step\n",
      "1/1 [==============================] - 0s 30ms/step\n",
      "INFO:tensorflow:Assets written to: model/assets\n"
     ]
    },
    {
     "name": "stderr",
     "output_type": "stream",
     "text": [
      "INFO:tensorflow:Assets written to: model/assets\n"
     ]
    },
    {
     "name": "stdout",
     "output_type": "stream",
     "text": [
      "1/1 [==============================] - 0s 356ms/step\n",
      "1/1 [==============================] - 0s 48ms/step\n",
      "1/1 [==============================] - 0s 358ms/step\n",
      "1/1 [==============================] - 0s 21ms/step\n",
      "1/1 [==============================] - 0s 362ms/step\n",
      "1/1 [==============================] - 0s 20ms/step\n",
      "Model: \"sequential_21\"\n",
      "_________________________________________________________________\n",
      " Layer (type)                Output Shape              Param #   \n",
      "=================================================================\n",
      " lstm_84 (LSTM)              (None, 8, 256)            264192    \n",
      "                                                                 \n",
      " lstm_85 (LSTM)              (None, 8, 128)            197120    \n",
      "                                                                 \n",
      " lstm_86 (LSTM)              (None, 8, 64)             49408     \n",
      "                                                                 \n",
      " lstm_87 (LSTM)              (None, 64)                33024     \n",
      "                                                                 \n",
      " dense_21 (Dense)            (None, 1)                 65        \n",
      "                                                                 \n",
      "=================================================================\n",
      "Total params: 543809 (2.07 MB)\n",
      "Trainable params: 543809 (2.07 MB)\n",
      "Non-trainable params: 0 (0.00 Byte)\n",
      "_________________________________________________________________\n",
      "INFO:tensorflow:Assets written to: model/assets\n"
     ]
    },
    {
     "name": "stderr",
     "output_type": "stream",
     "text": [
      "INFO:tensorflow:Assets written to: model/assets\n"
     ]
    },
    {
     "name": "stdout",
     "output_type": "stream",
     "text": [
      "INFO:tensorflow:Assets written to: model/assets\n"
     ]
    },
    {
     "name": "stderr",
     "output_type": "stream",
     "text": [
      "INFO:tensorflow:Assets written to: model/assets\n"
     ]
    },
    {
     "name": "stdout",
     "output_type": "stream",
     "text": [
      "INFO:tensorflow:Assets written to: model/assets\n"
     ]
    },
    {
     "name": "stderr",
     "output_type": "stream",
     "text": [
      "INFO:tensorflow:Assets written to: model/assets\n"
     ]
    },
    {
     "name": "stdout",
     "output_type": "stream",
     "text": [
      "INFO:tensorflow:Assets written to: model/assets\n"
     ]
    },
    {
     "name": "stderr",
     "output_type": "stream",
     "text": [
      "INFO:tensorflow:Assets written to: model/assets\n"
     ]
    },
    {
     "name": "stdout",
     "output_type": "stream",
     "text": [
      "1/1 [==============================] - 0s 355ms/step\n",
      "1/1 [==============================] - 0s 21ms/step\n",
      "1/1 [==============================] - 0s 363ms/step\n",
      "1/1 [==============================] - 0s 20ms/step\n",
      "1/1 [==============================] - 0s 390ms/step\n",
      "1/1 [==============================] - 0s 20ms/step\n",
      "1/1 [==============================] - 0s 350ms/step\n",
      "1/1 [==============================] - 0s 22ms/step\n",
      "1/1 [==============================] - 0s 350ms/step\n",
      "1/1 [==============================] - 0s 20ms/step\n",
      "Model: \"sequential_22\"\n",
      "_________________________________________________________________\n",
      " Layer (type)                Output Shape              Param #   \n",
      "=================================================================\n",
      " lstm_88 (LSTM)              (None, 8, 256)            264192    \n",
      "                                                                 \n",
      " lstm_89 (LSTM)              (None, 8, 128)            197120    \n",
      "                                                                 \n",
      " lstm_90 (LSTM)              (None, 8, 64)             49408     \n",
      "                                                                 \n",
      " lstm_91 (LSTM)              (None, 64)                33024     \n",
      "                                                                 \n",
      " dense_22 (Dense)            (None, 1)                 65        \n",
      "                                                                 \n",
      "=================================================================\n",
      "Total params: 543809 (2.07 MB)\n",
      "Trainable params: 543809 (2.07 MB)\n",
      "Non-trainable params: 0 (0.00 Byte)\n",
      "_________________________________________________________________\n",
      "INFO:tensorflow:Assets written to: model/assets\n"
     ]
    },
    {
     "name": "stderr",
     "output_type": "stream",
     "text": [
      "INFO:tensorflow:Assets written to: model/assets\n"
     ]
    },
    {
     "name": "stdout",
     "output_type": "stream",
     "text": [
      "INFO:tensorflow:Assets written to: model/assets\n"
     ]
    },
    {
     "name": "stderr",
     "output_type": "stream",
     "text": [
      "INFO:tensorflow:Assets written to: model/assets\n"
     ]
    },
    {
     "name": "stdout",
     "output_type": "stream",
     "text": [
      "INFO:tensorflow:Assets written to: model/assets\n"
     ]
    },
    {
     "name": "stderr",
     "output_type": "stream",
     "text": [
      "INFO:tensorflow:Assets written to: model/assets\n"
     ]
    },
    {
     "name": "stdout",
     "output_type": "stream",
     "text": [
      "INFO:tensorflow:Assets written to: model/assets\n"
     ]
    },
    {
     "name": "stderr",
     "output_type": "stream",
     "text": [
      "INFO:tensorflow:Assets written to: model/assets\n"
     ]
    },
    {
     "name": "stdout",
     "output_type": "stream",
     "text": [
      "INFO:tensorflow:Assets written to: model/assets\n"
     ]
    },
    {
     "name": "stderr",
     "output_type": "stream",
     "text": [
      "INFO:tensorflow:Assets written to: model/assets\n"
     ]
    },
    {
     "name": "stdout",
     "output_type": "stream",
     "text": [
      "1/1 [==============================] - 0s 365ms/step\n",
      "1/1 [==============================] - 0s 20ms/step\n",
      "1/1 [==============================] - 0s 358ms/step\n",
      "1/1 [==============================] - 0s 21ms/step\n",
      "INFO:tensorflow:Assets written to: model/assets\n"
     ]
    },
    {
     "name": "stderr",
     "output_type": "stream",
     "text": [
      "INFO:tensorflow:Assets written to: model/assets\n"
     ]
    },
    {
     "name": "stdout",
     "output_type": "stream",
     "text": [
      "1/1 [==============================] - 0s 372ms/step\n",
      "1/1 [==============================] - 0s 22ms/step\n",
      "1/1 [==============================] - 0s 357ms/step\n",
      "1/1 [==============================] - 0s 20ms/step\n",
      "1/1 [==============================] - 0s 364ms/step\n",
      "1/1 [==============================] - 0s 20ms/step\n",
      "Model: \"sequential_23\"\n",
      "_________________________________________________________________\n",
      " Layer (type)                Output Shape              Param #   \n",
      "=================================================================\n",
      " lstm_92 (LSTM)              (None, 8, 256)            264192    \n",
      "                                                                 \n",
      " lstm_93 (LSTM)              (None, 8, 128)            197120    \n",
      "                                                                 \n",
      " lstm_94 (LSTM)              (None, 8, 64)             49408     \n",
      "                                                                 \n",
      " lstm_95 (LSTM)              (None, 64)                33024     \n",
      "                                                                 \n",
      " dense_23 (Dense)            (None, 1)                 65        \n",
      "                                                                 \n",
      "=================================================================\n",
      "Total params: 543809 (2.07 MB)\n",
      "Trainable params: 543809 (2.07 MB)\n",
      "Non-trainable params: 0 (0.00 Byte)\n",
      "_________________________________________________________________\n",
      "INFO:tensorflow:Assets written to: model/assets\n"
     ]
    },
    {
     "name": "stderr",
     "output_type": "stream",
     "text": [
      "INFO:tensorflow:Assets written to: model/assets\n"
     ]
    },
    {
     "name": "stdout",
     "output_type": "stream",
     "text": [
      "INFO:tensorflow:Assets written to: model/assets\n"
     ]
    },
    {
     "name": "stderr",
     "output_type": "stream",
     "text": [
      "INFO:tensorflow:Assets written to: model/assets\n"
     ]
    },
    {
     "name": "stdout",
     "output_type": "stream",
     "text": [
      "INFO:tensorflow:Assets written to: model/assets\n"
     ]
    },
    {
     "name": "stderr",
     "output_type": "stream",
     "text": [
      "INFO:tensorflow:Assets written to: model/assets\n"
     ]
    },
    {
     "name": "stdout",
     "output_type": "stream",
     "text": [
      "1/1 [==============================] - 0s 353ms/step\n",
      "1/1 [==============================] - 0s 20ms/step\n",
      "1/1 [==============================] - 0s 362ms/step\n",
      "1/1 [==============================] - 0s 25ms/step\n",
      "1/1 [==============================] - 0s 371ms/step\n",
      "1/1 [==============================] - 0s 25ms/step\n",
      "1/1 [==============================] - 0s 386ms/step\n",
      "1/1 [==============================] - 0s 21ms/step\n",
      "1/1 [==============================] - 0s 427ms/step\n",
      "1/1 [==============================] - 0s 24ms/step\n",
      "Model: \"sequential_24\"\n",
      "_________________________________________________________________\n",
      " Layer (type)                Output Shape              Param #   \n",
      "=================================================================\n",
      " lstm_96 (LSTM)              (None, 8, 256)            264192    \n",
      "                                                                 \n",
      " lstm_97 (LSTM)              (None, 8, 128)            197120    \n",
      "                                                                 \n",
      " lstm_98 (LSTM)              (None, 8, 64)             49408     \n",
      "                                                                 \n",
      " lstm_99 (LSTM)              (None, 64)                33024     \n",
      "                                                                 \n",
      " dense_24 (Dense)            (None, 1)                 65        \n",
      "                                                                 \n",
      "=================================================================\n",
      "Total params: 543809 (2.07 MB)\n",
      "Trainable params: 543809 (2.07 MB)\n",
      "Non-trainable params: 0 (0.00 Byte)\n",
      "_________________________________________________________________\n",
      "INFO:tensorflow:Assets written to: model/assets\n"
     ]
    },
    {
     "name": "stderr",
     "output_type": "stream",
     "text": [
      "INFO:tensorflow:Assets written to: model/assets\n"
     ]
    },
    {
     "name": "stdout",
     "output_type": "stream",
     "text": [
      "INFO:tensorflow:Assets written to: model/assets\n"
     ]
    },
    {
     "name": "stderr",
     "output_type": "stream",
     "text": [
      "INFO:tensorflow:Assets written to: model/assets\n"
     ]
    },
    {
     "name": "stdout",
     "output_type": "stream",
     "text": [
      "INFO:tensorflow:Assets written to: model/assets\n"
     ]
    },
    {
     "name": "stderr",
     "output_type": "stream",
     "text": [
      "INFO:tensorflow:Assets written to: model/assets\n"
     ]
    },
    {
     "name": "stdout",
     "output_type": "stream",
     "text": [
      "INFO:tensorflow:Assets written to: model/assets\n"
     ]
    },
    {
     "name": "stderr",
     "output_type": "stream",
     "text": [
      "INFO:tensorflow:Assets written to: model/assets\n"
     ]
    },
    {
     "name": "stdout",
     "output_type": "stream",
     "text": [
      "INFO:tensorflow:Assets written to: model/assets\n"
     ]
    },
    {
     "name": "stderr",
     "output_type": "stream",
     "text": [
      "INFO:tensorflow:Assets written to: model/assets\n"
     ]
    },
    {
     "name": "stdout",
     "output_type": "stream",
     "text": [
      "INFO:tensorflow:Assets written to: model/assets\n"
     ]
    },
    {
     "name": "stderr",
     "output_type": "stream",
     "text": [
      "INFO:tensorflow:Assets written to: model/assets\n"
     ]
    },
    {
     "name": "stdout",
     "output_type": "stream",
     "text": [
      "1/1 [==============================] - 0s 359ms/step\n",
      "1/1 [==============================] - 0s 21ms/step\n",
      "1/1 [==============================] - 0s 361ms/step\n",
      "1/1 [==============================] - 0s 21ms/step\n",
      "1/1 [==============================] - 0s 369ms/step\n",
      "1/1 [==============================] - 0s 21ms/step\n",
      "1/1 [==============================] - 0s 371ms/step\n",
      "1/1 [==============================] - 0s 22ms/step\n",
      "1/1 [==============================] - 0s 368ms/step\n",
      "1/1 [==============================] - 0s 20ms/step\n"
     ]
    }
   ],
   "source": [
    "# logic apps\n",
    "for i in range(5):\n",
    "\n",
    "    preds_test = []\n",
    "    preds_val = []\n",
    "\n",
    "    walk_history_logic_apps = []\n",
    "\n",
    "    walk_mda_test = []\n",
    "    walk_mda_val = []\n",
    "\n",
    "    history = 0 \n",
    "\n",
    "    model = Sequential()\n",
    "    model.add(InputLayer((8, 1)))\n",
    "    model.add(LSTM(256, activation='relu', return_sequences=True))\n",
    "    model.add(LSTM(128, activation='relu', return_sequences=True))\n",
    "    model.add(LSTM(64, activation='relu', return_sequences=True))\n",
    "    model.add(LSTM(64, activation='relu'))\n",
    "    model.add(Dense(1))\n",
    "\n",
    "    model.summary()\n",
    "\n",
    "    cp = ModelCheckpoint(\"model/\", save_best_only=True, verbose = False)\n",
    "    model.compile(loss=custom_loss, optimizer=Adam(learning_rate=0.01), metrics=[custom_loss])\n",
    "\n",
    "    logic_apps_model = model\n",
    "\n",
    "    for i in range(5):  \n",
    "\n",
    "        #storage\n",
    "        history_dict, logic_apps_model = train_model(logic_apps_model, logic_apps_walk_train_x[i], logic_apps_walk_train_y[i], logic_apps_walk_val_x[i], logic_apps_walk_val_y[i], cp)\n",
    "        walk_history_logic_apps.append(history_dict)\n",
    "        preds_test.append(logic_apps_model.predict(logic_apps_walk_test_x[i]))\n",
    "        preds_val.append(logic_apps_model.predict(logic_apps_walk_val_x[i]))\n",
    "\n",
    "        preds_test = np.array(preds_test)\n",
    "        preds_val = np.array(preds_val)\n",
    "\n",
    "        walk_mda_test.append(da(logic_apps_walk_test_y[i],preds_test.reshape(5)))\n",
    "        walk_mda_val.append(da(logic_apps_walk_val_y[i],preds_val.reshape(10)))\n",
    "\n",
    "        predizioni_test_logic_apps.append(preds_test)\n",
    "        predizioni_val_logic_apps.append(preds_val)\n",
    "        \n",
    "        preds_test = []\n",
    "        preds_val = []\n",
    "    \n",
    "    MODELS_LOGIC_APPS.append(logic_apps_model)\n",
    "    MDA_VAL_LOGIC_APPS.append(sum(walk_mda_val)/len(walk_mda_val))\n",
    "    MDA_TEST_LOGIC_APPS.append(sum(walk_mda_test)/len(walk_mda_test))\n",
    "    HISTORY_LOGIC_APPS.append(walk_history_logic_apps)\n",
    "\n",
    "    walk_mda_test = []\n",
    "    walk_mda_val = []"
   ]
  },
  {
   "cell_type": "code",
   "execution_count": 24,
   "metadata": {},
   "outputs": [
    {
     "name": "stdout",
     "output_type": "stream",
     "text": [
      "Model: \"sequential_25\"\n",
      "_________________________________________________________________\n",
      " Layer (type)                Output Shape              Param #   \n",
      "=================================================================\n",
      " lstm_100 (LSTM)             (None, 8, 256)            264192    \n",
      "                                                                 \n",
      " lstm_101 (LSTM)             (None, 8, 128)            197120    \n",
      "                                                                 \n",
      " lstm_102 (LSTM)             (None, 8, 64)             49408     \n",
      "                                                                 \n",
      " lstm_103 (LSTM)             (None, 64)                33024     \n",
      "                                                                 \n",
      " dense_25 (Dense)            (None, 1)                 65        \n",
      "                                                                 \n",
      "=================================================================\n",
      "Total params: 543809 (2.07 MB)\n",
      "Trainable params: 543809 (2.07 MB)\n",
      "Non-trainable params: 0 (0.00 Byte)\n",
      "_________________________________________________________________\n",
      "INFO:tensorflow:Assets written to: model/assets\n"
     ]
    },
    {
     "name": "stderr",
     "output_type": "stream",
     "text": [
      "INFO:tensorflow:Assets written to: model/assets\n"
     ]
    },
    {
     "name": "stdout",
     "output_type": "stream",
     "text": [
      "INFO:tensorflow:Assets written to: model/assets\n"
     ]
    },
    {
     "name": "stderr",
     "output_type": "stream",
     "text": [
      "INFO:tensorflow:Assets written to: model/assets\n"
     ]
    },
    {
     "name": "stdout",
     "output_type": "stream",
     "text": [
      "INFO:tensorflow:Assets written to: model/assets\n"
     ]
    },
    {
     "name": "stderr",
     "output_type": "stream",
     "text": [
      "INFO:tensorflow:Assets written to: model/assets\n"
     ]
    },
    {
     "name": "stdout",
     "output_type": "stream",
     "text": [
      "INFO:tensorflow:Assets written to: model/assets\n"
     ]
    },
    {
     "name": "stderr",
     "output_type": "stream",
     "text": [
      "INFO:tensorflow:Assets written to: model/assets\n"
     ]
    },
    {
     "name": "stdout",
     "output_type": "stream",
     "text": [
      "1/1 [==============================] - 1s 603ms/step\n",
      "1/1 [==============================] - 0s 31ms/step\n",
      "1/1 [==============================] - 0s 366ms/step\n",
      "1/1 [==============================] - 0s 23ms/step\n",
      "INFO:tensorflow:Assets written to: model/assets\n"
     ]
    },
    {
     "name": "stderr",
     "output_type": "stream",
     "text": [
      "INFO:tensorflow:Assets written to: model/assets\n"
     ]
    },
    {
     "name": "stdout",
     "output_type": "stream",
     "text": [
      "1/1 [==============================] - 0s 391ms/step\n",
      "1/1 [==============================] - 0s 21ms/step\n",
      "1/1 [==============================] - 0s 380ms/step\n",
      "1/1 [==============================] - 0s 24ms/step\n",
      "1/1 [==============================] - 0s 400ms/step\n",
      "1/1 [==============================] - 0s 26ms/step\n",
      "Model: \"sequential_26\"\n",
      "_________________________________________________________________\n",
      " Layer (type)                Output Shape              Param #   \n",
      "=================================================================\n",
      " lstm_104 (LSTM)             (None, 8, 256)            264192    \n",
      "                                                                 \n",
      " lstm_105 (LSTM)             (None, 8, 128)            197120    \n",
      "                                                                 \n",
      " lstm_106 (LSTM)             (None, 8, 64)             49408     \n",
      "                                                                 \n",
      " lstm_107 (LSTM)             (None, 64)                33024     \n",
      "                                                                 \n",
      " dense_26 (Dense)            (None, 1)                 65        \n",
      "                                                                 \n",
      "=================================================================\n",
      "Total params: 543809 (2.07 MB)\n",
      "Trainable params: 543809 (2.07 MB)\n",
      "Non-trainable params: 0 (0.00 Byte)\n",
      "_________________________________________________________________\n",
      "INFO:tensorflow:Assets written to: model/assets\n"
     ]
    },
    {
     "name": "stderr",
     "output_type": "stream",
     "text": [
      "INFO:tensorflow:Assets written to: model/assets\n"
     ]
    },
    {
     "name": "stdout",
     "output_type": "stream",
     "text": [
      "INFO:tensorflow:Assets written to: model/assets\n"
     ]
    },
    {
     "name": "stderr",
     "output_type": "stream",
     "text": [
      "INFO:tensorflow:Assets written to: model/assets\n"
     ]
    },
    {
     "name": "stdout",
     "output_type": "stream",
     "text": [
      "INFO:tensorflow:Assets written to: model/assets\n"
     ]
    },
    {
     "name": "stderr",
     "output_type": "stream",
     "text": [
      "INFO:tensorflow:Assets written to: model/assets\n"
     ]
    },
    {
     "name": "stdout",
     "output_type": "stream",
     "text": [
      "INFO:tensorflow:Assets written to: model/assets\n"
     ]
    },
    {
     "name": "stderr",
     "output_type": "stream",
     "text": [
      "INFO:tensorflow:Assets written to: model/assets\n"
     ]
    },
    {
     "name": "stdout",
     "output_type": "stream",
     "text": [
      "1/1 [==============================] - 0s 378ms/step\n",
      "1/1 [==============================] - 0s 25ms/step\n",
      "INFO:tensorflow:Assets written to: model/assets\n"
     ]
    },
    {
     "name": "stderr",
     "output_type": "stream",
     "text": [
      "INFO:tensorflow:Assets written to: model/assets\n"
     ]
    },
    {
     "name": "stdout",
     "output_type": "stream",
     "text": [
      "1/1 [==============================] - 0s 386ms/step\n",
      "1/1 [==============================] - 0s 29ms/step\n",
      "INFO:tensorflow:Assets written to: model/assets\n"
     ]
    },
    {
     "name": "stderr",
     "output_type": "stream",
     "text": [
      "INFO:tensorflow:Assets written to: model/assets\n"
     ]
    },
    {
     "name": "stdout",
     "output_type": "stream",
     "text": [
      "INFO:tensorflow:Assets written to: model/assets\n"
     ]
    },
    {
     "name": "stderr",
     "output_type": "stream",
     "text": [
      "INFO:tensorflow:Assets written to: model/assets\n"
     ]
    },
    {
     "name": "stdout",
     "output_type": "stream",
     "text": [
      "1/1 [==============================] - 0s 375ms/step\n",
      "1/1 [==============================] - 0s 20ms/step\n",
      "1/1 [==============================] - 0s 411ms/step\n",
      "1/1 [==============================] - 0s 28ms/step\n",
      "1/1 [==============================] - 0s 383ms/step\n",
      "1/1 [==============================] - 0s 29ms/step\n",
      "Model: \"sequential_27\"\n",
      "_________________________________________________________________\n",
      " Layer (type)                Output Shape              Param #   \n",
      "=================================================================\n",
      " lstm_108 (LSTM)             (None, 8, 256)            264192    \n",
      "                                                                 \n",
      " lstm_109 (LSTM)             (None, 8, 128)            197120    \n",
      "                                                                 \n",
      " lstm_110 (LSTM)             (None, 8, 64)             49408     \n",
      "                                                                 \n",
      " lstm_111 (LSTM)             (None, 64)                33024     \n",
      "                                                                 \n",
      " dense_27 (Dense)            (None, 1)                 65        \n",
      "                                                                 \n",
      "=================================================================\n",
      "Total params: 543809 (2.07 MB)\n",
      "Trainable params: 543809 (2.07 MB)\n",
      "Non-trainable params: 0 (0.00 Byte)\n",
      "_________________________________________________________________\n",
      "INFO:tensorflow:Assets written to: model/assets\n"
     ]
    },
    {
     "name": "stderr",
     "output_type": "stream",
     "text": [
      "INFO:tensorflow:Assets written to: model/assets\n"
     ]
    },
    {
     "name": "stdout",
     "output_type": "stream",
     "text": [
      "INFO:tensorflow:Assets written to: model/assets\n"
     ]
    },
    {
     "name": "stderr",
     "output_type": "stream",
     "text": [
      "INFO:tensorflow:Assets written to: model/assets\n"
     ]
    },
    {
     "name": "stdout",
     "output_type": "stream",
     "text": [
      "INFO:tensorflow:Assets written to: model/assets\n"
     ]
    },
    {
     "name": "stderr",
     "output_type": "stream",
     "text": [
      "INFO:tensorflow:Assets written to: model/assets\n"
     ]
    },
    {
     "name": "stdout",
     "output_type": "stream",
     "text": [
      "INFO:tensorflow:Assets written to: model/assets\n"
     ]
    },
    {
     "name": "stderr",
     "output_type": "stream",
     "text": [
      "INFO:tensorflow:Assets written to: model/assets\n"
     ]
    },
    {
     "name": "stdout",
     "output_type": "stream",
     "text": [
      "INFO:tensorflow:Assets written to: model/assets\n"
     ]
    },
    {
     "name": "stderr",
     "output_type": "stream",
     "text": [
      "INFO:tensorflow:Assets written to: model/assets\n"
     ]
    },
    {
     "name": "stdout",
     "output_type": "stream",
     "text": [
      "INFO:tensorflow:Assets written to: model/assets\n"
     ]
    },
    {
     "name": "stderr",
     "output_type": "stream",
     "text": [
      "INFO:tensorflow:Assets written to: model/assets\n"
     ]
    },
    {
     "name": "stdout",
     "output_type": "stream",
     "text": [
      "1/1 [==============================] - 0s 371ms/step\n",
      "1/1 [==============================] - 0s 21ms/step\n",
      "1/1 [==============================] - 0s 370ms/step\n",
      "1/1 [==============================] - 0s 21ms/step\n",
      "INFO:tensorflow:Assets written to: model/assets\n"
     ]
    },
    {
     "name": "stderr",
     "output_type": "stream",
     "text": [
      "INFO:tensorflow:Assets written to: model/assets\n"
     ]
    },
    {
     "name": "stdout",
     "output_type": "stream",
     "text": [
      "INFO:tensorflow:Assets written to: model/assets\n"
     ]
    },
    {
     "name": "stderr",
     "output_type": "stream",
     "text": [
      "INFO:tensorflow:Assets written to: model/assets\n"
     ]
    },
    {
     "name": "stdout",
     "output_type": "stream",
     "text": [
      "INFO:tensorflow:Assets written to: model/assets\n"
     ]
    },
    {
     "name": "stderr",
     "output_type": "stream",
     "text": [
      "INFO:tensorflow:Assets written to: model/assets\n"
     ]
    },
    {
     "name": "stdout",
     "output_type": "stream",
     "text": [
      "1/1 [==============================] - 0s 388ms/step\n",
      "1/1 [==============================] - 0s 20ms/step\n",
      "1/1 [==============================] - 0s 390ms/step\n",
      "1/1 [==============================] - 0s 24ms/step\n",
      "1/1 [==============================] - 0s 372ms/step\n",
      "1/1 [==============================] - 0s 20ms/step\n",
      "Model: \"sequential_28\"\n",
      "_________________________________________________________________\n",
      " Layer (type)                Output Shape              Param #   \n",
      "=================================================================\n",
      " lstm_112 (LSTM)             (None, 8, 256)            264192    \n",
      "                                                                 \n",
      " lstm_113 (LSTM)             (None, 8, 128)            197120    \n",
      "                                                                 \n",
      " lstm_114 (LSTM)             (None, 8, 64)             49408     \n",
      "                                                                 \n",
      " lstm_115 (LSTM)             (None, 64)                33024     \n",
      "                                                                 \n",
      " dense_28 (Dense)            (None, 1)                 65        \n",
      "                                                                 \n",
      "=================================================================\n",
      "Total params: 543809 (2.07 MB)\n",
      "Trainable params: 543809 (2.07 MB)\n",
      "Non-trainable params: 0 (0.00 Byte)\n",
      "_________________________________________________________________\n",
      "INFO:tensorflow:Assets written to: model/assets\n"
     ]
    },
    {
     "name": "stderr",
     "output_type": "stream",
     "text": [
      "INFO:tensorflow:Assets written to: model/assets\n"
     ]
    },
    {
     "name": "stdout",
     "output_type": "stream",
     "text": [
      "INFO:tensorflow:Assets written to: model/assets\n"
     ]
    },
    {
     "name": "stderr",
     "output_type": "stream",
     "text": [
      "INFO:tensorflow:Assets written to: model/assets\n"
     ]
    },
    {
     "name": "stdout",
     "output_type": "stream",
     "text": [
      "INFO:tensorflow:Assets written to: model/assets\n"
     ]
    },
    {
     "name": "stderr",
     "output_type": "stream",
     "text": [
      "INFO:tensorflow:Assets written to: model/assets\n"
     ]
    },
    {
     "name": "stdout",
     "output_type": "stream",
     "text": [
      "INFO:tensorflow:Assets written to: model/assets\n"
     ]
    },
    {
     "name": "stderr",
     "output_type": "stream",
     "text": [
      "INFO:tensorflow:Assets written to: model/assets\n"
     ]
    },
    {
     "name": "stdout",
     "output_type": "stream",
     "text": [
      "1/1 [==============================] - 0s 376ms/step\n",
      "1/1 [==============================] - 0s 21ms/step\n",
      "1/1 [==============================] - 0s 371ms/step\n",
      "1/1 [==============================] - 0s 20ms/step\n",
      "INFO:tensorflow:Assets written to: model/assets\n"
     ]
    },
    {
     "name": "stderr",
     "output_type": "stream",
     "text": [
      "INFO:tensorflow:Assets written to: model/assets\n"
     ]
    },
    {
     "name": "stdout",
     "output_type": "stream",
     "text": [
      "INFO:tensorflow:Assets written to: model/assets\n"
     ]
    },
    {
     "name": "stderr",
     "output_type": "stream",
     "text": [
      "INFO:tensorflow:Assets written to: model/assets\n"
     ]
    },
    {
     "name": "stdout",
     "output_type": "stream",
     "text": [
      "1/1 [==============================] - 0s 373ms/step\n",
      "1/1 [==============================] - 0s 20ms/step\n",
      "1/1 [==============================] - 0s 362ms/step\n",
      "1/1 [==============================] - 0s 20ms/step\n",
      "1/1 [==============================] - 0s 373ms/step\n",
      "1/1 [==============================] - 0s 29ms/step\n",
      "Model: \"sequential_29\"\n",
      "_________________________________________________________________\n",
      " Layer (type)                Output Shape              Param #   \n",
      "=================================================================\n",
      " lstm_116 (LSTM)             (None, 8, 256)            264192    \n",
      "                                                                 \n",
      " lstm_117 (LSTM)             (None, 8, 128)            197120    \n",
      "                                                                 \n",
      " lstm_118 (LSTM)             (None, 8, 64)             49408     \n",
      "                                                                 \n",
      " lstm_119 (LSTM)             (None, 64)                33024     \n",
      "                                                                 \n",
      " dense_29 (Dense)            (None, 1)                 65        \n",
      "                                                                 \n",
      "=================================================================\n",
      "Total params: 543809 (2.07 MB)\n",
      "Trainable params: 543809 (2.07 MB)\n",
      "Non-trainable params: 0 (0.00 Byte)\n",
      "_________________________________________________________________\n",
      "INFO:tensorflow:Assets written to: model/assets\n"
     ]
    },
    {
     "name": "stderr",
     "output_type": "stream",
     "text": [
      "INFO:tensorflow:Assets written to: model/assets\n"
     ]
    },
    {
     "name": "stdout",
     "output_type": "stream",
     "text": [
      "INFO:tensorflow:Assets written to: model/assets\n"
     ]
    },
    {
     "name": "stderr",
     "output_type": "stream",
     "text": [
      "INFO:tensorflow:Assets written to: model/assets\n"
     ]
    },
    {
     "name": "stdout",
     "output_type": "stream",
     "text": [
      "INFO:tensorflow:Assets written to: model/assets\n"
     ]
    },
    {
     "name": "stderr",
     "output_type": "stream",
     "text": [
      "INFO:tensorflow:Assets written to: model/assets\n"
     ]
    },
    {
     "name": "stdout",
     "output_type": "stream",
     "text": [
      "1/1 [==============================] - 0s 371ms/step\n",
      "1/1 [==============================] - 0s 22ms/step\n",
      "INFO:tensorflow:Assets written to: model/assets\n"
     ]
    },
    {
     "name": "stderr",
     "output_type": "stream",
     "text": [
      "INFO:tensorflow:Assets written to: model/assets\n"
     ]
    },
    {
     "name": "stdout",
     "output_type": "stream",
     "text": [
      "1/1 [==============================] - 0s 386ms/step\n",
      "1/1 [==============================] - 0s 21ms/step\n",
      "INFO:tensorflow:Assets written to: model/assets\n"
     ]
    },
    {
     "name": "stderr",
     "output_type": "stream",
     "text": [
      "INFO:tensorflow:Assets written to: model/assets\n"
     ]
    },
    {
     "name": "stdout",
     "output_type": "stream",
     "text": [
      "INFO:tensorflow:Assets written to: model/assets\n"
     ]
    },
    {
     "name": "stderr",
     "output_type": "stream",
     "text": [
      "INFO:tensorflow:Assets written to: model/assets\n"
     ]
    },
    {
     "name": "stdout",
     "output_type": "stream",
     "text": [
      "1/1 [==============================] - 0s 369ms/step\n",
      "1/1 [==============================] - 0s 19ms/step\n",
      "1/1 [==============================] - 0s 379ms/step\n",
      "1/1 [==============================] - 0s 19ms/step\n",
      "1/1 [==============================] - 0s 375ms/step\n",
      "1/1 [==============================] - 0s 20ms/step\n"
     ]
    }
   ],
   "source": [
    "# load balancer\n",
    "for i in range(5):\n",
    "\n",
    "    preds_test = []\n",
    "    preds_val = []\n",
    "\n",
    "    walk_history_load_balancer = []\n",
    "\n",
    "    walk_mda_test = []\n",
    "    walk_mda_val = []\n",
    "\n",
    "    history = 0 \n",
    "\n",
    "    model = Sequential()\n",
    "    model.add(InputLayer((8, 1)))\n",
    "    model.add(LSTM(256, activation='relu', return_sequences=True))\n",
    "    model.add(LSTM(128, activation='relu', return_sequences=True))\n",
    "    model.add(LSTM(64, activation='relu', return_sequences=True))\n",
    "    model.add(LSTM(64, activation='relu'))\n",
    "    model.add(Dense(1))\n",
    "\n",
    "    model.summary()\n",
    "\n",
    "    cp = ModelCheckpoint(\"model/\", save_best_only=True, verbose = False)\n",
    "    model.compile(loss=custom_loss, optimizer=Adam(learning_rate=0.01), metrics=[custom_loss])\n",
    "\n",
    "    load_balancer_model = model\n",
    "\n",
    "    for i in range(5):  \n",
    "\n",
    "        #load_balancer\n",
    "        history_dict, load_balancer_model = train_model(load_balancer_model, load_balancer_walk_train_x[i], load_balancer_walk_train_y[i], load_balancer_walk_val_x[i], load_balancer_walk_val_y[i], cp)\n",
    "        walk_history_load_balancer.append(history_dict)\n",
    "        preds_test.append(load_balancer_model.predict(load_balancer_walk_test_x[i]))\n",
    "        preds_val.append(load_balancer_model.predict(load_balancer_walk_val_x[i]))\n",
    "\n",
    "        preds_test = np.array(preds_test)\n",
    "        preds_val = np.array(preds_val)\n",
    "\n",
    "        walk_mda_test.append(da(load_balancer_walk_test_y[i],preds_test.reshape(5)))\n",
    "        walk_mda_val.append(da(load_balancer_walk_val_y[i],preds_val.reshape(10)))\n",
    "\n",
    "        predizioni_test_load_balancer.append(preds_test)\n",
    "        predizioni_val_load_balancer.append(preds_val)\n",
    "\n",
    "        preds_test = []\n",
    "        preds_val = []\n",
    "    \n",
    "    MODELS_LOAD_BALANCER.append(load_balancer_model)\n",
    "    MDA_VAL_LOAD_BALANCER.append(sum(walk_mda_val)/len(walk_mda_val))\n",
    "    MDA_TEST_LOAD_BALANCER.append(sum(walk_mda_test)/len(walk_mda_test))\n",
    "    HISTORY_LOAD_BALANCER.append(walk_history_load_balancer)\n",
    "\n",
    "    walk_mda_test = []\n",
    "    walk_mda_val = []"
   ]
  },
  {
   "cell_type": "code",
   "execution_count": 25,
   "metadata": {},
   "outputs": [
    {
     "name": "stdout",
     "output_type": "stream",
     "text": [
      "Model: \"sequential_30\"\n",
      "_________________________________________________________________\n",
      " Layer (type)                Output Shape              Param #   \n",
      "=================================================================\n",
      " lstm_120 (LSTM)             (None, 8, 256)            264192    \n",
      "                                                                 \n",
      " lstm_121 (LSTM)             (None, 8, 128)            197120    \n",
      "                                                                 \n",
      " lstm_122 (LSTM)             (None, 8, 64)             49408     \n",
      "                                                                 \n",
      " lstm_123 (LSTM)             (None, 64)                33024     \n",
      "                                                                 \n",
      " dense_30 (Dense)            (None, 1)                 65        \n",
      "                                                                 \n",
      "=================================================================\n",
      "Total params: 543809 (2.07 MB)\n",
      "Trainable params: 543809 (2.07 MB)\n",
      "Non-trainable params: 0 (0.00 Byte)\n",
      "_________________________________________________________________\n",
      "INFO:tensorflow:Assets written to: model/assets\n"
     ]
    },
    {
     "name": "stderr",
     "output_type": "stream",
     "text": [
      "INFO:tensorflow:Assets written to: model/assets\n"
     ]
    },
    {
     "name": "stdout",
     "output_type": "stream",
     "text": [
      "INFO:tensorflow:Assets written to: model/assets\n"
     ]
    },
    {
     "name": "stderr",
     "output_type": "stream",
     "text": [
      "INFO:tensorflow:Assets written to: model/assets\n"
     ]
    },
    {
     "name": "stdout",
     "output_type": "stream",
     "text": [
      "1/1 [==============================] - 0s 374ms/step\n",
      "1/1 [==============================] - 0s 20ms/step\n",
      "1/1 [==============================] - 0s 367ms/step\n",
      "1/1 [==============================] - 0s 23ms/step\n",
      "INFO:tensorflow:Assets written to: model/assets\n"
     ]
    },
    {
     "name": "stderr",
     "output_type": "stream",
     "text": [
      "INFO:tensorflow:Assets written to: model/assets\n"
     ]
    },
    {
     "name": "stdout",
     "output_type": "stream",
     "text": [
      "INFO:tensorflow:Assets written to: model/assets\n"
     ]
    },
    {
     "name": "stderr",
     "output_type": "stream",
     "text": [
      "INFO:tensorflow:Assets written to: model/assets\n"
     ]
    },
    {
     "name": "stdout",
     "output_type": "stream",
     "text": [
      "1/1 [==============================] - 0s 383ms/step\n",
      "1/1 [==============================] - 0s 19ms/step\n",
      "INFO:tensorflow:Assets written to: model/assets\n"
     ]
    },
    {
     "name": "stderr",
     "output_type": "stream",
     "text": [
      "INFO:tensorflow:Assets written to: model/assets\n"
     ]
    },
    {
     "name": "stdout",
     "output_type": "stream",
     "text": [
      "INFO:tensorflow:Assets written to: model/assets\n"
     ]
    },
    {
     "name": "stderr",
     "output_type": "stream",
     "text": [
      "INFO:tensorflow:Assets written to: model/assets\n"
     ]
    },
    {
     "name": "stdout",
     "output_type": "stream",
     "text": [
      "1/1 [==============================] - 0s 392ms/step\n",
      "1/1 [==============================] - 0s 23ms/step\n",
      "1/1 [==============================] - 0s 381ms/step\n",
      "1/1 [==============================] - 0s 21ms/step\n",
      "Model: \"sequential_31\"\n",
      "_________________________________________________________________\n",
      " Layer (type)                Output Shape              Param #   \n",
      "=================================================================\n",
      " lstm_124 (LSTM)             (None, 8, 256)            264192    \n",
      "                                                                 \n",
      " lstm_125 (LSTM)             (None, 8, 128)            197120    \n",
      "                                                                 \n",
      " lstm_126 (LSTM)             (None, 8, 64)             49408     \n",
      "                                                                 \n",
      " lstm_127 (LSTM)             (None, 64)                33024     \n",
      "                                                                 \n",
      " dense_31 (Dense)            (None, 1)                 65        \n",
      "                                                                 \n",
      "=================================================================\n",
      "Total params: 543809 (2.07 MB)\n",
      "Trainable params: 543809 (2.07 MB)\n",
      "Non-trainable params: 0 (0.00 Byte)\n",
      "_________________________________________________________________\n",
      "INFO:tensorflow:Assets written to: model/assets\n"
     ]
    },
    {
     "name": "stderr",
     "output_type": "stream",
     "text": [
      "INFO:tensorflow:Assets written to: model/assets\n"
     ]
    },
    {
     "name": "stdout",
     "output_type": "stream",
     "text": [
      "INFO:tensorflow:Assets written to: model/assets\n"
     ]
    },
    {
     "name": "stderr",
     "output_type": "stream",
     "text": [
      "INFO:tensorflow:Assets written to: model/assets\n"
     ]
    },
    {
     "name": "stdout",
     "output_type": "stream",
     "text": [
      "INFO:tensorflow:Assets written to: model/assets\n"
     ]
    },
    {
     "name": "stderr",
     "output_type": "stream",
     "text": [
      "INFO:tensorflow:Assets written to: model/assets\n"
     ]
    },
    {
     "name": "stdout",
     "output_type": "stream",
     "text": [
      "INFO:tensorflow:Assets written to: model/assets\n"
     ]
    },
    {
     "name": "stderr",
     "output_type": "stream",
     "text": [
      "INFO:tensorflow:Assets written to: model/assets\n"
     ]
    },
    {
     "name": "stdout",
     "output_type": "stream",
     "text": [
      "INFO:tensorflow:Assets written to: model/assets\n"
     ]
    },
    {
     "name": "stderr",
     "output_type": "stream",
     "text": [
      "INFO:tensorflow:Assets written to: model/assets\n"
     ]
    },
    {
     "name": "stdout",
     "output_type": "stream",
     "text": [
      "INFO:tensorflow:Assets written to: model/assets\n"
     ]
    },
    {
     "name": "stderr",
     "output_type": "stream",
     "text": [
      "INFO:tensorflow:Assets written to: model/assets\n"
     ]
    },
    {
     "name": "stdout",
     "output_type": "stream",
     "text": [
      "1/1 [==============================] - 0s 382ms/step\n",
      "1/1 [==============================] - 0s 22ms/step\n",
      "INFO:tensorflow:Assets written to: model/assets\n"
     ]
    },
    {
     "name": "stderr",
     "output_type": "stream",
     "text": [
      "INFO:tensorflow:Assets written to: model/assets\n"
     ]
    },
    {
     "name": "stdout",
     "output_type": "stream",
     "text": [
      "INFO:tensorflow:Assets written to: model/assets\n"
     ]
    },
    {
     "name": "stderr",
     "output_type": "stream",
     "text": [
      "INFO:tensorflow:Assets written to: model/assets\n"
     ]
    },
    {
     "name": "stdout",
     "output_type": "stream",
     "text": [
      "INFO:tensorflow:Assets written to: model/assets\n"
     ]
    },
    {
     "name": "stderr",
     "output_type": "stream",
     "text": [
      "INFO:tensorflow:Assets written to: model/assets\n"
     ]
    },
    {
     "name": "stdout",
     "output_type": "stream",
     "text": [
      "1/1 [==============================] - 0s 378ms/step\n",
      "1/1 [==============================] - 0s 20ms/step\n",
      "1/1 [==============================] - 0s 378ms/step\n",
      "1/1 [==============================] - 0s 23ms/step\n",
      "INFO:tensorflow:Assets written to: model/assets\n"
     ]
    },
    {
     "name": "stderr",
     "output_type": "stream",
     "text": [
      "INFO:tensorflow:Assets written to: model/assets\n"
     ]
    },
    {
     "name": "stdout",
     "output_type": "stream",
     "text": [
      "INFO:tensorflow:Assets written to: model/assets\n"
     ]
    },
    {
     "name": "stderr",
     "output_type": "stream",
     "text": [
      "INFO:tensorflow:Assets written to: model/assets\n"
     ]
    },
    {
     "name": "stdout",
     "output_type": "stream",
     "text": [
      "INFO:tensorflow:Assets written to: model/assets\n"
     ]
    },
    {
     "name": "stderr",
     "output_type": "stream",
     "text": [
      "INFO:tensorflow:Assets written to: model/assets\n"
     ]
    },
    {
     "name": "stdout",
     "output_type": "stream",
     "text": [
      "INFO:tensorflow:Assets written to: model/assets\n"
     ]
    },
    {
     "name": "stderr",
     "output_type": "stream",
     "text": [
      "INFO:tensorflow:Assets written to: model/assets\n"
     ]
    },
    {
     "name": "stdout",
     "output_type": "stream",
     "text": [
      "1/1 [==============================] - 0s 381ms/step\n",
      "1/1 [==============================] - 0s 22ms/step\n",
      "1/1 [==============================] - 0s 365ms/step\n",
      "1/1 [==============================] - 0s 21ms/step\n",
      "Model: \"sequential_32\"\n",
      "_________________________________________________________________\n",
      " Layer (type)                Output Shape              Param #   \n",
      "=================================================================\n",
      " lstm_128 (LSTM)             (None, 8, 256)            264192    \n",
      "                                                                 \n",
      " lstm_129 (LSTM)             (None, 8, 128)            197120    \n",
      "                                                                 \n",
      " lstm_130 (LSTM)             (None, 8, 64)             49408     \n",
      "                                                                 \n",
      " lstm_131 (LSTM)             (None, 64)                33024     \n",
      "                                                                 \n",
      " dense_32 (Dense)            (None, 1)                 65        \n",
      "                                                                 \n",
      "=================================================================\n",
      "Total params: 543809 (2.07 MB)\n",
      "Trainable params: 543809 (2.07 MB)\n",
      "Non-trainable params: 0 (0.00 Byte)\n",
      "_________________________________________________________________\n",
      "INFO:tensorflow:Assets written to: model/assets\n"
     ]
    },
    {
     "name": "stderr",
     "output_type": "stream",
     "text": [
      "INFO:tensorflow:Assets written to: model/assets\n"
     ]
    },
    {
     "name": "stdout",
     "output_type": "stream",
     "text": [
      "INFO:tensorflow:Assets written to: model/assets\n"
     ]
    },
    {
     "name": "stderr",
     "output_type": "stream",
     "text": [
      "INFO:tensorflow:Assets written to: model/assets\n"
     ]
    },
    {
     "name": "stdout",
     "output_type": "stream",
     "text": [
      "INFO:tensorflow:Assets written to: model/assets\n"
     ]
    },
    {
     "name": "stderr",
     "output_type": "stream",
     "text": [
      "INFO:tensorflow:Assets written to: model/assets\n"
     ]
    },
    {
     "name": "stdout",
     "output_type": "stream",
     "text": [
      "INFO:tensorflow:Assets written to: model/assets\n"
     ]
    },
    {
     "name": "stderr",
     "output_type": "stream",
     "text": [
      "INFO:tensorflow:Assets written to: model/assets\n"
     ]
    },
    {
     "name": "stdout",
     "output_type": "stream",
     "text": [
      "1/1 [==============================] - 0s 390ms/step\n",
      "1/1 [==============================] - 0s 21ms/step\n",
      "1/1 [==============================] - 0s 380ms/step\n",
      "1/1 [==============================] - 0s 21ms/step\n",
      "INFO:tensorflow:Assets written to: model/assets\n"
     ]
    },
    {
     "name": "stderr",
     "output_type": "stream",
     "text": [
      "INFO:tensorflow:Assets written to: model/assets\n"
     ]
    },
    {
     "name": "stdout",
     "output_type": "stream",
     "text": [
      "1/1 [==============================] - 0s 375ms/step\n",
      "1/1 [==============================] - 0s 21ms/step\n",
      "INFO:tensorflow:Assets written to: model/assets\n"
     ]
    },
    {
     "name": "stderr",
     "output_type": "stream",
     "text": [
      "INFO:tensorflow:Assets written to: model/assets\n"
     ]
    },
    {
     "name": "stdout",
     "output_type": "stream",
     "text": [
      "INFO:tensorflow:Assets written to: model/assets\n"
     ]
    },
    {
     "name": "stderr",
     "output_type": "stream",
     "text": [
      "INFO:tensorflow:Assets written to: model/assets\n"
     ]
    },
    {
     "name": "stdout",
     "output_type": "stream",
     "text": [
      "INFO:tensorflow:Assets written to: model/assets\n"
     ]
    },
    {
     "name": "stderr",
     "output_type": "stream",
     "text": [
      "INFO:tensorflow:Assets written to: model/assets\n"
     ]
    },
    {
     "name": "stdout",
     "output_type": "stream",
     "text": [
      "INFO:tensorflow:Assets written to: model/assets\n"
     ]
    },
    {
     "name": "stderr",
     "output_type": "stream",
     "text": [
      "INFO:tensorflow:Assets written to: model/assets\n"
     ]
    },
    {
     "name": "stdout",
     "output_type": "stream",
     "text": [
      "INFO:tensorflow:Assets written to: model/assets\n"
     ]
    },
    {
     "name": "stderr",
     "output_type": "stream",
     "text": [
      "INFO:tensorflow:Assets written to: model/assets\n"
     ]
    },
    {
     "name": "stdout",
     "output_type": "stream",
     "text": [
      "1/1 [==============================] - 0s 397ms/step\n",
      "1/1 [==============================] - 0s 25ms/step\n",
      "1/1 [==============================] - 0s 386ms/step\n",
      "1/1 [==============================] - 0s 27ms/step\n",
      "Model: \"sequential_33\"\n",
      "_________________________________________________________________\n",
      " Layer (type)                Output Shape              Param #   \n",
      "=================================================================\n",
      " lstm_132 (LSTM)             (None, 8, 256)            264192    \n",
      "                                                                 \n",
      " lstm_133 (LSTM)             (None, 8, 128)            197120    \n",
      "                                                                 \n",
      " lstm_134 (LSTM)             (None, 8, 64)             49408     \n",
      "                                                                 \n",
      " lstm_135 (LSTM)             (None, 64)                33024     \n",
      "                                                                 \n",
      " dense_33 (Dense)            (None, 1)                 65        \n",
      "                                                                 \n",
      "=================================================================\n",
      "Total params: 543809 (2.07 MB)\n",
      "Trainable params: 543809 (2.07 MB)\n",
      "Non-trainable params: 0 (0.00 Byte)\n",
      "_________________________________________________________________\n",
      "INFO:tensorflow:Assets written to: model/assets\n"
     ]
    },
    {
     "name": "stderr",
     "output_type": "stream",
     "text": [
      "INFO:tensorflow:Assets written to: model/assets\n"
     ]
    },
    {
     "name": "stdout",
     "output_type": "stream",
     "text": [
      "INFO:tensorflow:Assets written to: model/assets\n"
     ]
    },
    {
     "name": "stderr",
     "output_type": "stream",
     "text": [
      "INFO:tensorflow:Assets written to: model/assets\n"
     ]
    },
    {
     "name": "stdout",
     "output_type": "stream",
     "text": [
      "INFO:tensorflow:Assets written to: model/assets\n"
     ]
    },
    {
     "name": "stderr",
     "output_type": "stream",
     "text": [
      "INFO:tensorflow:Assets written to: model/assets\n"
     ]
    },
    {
     "name": "stdout",
     "output_type": "stream",
     "text": [
      "INFO:tensorflow:Assets written to: model/assets\n"
     ]
    },
    {
     "name": "stderr",
     "output_type": "stream",
     "text": [
      "INFO:tensorflow:Assets written to: model/assets\n"
     ]
    },
    {
     "name": "stdout",
     "output_type": "stream",
     "text": [
      "INFO:tensorflow:Assets written to: model/assets\n"
     ]
    },
    {
     "name": "stderr",
     "output_type": "stream",
     "text": [
      "INFO:tensorflow:Assets written to: model/assets\n"
     ]
    },
    {
     "name": "stdout",
     "output_type": "stream",
     "text": [
      "INFO:tensorflow:Assets written to: model/assets\n"
     ]
    },
    {
     "name": "stderr",
     "output_type": "stream",
     "text": [
      "INFO:tensorflow:Assets written to: model/assets\n"
     ]
    },
    {
     "name": "stdout",
     "output_type": "stream",
     "text": [
      "INFO:tensorflow:Assets written to: model/assets\n"
     ]
    },
    {
     "name": "stderr",
     "output_type": "stream",
     "text": [
      "INFO:tensorflow:Assets written to: model/assets\n"
     ]
    },
    {
     "name": "stdout",
     "output_type": "stream",
     "text": [
      "1/1 [==============================] - 0s 384ms/step\n",
      "1/1 [==============================] - 0s 24ms/step\n",
      "INFO:tensorflow:Assets written to: model/assets\n"
     ]
    },
    {
     "name": "stderr",
     "output_type": "stream",
     "text": [
      "INFO:tensorflow:Assets written to: model/assets\n"
     ]
    },
    {
     "name": "stdout",
     "output_type": "stream",
     "text": [
      "1/1 [==============================] - 0s 378ms/step\n",
      "1/1 [==============================] - 0s 25ms/step\n",
      "INFO:tensorflow:Assets written to: model/assets\n"
     ]
    },
    {
     "name": "stderr",
     "output_type": "stream",
     "text": [
      "INFO:tensorflow:Assets written to: model/assets\n"
     ]
    },
    {
     "name": "stdout",
     "output_type": "stream",
     "text": [
      "1/1 [==============================] - 0s 377ms/step\n",
      "1/1 [==============================] - 0s 21ms/step\n",
      "INFO:tensorflow:Assets written to: model/assets\n"
     ]
    },
    {
     "name": "stderr",
     "output_type": "stream",
     "text": [
      "INFO:tensorflow:Assets written to: model/assets\n"
     ]
    },
    {
     "name": "stdout",
     "output_type": "stream",
     "text": [
      "INFO:tensorflow:Assets written to: model/assets\n"
     ]
    },
    {
     "name": "stderr",
     "output_type": "stream",
     "text": [
      "INFO:tensorflow:Assets written to: model/assets\n"
     ]
    },
    {
     "name": "stdout",
     "output_type": "stream",
     "text": [
      "1/1 [==============================] - 0s 384ms/step\n",
      "1/1 [==============================] - 0s 23ms/step\n",
      "1/1 [==============================] - 0s 386ms/step\n",
      "1/1 [==============================] - 0s 21ms/step\n",
      "Model: \"sequential_34\"\n",
      "_________________________________________________________________\n",
      " Layer (type)                Output Shape              Param #   \n",
      "=================================================================\n",
      " lstm_136 (LSTM)             (None, 8, 256)            264192    \n",
      "                                                                 \n",
      " lstm_137 (LSTM)             (None, 8, 128)            197120    \n",
      "                                                                 \n",
      " lstm_138 (LSTM)             (None, 8, 64)             49408     \n",
      "                                                                 \n",
      " lstm_139 (LSTM)             (None, 64)                33024     \n",
      "                                                                 \n",
      " dense_34 (Dense)            (None, 1)                 65        \n",
      "                                                                 \n",
      "=================================================================\n",
      "Total params: 543809 (2.07 MB)\n",
      "Trainable params: 543809 (2.07 MB)\n",
      "Non-trainable params: 0 (0.00 Byte)\n",
      "_________________________________________________________________\n",
      "INFO:tensorflow:Assets written to: model/assets\n"
     ]
    },
    {
     "name": "stderr",
     "output_type": "stream",
     "text": [
      "INFO:tensorflow:Assets written to: model/assets\n"
     ]
    },
    {
     "name": "stdout",
     "output_type": "stream",
     "text": [
      "INFO:tensorflow:Assets written to: model/assets\n"
     ]
    },
    {
     "name": "stderr",
     "output_type": "stream",
     "text": [
      "INFO:tensorflow:Assets written to: model/assets\n"
     ]
    },
    {
     "name": "stdout",
     "output_type": "stream",
     "text": [
      "INFO:tensorflow:Assets written to: model/assets\n"
     ]
    },
    {
     "name": "stderr",
     "output_type": "stream",
     "text": [
      "INFO:tensorflow:Assets written to: model/assets\n"
     ]
    },
    {
     "name": "stdout",
     "output_type": "stream",
     "text": [
      "INFO:tensorflow:Assets written to: model/assets\n"
     ]
    },
    {
     "name": "stderr",
     "output_type": "stream",
     "text": [
      "INFO:tensorflow:Assets written to: model/assets\n"
     ]
    },
    {
     "name": "stdout",
     "output_type": "stream",
     "text": [
      "1/1 [==============================] - 0s 376ms/step\n",
      "1/1 [==============================] - 0s 25ms/step\n",
      "INFO:tensorflow:Assets written to: model/assets\n"
     ]
    },
    {
     "name": "stderr",
     "output_type": "stream",
     "text": [
      "INFO:tensorflow:Assets written to: model/assets\n"
     ]
    },
    {
     "name": "stdout",
     "output_type": "stream",
     "text": [
      "1/1 [==============================] - 0s 376ms/step\n",
      "1/1 [==============================] - 0s 27ms/step\n",
      "INFO:tensorflow:Assets written to: model/assets\n"
     ]
    },
    {
     "name": "stderr",
     "output_type": "stream",
     "text": [
      "INFO:tensorflow:Assets written to: model/assets\n"
     ]
    },
    {
     "name": "stdout",
     "output_type": "stream",
     "text": [
      "1/1 [==============================] - 0s 378ms/step\n",
      "1/1 [==============================] - 0s 21ms/step\n",
      "INFO:tensorflow:Assets written to: model/assets\n"
     ]
    },
    {
     "name": "stderr",
     "output_type": "stream",
     "text": [
      "INFO:tensorflow:Assets written to: model/assets\n"
     ]
    },
    {
     "name": "stdout",
     "output_type": "stream",
     "text": [
      "INFO:tensorflow:Assets written to: model/assets\n"
     ]
    },
    {
     "name": "stderr",
     "output_type": "stream",
     "text": [
      "INFO:tensorflow:Assets written to: model/assets\n"
     ]
    },
    {
     "name": "stdout",
     "output_type": "stream",
     "text": [
      "1/1 [==============================] - 0s 410ms/step\n",
      "1/1 [==============================] - 0s 25ms/step\n",
      "1/1 [==============================] - 0s 369ms/step\n",
      "1/1 [==============================] - 0s 25ms/step\n"
     ]
    }
   ],
   "source": [
    "predizioni_val_log_analytics = []\n",
    "predizioni_test_log_analytics = []\n",
    "MODELS_LOG_ANALYTICS = []\n",
    "MDA_TEST_LOG_ANALYTICS = []\n",
    "MDA_VAL_LOG_ANALYTICS = []\n",
    "HISTORY_LOG_ANALYTICS = []\n",
    "\n",
    "# log analytics\n",
    "for i in range(5):\n",
    "\n",
    "    preds_test = []\n",
    "    preds_val = []\n",
    "\n",
    "    walk_history_log_analytics = []\n",
    "\n",
    "    walk_mda_test = []\n",
    "    walk_mda_val = []\n",
    "\n",
    "    history = 0 \n",
    "\n",
    "    model = Sequential()\n",
    "    model.add(InputLayer((8, 1)))\n",
    "    model.add(LSTM(256, activation='relu', return_sequences=True))\n",
    "    model.add(LSTM(128, activation='relu', return_sequences=True))\n",
    "    model.add(LSTM(64, activation='relu', return_sequences=True))\n",
    "    model.add(LSTM(64, activation='relu'))\n",
    "    model.add(Dense(1))\n",
    "\n",
    "    model.summary()\n",
    "\n",
    "    cp = ModelCheckpoint(\"model/\", save_best_only=True, verbose = False)\n",
    "    model.compile(loss=custom_loss, optimizer=Adam(learning_rate=0.01), metrics=[custom_loss])\n",
    "\n",
    "    log_analytics_model = model\n",
    "    \n",
    "    for i in range(5):  \n",
    "\n",
    "        history_dict, log_analytics_model = train_model(log_analytics_model, log_analytics_walk_train_x[i], log_analytics_walk_train_y[i], log_analytics_walk_val_x[i], log_analytics_walk_val_y[i], cp)\n",
    "        walk_history_log_analytics.append(history_dict)\n",
    "        preds_test.append(log_analytics_model.predict(log_analytics_walk_test_x[i]))\n",
    "        preds_val.append(log_analytics_model.predict(log_analytics_walk_val_x[i]))\n",
    "\n",
    "        preds_test = np.array(preds_test)\n",
    "        preds_val = np.array(preds_val)\n",
    "\n",
    "        walk_mda_test.append(da(log_analytics_walk_test_y[i],preds_test.reshape(5)))\n",
    "        walk_mda_val.append(da(log_analytics_walk_val_y[i],preds_val.reshape(10)))\n",
    "\n",
    "        predizioni_test_log_analytics.append(preds_test)\n",
    "        predizioni_val_log_analytics.append(preds_val)\n",
    "\n",
    "        preds_test = []\n",
    "        preds_val = []\n",
    "    \n",
    "    MODELS_LOG_ANALYTICS.append(log_analytics_model)\n",
    "    MDA_VAL_LOG_ANALYTICS.append(sum(walk_mda_val)/len(walk_mda_val))\n",
    "    MDA_TEST_LOG_ANALYTICS.append(sum(walk_mda_test)/len(walk_mda_test))\n",
    "    HISTORY_LOG_ANALYTICS.append(walk_history_log_analytics)\n",
    "\n",
    "    walk_mda_test = []\n",
    "    walk_mda_val = []"
   ]
  },
  {
   "cell_type": "code",
   "execution_count": 26,
   "metadata": {},
   "outputs": [
    {
     "name": "stdout",
     "output_type": "stream",
     "text": [
      "Model: \"sequential_35\"\n",
      "_________________________________________________________________\n",
      " Layer (type)                Output Shape              Param #   \n",
      "=================================================================\n",
      " lstm_140 (LSTM)             (None, 8, 256)            264192    \n",
      "                                                                 \n",
      " lstm_141 (LSTM)             (None, 8, 128)            197120    \n",
      "                                                                 \n",
      " lstm_142 (LSTM)             (None, 8, 64)             49408     \n",
      "                                                                 \n",
      " lstm_143 (LSTM)             (None, 64)                33024     \n",
      "                                                                 \n",
      " dense_35 (Dense)            (None, 1)                 65        \n",
      "                                                                 \n",
      "=================================================================\n",
      "Total params: 543809 (2.07 MB)\n",
      "Trainable params: 543809 (2.07 MB)\n",
      "Non-trainable params: 0 (0.00 Byte)\n",
      "_________________________________________________________________\n",
      "INFO:tensorflow:Assets written to: model/assets\n"
     ]
    },
    {
     "name": "stderr",
     "output_type": "stream",
     "text": [
      "INFO:tensorflow:Assets written to: model/assets\n"
     ]
    },
    {
     "name": "stdout",
     "output_type": "stream",
     "text": [
      "INFO:tensorflow:Assets written to: model/assets\n"
     ]
    },
    {
     "name": "stderr",
     "output_type": "stream",
     "text": [
      "INFO:tensorflow:Assets written to: model/assets\n"
     ]
    },
    {
     "name": "stdout",
     "output_type": "stream",
     "text": [
      "1/1 [==============================] - 0s 378ms/step\n",
      "1/1 [==============================] - 0s 25ms/step\n",
      "1/1 [==============================] - 0s 386ms/step\n",
      "1/1 [==============================] - 0s 23ms/step\n",
      "1/1 [==============================] - 0s 379ms/step\n",
      "1/1 [==============================] - 0s 20ms/step\n",
      "1/1 [==============================] - 0s 383ms/step\n",
      "1/1 [==============================] - 0s 30ms/step\n",
      "1/1 [==============================] - 0s 367ms/step\n",
      "1/1 [==============================] - 0s 22ms/step\n",
      "Model: \"sequential_36\"\n",
      "_________________________________________________________________\n",
      " Layer (type)                Output Shape              Param #   \n",
      "=================================================================\n",
      " lstm_144 (LSTM)             (None, 8, 256)            264192    \n",
      "                                                                 \n",
      " lstm_145 (LSTM)             (None, 8, 128)            197120    \n",
      "                                                                 \n",
      " lstm_146 (LSTM)             (None, 8, 64)             49408     \n",
      "                                                                 \n",
      " lstm_147 (LSTM)             (None, 64)                33024     \n",
      "                                                                 \n",
      " dense_36 (Dense)            (None, 1)                 65        \n",
      "                                                                 \n",
      "=================================================================\n",
      "Total params: 543809 (2.07 MB)\n",
      "Trainable params: 543809 (2.07 MB)\n",
      "Non-trainable params: 0 (0.00 Byte)\n",
      "_________________________________________________________________\n",
      "INFO:tensorflow:Assets written to: model/assets\n"
     ]
    },
    {
     "name": "stderr",
     "output_type": "stream",
     "text": [
      "INFO:tensorflow:Assets written to: model/assets\n"
     ]
    },
    {
     "name": "stdout",
     "output_type": "stream",
     "text": [
      "INFO:tensorflow:Assets written to: model/assets\n"
     ]
    },
    {
     "name": "stderr",
     "output_type": "stream",
     "text": [
      "INFO:tensorflow:Assets written to: model/assets\n"
     ]
    },
    {
     "name": "stdout",
     "output_type": "stream",
     "text": [
      "1/1 [==============================] - 0s 380ms/step\n",
      "1/1 [==============================] - 0s 21ms/step\n",
      "1/1 [==============================] - 0s 377ms/step\n",
      "1/1 [==============================] - 0s 19ms/step\n",
      "INFO:tensorflow:Assets written to: model/assets\n"
     ]
    },
    {
     "name": "stderr",
     "output_type": "stream",
     "text": [
      "INFO:tensorflow:Assets written to: model/assets\n"
     ]
    },
    {
     "name": "stdout",
     "output_type": "stream",
     "text": [
      "INFO:tensorflow:Assets written to: model/assets\n"
     ]
    },
    {
     "name": "stderr",
     "output_type": "stream",
     "text": [
      "INFO:tensorflow:Assets written to: model/assets\n"
     ]
    },
    {
     "name": "stdout",
     "output_type": "stream",
     "text": [
      "1/1 [==============================] - 0s 406ms/step\n",
      "1/1 [==============================] - 0s 26ms/step\n",
      "1/1 [==============================] - 0s 377ms/step\n",
      "1/1 [==============================] - 0s 19ms/step\n",
      "1/1 [==============================] - 0s 372ms/step\n",
      "1/1 [==============================] - 0s 21ms/step\n",
      "Model: \"sequential_37\"\n",
      "_________________________________________________________________\n",
      " Layer (type)                Output Shape              Param #   \n",
      "=================================================================\n",
      " lstm_148 (LSTM)             (None, 8, 256)            264192    \n",
      "                                                                 \n",
      " lstm_149 (LSTM)             (None, 8, 128)            197120    \n",
      "                                                                 \n",
      " lstm_150 (LSTM)             (None, 8, 64)             49408     \n",
      "                                                                 \n",
      " lstm_151 (LSTM)             (None, 64)                33024     \n",
      "                                                                 \n",
      " dense_37 (Dense)            (None, 1)                 65        \n",
      "                                                                 \n",
      "=================================================================\n",
      "Total params: 543809 (2.07 MB)\n",
      "Trainable params: 543809 (2.07 MB)\n",
      "Non-trainable params: 0 (0.00 Byte)\n",
      "_________________________________________________________________\n",
      "INFO:tensorflow:Assets written to: model/assets\n"
     ]
    },
    {
     "name": "stderr",
     "output_type": "stream",
     "text": [
      "INFO:tensorflow:Assets written to: model/assets\n"
     ]
    },
    {
     "name": "stdout",
     "output_type": "stream",
     "text": [
      "INFO:tensorflow:Assets written to: model/assets\n"
     ]
    },
    {
     "name": "stderr",
     "output_type": "stream",
     "text": [
      "INFO:tensorflow:Assets written to: model/assets\n"
     ]
    },
    {
     "name": "stdout",
     "output_type": "stream",
     "text": [
      "INFO:tensorflow:Assets written to: model/assets\n"
     ]
    },
    {
     "name": "stderr",
     "output_type": "stream",
     "text": [
      "INFO:tensorflow:Assets written to: model/assets\n"
     ]
    },
    {
     "name": "stdout",
     "output_type": "stream",
     "text": [
      "1/1 [==============================] - 0s 407ms/step\n",
      "1/1 [==============================] - 0s 20ms/step\n",
      "1/1 [==============================] - 0s 401ms/step\n",
      "1/1 [==============================] - 0s 20ms/step\n",
      "1/1 [==============================] - 0s 391ms/step\n",
      "1/1 [==============================] - 0s 21ms/step\n",
      "1/1 [==============================] - 0s 407ms/step\n",
      "1/1 [==============================] - 0s 22ms/step\n",
      "1/1 [==============================] - 0s 409ms/step\n",
      "1/1 [==============================] - 0s 22ms/step\n",
      "Model: \"sequential_38\"\n",
      "_________________________________________________________________\n",
      " Layer (type)                Output Shape              Param #   \n",
      "=================================================================\n",
      " lstm_152 (LSTM)             (None, 8, 256)            264192    \n",
      "                                                                 \n",
      " lstm_153 (LSTM)             (None, 8, 128)            197120    \n",
      "                                                                 \n",
      " lstm_154 (LSTM)             (None, 8, 64)             49408     \n",
      "                                                                 \n",
      " lstm_155 (LSTM)             (None, 64)                33024     \n",
      "                                                                 \n",
      " dense_38 (Dense)            (None, 1)                 65        \n",
      "                                                                 \n",
      "=================================================================\n",
      "Total params: 543809 (2.07 MB)\n",
      "Trainable params: 543809 (2.07 MB)\n",
      "Non-trainable params: 0 (0.00 Byte)\n",
      "_________________________________________________________________\n",
      "INFO:tensorflow:Assets written to: model/assets\n"
     ]
    },
    {
     "name": "stderr",
     "output_type": "stream",
     "text": [
      "INFO:tensorflow:Assets written to: model/assets\n"
     ]
    },
    {
     "name": "stdout",
     "output_type": "stream",
     "text": [
      "INFO:tensorflow:Assets written to: model/assets\n"
     ]
    },
    {
     "name": "stderr",
     "output_type": "stream",
     "text": [
      "INFO:tensorflow:Assets written to: model/assets\n"
     ]
    },
    {
     "name": "stdout",
     "output_type": "stream",
     "text": [
      "INFO:tensorflow:Assets written to: model/assets\n"
     ]
    },
    {
     "name": "stderr",
     "output_type": "stream",
     "text": [
      "INFO:tensorflow:Assets written to: model/assets\n"
     ]
    },
    {
     "name": "stdout",
     "output_type": "stream",
     "text": [
      "INFO:tensorflow:Assets written to: model/assets\n"
     ]
    },
    {
     "name": "stderr",
     "output_type": "stream",
     "text": [
      "INFO:tensorflow:Assets written to: model/assets\n"
     ]
    },
    {
     "name": "stdout",
     "output_type": "stream",
     "text": [
      "INFO:tensorflow:Assets written to: model/assets\n"
     ]
    },
    {
     "name": "stderr",
     "output_type": "stream",
     "text": [
      "INFO:tensorflow:Assets written to: model/assets\n"
     ]
    },
    {
     "name": "stdout",
     "output_type": "stream",
     "text": [
      "1/1 [==============================] - 0s 432ms/step\n",
      "1/1 [==============================] - 0s 20ms/step\n",
      "1/1 [==============================] - 0s 387ms/step\n",
      "1/1 [==============================] - 0s 30ms/step\n",
      "1/1 [==============================] - 0s 382ms/step\n",
      "1/1 [==============================] - 0s 23ms/step\n",
      "1/1 [==============================] - 0s 408ms/step\n",
      "1/1 [==============================] - 0s 21ms/step\n",
      "1/1 [==============================] - 0s 380ms/step\n",
      "1/1 [==============================] - 0s 21ms/step\n",
      "Model: \"sequential_39\"\n",
      "_________________________________________________________________\n",
      " Layer (type)                Output Shape              Param #   \n",
      "=================================================================\n",
      " lstm_156 (LSTM)             (None, 8, 256)            264192    \n",
      "                                                                 \n",
      " lstm_157 (LSTM)             (None, 8, 128)            197120    \n",
      "                                                                 \n",
      " lstm_158 (LSTM)             (None, 8, 64)             49408     \n",
      "                                                                 \n",
      " lstm_159 (LSTM)             (None, 64)                33024     \n",
      "                                                                 \n",
      " dense_39 (Dense)            (None, 1)                 65        \n",
      "                                                                 \n",
      "=================================================================\n",
      "Total params: 543809 (2.07 MB)\n",
      "Trainable params: 543809 (2.07 MB)\n",
      "Non-trainable params: 0 (0.00 Byte)\n",
      "_________________________________________________________________\n",
      "INFO:tensorflow:Assets written to: model/assets\n"
     ]
    },
    {
     "name": "stderr",
     "output_type": "stream",
     "text": [
      "INFO:tensorflow:Assets written to: model/assets\n"
     ]
    },
    {
     "name": "stdout",
     "output_type": "stream",
     "text": [
      "INFO:tensorflow:Assets written to: model/assets\n"
     ]
    },
    {
     "name": "stderr",
     "output_type": "stream",
     "text": [
      "INFO:tensorflow:Assets written to: model/assets\n"
     ]
    },
    {
     "name": "stdout",
     "output_type": "stream",
     "text": [
      "INFO:tensorflow:Assets written to: model/assets\n"
     ]
    },
    {
     "name": "stderr",
     "output_type": "stream",
     "text": [
      "INFO:tensorflow:Assets written to: model/assets\n"
     ]
    },
    {
     "name": "stdout",
     "output_type": "stream",
     "text": [
      "INFO:tensorflow:Assets written to: model/assets\n"
     ]
    },
    {
     "name": "stderr",
     "output_type": "stream",
     "text": [
      "INFO:tensorflow:Assets written to: model/assets\n"
     ]
    },
    {
     "name": "stdout",
     "output_type": "stream",
     "text": [
      "1/1 [==============================] - 0s 395ms/step\n",
      "1/1 [==============================] - 0s 25ms/step\n",
      "1/1 [==============================] - 0s 379ms/step\n",
      "1/1 [==============================] - 0s 23ms/step\n",
      "1/1 [==============================] - 0s 397ms/step\n",
      "1/1 [==============================] - 0s 22ms/step\n",
      "1/1 [==============================] - 0s 400ms/step\n",
      "1/1 [==============================] - 0s 22ms/step\n",
      "1/1 [==============================] - 0s 378ms/step\n",
      "1/1 [==============================] - 0s 36ms/step\n"
     ]
    }
   ],
   "source": [
    "# bandwidth\n",
    "for i in range(5):\n",
    "\n",
    "    preds_test = []\n",
    "    preds_val = []\n",
    "\n",
    "    walk_history_bandwidth = []\n",
    "\n",
    "    walk_mda_test = []\n",
    "    walk_mda_val = []\n",
    "\n",
    "    history = 0 \n",
    "\n",
    "    model = Sequential()\n",
    "    model.add(InputLayer((8, 1)))\n",
    "    model.add(LSTM(256, activation='relu', return_sequences=True))\n",
    "    model.add(LSTM(128, activation='relu', return_sequences=True))\n",
    "    model.add(LSTM(64, activation='relu', return_sequences=True))\n",
    "    model.add(LSTM(64, activation='relu'))\n",
    "    model.add(Dense(1))\n",
    "\n",
    "    model.summary()\n",
    "\n",
    "    cp = ModelCheckpoint(\"model/\", save_best_only=True, verbose = False)\n",
    "    model.compile(loss=custom_loss, optimizer=Adam(learning_rate=0.01), metrics=[custom_loss])\n",
    "\n",
    "    bandwidth_model = model\n",
    "\n",
    "    for i in range(5):  \n",
    "\n",
    "        #storage\n",
    "        history_dict, bandwidth_model = train_model(bandwidth_model, bandwidth_walk_train_x[i], bandwidth_walk_train_y[i], bandwidth_walk_val_x[i], bandwidth_walk_val_y[i], cp)\n",
    "        walk_history_bandwidth.append(history_dict)\n",
    "        preds_test.append(bandwidth_model.predict(bandwidth_walk_test_x[i]))\n",
    "        preds_val.append(bandwidth_model.predict(bandwidth_walk_val_x[i]))\n",
    "\n",
    "        preds_test = np.array(preds_test)\n",
    "        preds_val = np.array(preds_val)\n",
    "\n",
    "        walk_mda_test.append(da(bandwidth_walk_test_y[i],preds_test.reshape(5)))\n",
    "        walk_mda_val.append(da(bandwidth_walk_val_y[i],preds_val.reshape(10)))\n",
    "\n",
    "        predizioni_test_bandwidth.append(preds_test)\n",
    "        predizioni_val_bandwidth.append(preds_val)\n",
    "\n",
    "        preds_test = []\n",
    "        preds_val = []\n",
    "    \n",
    "    MODELS_BANDWIDTH.append(bandwidth_model)\n",
    "    MDA_VAL_BANDWIDTH.append(sum(walk_mda_val)/len(walk_mda_val))\n",
    "    MDA_TEST_BANDWIDTH.append(sum(walk_mda_test)/len(walk_mda_test))\n",
    "    HISTORY_BANDWIDTH.append(walk_history_bandwidth)\n",
    "\n",
    "    walk_mda_test = []\n",
    "    walk_mda_val = []"
   ]
  },
  {
   "cell_type": "code",
   "execution_count": 27,
   "metadata": {},
   "outputs": [
    {
     "name": "stdout",
     "output_type": "stream",
     "text": [
      "Model: \"sequential_40\"\n",
      "_________________________________________________________________\n",
      " Layer (type)                Output Shape              Param #   \n",
      "=================================================================\n",
      " lstm_160 (LSTM)             (None, 8, 256)            264192    \n",
      "                                                                 \n",
      " lstm_161 (LSTM)             (None, 8, 128)            197120    \n",
      "                                                                 \n",
      " lstm_162 (LSTM)             (None, 8, 64)             49408     \n",
      "                                                                 \n",
      " lstm_163 (LSTM)             (None, 64)                33024     \n",
      "                                                                 \n",
      " dense_40 (Dense)            (None, 1)                 65        \n",
      "                                                                 \n",
      "=================================================================\n",
      "Total params: 543809 (2.07 MB)\n",
      "Trainable params: 543809 (2.07 MB)\n",
      "Non-trainable params: 0 (0.00 Byte)\n",
      "_________________________________________________________________\n",
      "INFO:tensorflow:Assets written to: model/assets\n"
     ]
    },
    {
     "name": "stderr",
     "output_type": "stream",
     "text": [
      "INFO:tensorflow:Assets written to: model/assets\n"
     ]
    },
    {
     "name": "stdout",
     "output_type": "stream",
     "text": [
      "INFO:tensorflow:Assets written to: model/assets\n"
     ]
    },
    {
     "name": "stderr",
     "output_type": "stream",
     "text": [
      "INFO:tensorflow:Assets written to: model/assets\n"
     ]
    },
    {
     "name": "stdout",
     "output_type": "stream",
     "text": [
      "INFO:tensorflow:Assets written to: model/assets\n"
     ]
    },
    {
     "name": "stderr",
     "output_type": "stream",
     "text": [
      "INFO:tensorflow:Assets written to: model/assets\n"
     ]
    },
    {
     "name": "stdout",
     "output_type": "stream",
     "text": [
      "1/1 [==============================] - 0s 461ms/step\n",
      "1/1 [==============================] - 0s 25ms/step\n",
      "1/1 [==============================] - 0s 398ms/step\n",
      "1/1 [==============================] - 0s 29ms/step\n",
      "1/1 [==============================] - 0s 389ms/step\n",
      "1/1 [==============================] - 0s 22ms/step\n",
      "INFO:tensorflow:Assets written to: model/assets\n"
     ]
    },
    {
     "name": "stderr",
     "output_type": "stream",
     "text": [
      "INFO:tensorflow:Assets written to: model/assets\n"
     ]
    },
    {
     "name": "stdout",
     "output_type": "stream",
     "text": [
      "INFO:tensorflow:Assets written to: model/assets\n"
     ]
    },
    {
     "name": "stderr",
     "output_type": "stream",
     "text": [
      "INFO:tensorflow:Assets written to: model/assets\n"
     ]
    },
    {
     "name": "stdout",
     "output_type": "stream",
     "text": [
      "1/1 [==============================] - 0s 425ms/step\n",
      "1/1 [==============================] - 0s 22ms/step\n",
      "INFO:tensorflow:Assets written to: model/assets\n"
     ]
    },
    {
     "name": "stderr",
     "output_type": "stream",
     "text": [
      "INFO:tensorflow:Assets written to: model/assets\n"
     ]
    },
    {
     "name": "stdout",
     "output_type": "stream",
     "text": [
      "1/1 [==============================] - 0s 392ms/step\n",
      "1/1 [==============================] - 0s 20ms/step\n",
      "Model: \"sequential_41\"\n",
      "_________________________________________________________________\n",
      " Layer (type)                Output Shape              Param #   \n",
      "=================================================================\n",
      " lstm_164 (LSTM)             (None, 8, 256)            264192    \n",
      "                                                                 \n",
      " lstm_165 (LSTM)             (None, 8, 128)            197120    \n",
      "                                                                 \n",
      " lstm_166 (LSTM)             (None, 8, 64)             49408     \n",
      "                                                                 \n",
      " lstm_167 (LSTM)             (None, 64)                33024     \n",
      "                                                                 \n",
      " dense_41 (Dense)            (None, 1)                 65        \n",
      "                                                                 \n",
      "=================================================================\n",
      "Total params: 543809 (2.07 MB)\n",
      "Trainable params: 543809 (2.07 MB)\n",
      "Non-trainable params: 0 (0.00 Byte)\n",
      "_________________________________________________________________\n",
      "INFO:tensorflow:Assets written to: model/assets\n"
     ]
    },
    {
     "name": "stderr",
     "output_type": "stream",
     "text": [
      "INFO:tensorflow:Assets written to: model/assets\n"
     ]
    },
    {
     "name": "stdout",
     "output_type": "stream",
     "text": [
      "INFO:tensorflow:Assets written to: model/assets\n"
     ]
    },
    {
     "name": "stderr",
     "output_type": "stream",
     "text": [
      "INFO:tensorflow:Assets written to: model/assets\n"
     ]
    },
    {
     "name": "stdout",
     "output_type": "stream",
     "text": [
      "INFO:tensorflow:Assets written to: model/assets\n"
     ]
    },
    {
     "name": "stderr",
     "output_type": "stream",
     "text": [
      "INFO:tensorflow:Assets written to: model/assets\n"
     ]
    },
    {
     "name": "stdout",
     "output_type": "stream",
     "text": [
      "INFO:tensorflow:Assets written to: model/assets\n"
     ]
    },
    {
     "name": "stderr",
     "output_type": "stream",
     "text": [
      "INFO:tensorflow:Assets written to: model/assets\n"
     ]
    },
    {
     "name": "stdout",
     "output_type": "stream",
     "text": [
      "INFO:tensorflow:Assets written to: model/assets\n"
     ]
    },
    {
     "name": "stderr",
     "output_type": "stream",
     "text": [
      "INFO:tensorflow:Assets written to: model/assets\n"
     ]
    },
    {
     "name": "stdout",
     "output_type": "stream",
     "text": [
      "INFO:tensorflow:Assets written to: model/assets\n"
     ]
    },
    {
     "name": "stderr",
     "output_type": "stream",
     "text": [
      "INFO:tensorflow:Assets written to: model/assets\n"
     ]
    },
    {
     "name": "stdout",
     "output_type": "stream",
     "text": [
      "1/1 [==============================] - 0s 391ms/step\n",
      "1/1 [==============================] - 0s 26ms/step\n",
      "1/1 [==============================] - 0s 387ms/step\n",
      "1/1 [==============================] - 0s 21ms/step\n",
      "1/1 [==============================] - 0s 377ms/step\n",
      "1/1 [==============================] - 0s 22ms/step\n",
      "INFO:tensorflow:Assets written to: model/assets\n"
     ]
    },
    {
     "name": "stderr",
     "output_type": "stream",
     "text": [
      "INFO:tensorflow:Assets written to: model/assets\n"
     ]
    },
    {
     "name": "stdout",
     "output_type": "stream",
     "text": [
      "1/1 [==============================] - 0s 377ms/step\n",
      "1/1 [==============================] - 0s 19ms/step\n",
      "1/1 [==============================] - 0s 377ms/step\n",
      "1/1 [==============================] - 0s 21ms/step\n",
      "Model: \"sequential_42\"\n",
      "_________________________________________________________________\n",
      " Layer (type)                Output Shape              Param #   \n",
      "=================================================================\n",
      " lstm_168 (LSTM)             (None, 8, 256)            264192    \n",
      "                                                                 \n",
      " lstm_169 (LSTM)             (None, 8, 128)            197120    \n",
      "                                                                 \n",
      " lstm_170 (LSTM)             (None, 8, 64)             49408     \n",
      "                                                                 \n",
      " lstm_171 (LSTM)             (None, 64)                33024     \n",
      "                                                                 \n",
      " dense_42 (Dense)            (None, 1)                 65        \n",
      "                                                                 \n",
      "=================================================================\n",
      "Total params: 543809 (2.07 MB)\n",
      "Trainable params: 543809 (2.07 MB)\n",
      "Non-trainable params: 0 (0.00 Byte)\n",
      "_________________________________________________________________\n",
      "INFO:tensorflow:Assets written to: model/assets\n"
     ]
    },
    {
     "name": "stderr",
     "output_type": "stream",
     "text": [
      "INFO:tensorflow:Assets written to: model/assets\n"
     ]
    },
    {
     "name": "stdout",
     "output_type": "stream",
     "text": [
      "INFO:tensorflow:Assets written to: model/assets\n"
     ]
    },
    {
     "name": "stderr",
     "output_type": "stream",
     "text": [
      "INFO:tensorflow:Assets written to: model/assets\n"
     ]
    },
    {
     "name": "stdout",
     "output_type": "stream",
     "text": [
      "1/1 [==============================] - 0s 375ms/step\n",
      "1/1 [==============================] - 0s 27ms/step\n",
      "INFO:tensorflow:Assets written to: model/assets\n"
     ]
    },
    {
     "name": "stderr",
     "output_type": "stream",
     "text": [
      "INFO:tensorflow:Assets written to: model/assets\n"
     ]
    },
    {
     "name": "stdout",
     "output_type": "stream",
     "text": [
      "1/1 [==============================] - 0s 380ms/step\n",
      "1/1 [==============================] - 0s 21ms/step\n",
      "INFO:tensorflow:Assets written to: model/assets\n"
     ]
    },
    {
     "name": "stderr",
     "output_type": "stream",
     "text": [
      "INFO:tensorflow:Assets written to: model/assets\n"
     ]
    },
    {
     "name": "stdout",
     "output_type": "stream",
     "text": [
      "INFO:tensorflow:Assets written to: model/assets\n"
     ]
    },
    {
     "name": "stderr",
     "output_type": "stream",
     "text": [
      "INFO:tensorflow:Assets written to: model/assets\n"
     ]
    },
    {
     "name": "stdout",
     "output_type": "stream",
     "text": [
      "INFO:tensorflow:Assets written to: model/assets\n"
     ]
    },
    {
     "name": "stderr",
     "output_type": "stream",
     "text": [
      "INFO:tensorflow:Assets written to: model/assets\n"
     ]
    },
    {
     "name": "stdout",
     "output_type": "stream",
     "text": [
      "INFO:tensorflow:Assets written to: model/assets\n"
     ]
    },
    {
     "name": "stderr",
     "output_type": "stream",
     "text": [
      "INFO:tensorflow:Assets written to: model/assets\n"
     ]
    },
    {
     "name": "stdout",
     "output_type": "stream",
     "text": [
      "1/1 [==============================] - 0s 421ms/step\n",
      "1/1 [==============================] - 0s 20ms/step\n",
      "INFO:tensorflow:Assets written to: model/assets\n"
     ]
    },
    {
     "name": "stderr",
     "output_type": "stream",
     "text": [
      "INFO:tensorflow:Assets written to: model/assets\n"
     ]
    },
    {
     "name": "stdout",
     "output_type": "stream",
     "text": [
      "INFO:tensorflow:Assets written to: model/assets\n"
     ]
    },
    {
     "name": "stderr",
     "output_type": "stream",
     "text": [
      "INFO:tensorflow:Assets written to: model/assets\n"
     ]
    },
    {
     "name": "stdout",
     "output_type": "stream",
     "text": [
      "1/1 [==============================] - 1s 1s/step\n",
      "1/1 [==============================] - 0s 32ms/step\n",
      "INFO:tensorflow:Assets written to: model/assets\n"
     ]
    },
    {
     "name": "stderr",
     "output_type": "stream",
     "text": [
      "INFO:tensorflow:Assets written to: model/assets\n"
     ]
    },
    {
     "name": "stdout",
     "output_type": "stream",
     "text": [
      "1/1 [==============================] - 1s 632ms/step\n",
      "1/1 [==============================] - 0s 47ms/step\n",
      "Model: \"sequential_43\"\n",
      "_________________________________________________________________\n",
      " Layer (type)                Output Shape              Param #   \n",
      "=================================================================\n",
      " lstm_172 (LSTM)             (None, 8, 256)            264192    \n",
      "                                                                 \n",
      " lstm_173 (LSTM)             (None, 8, 128)            197120    \n",
      "                                                                 \n",
      " lstm_174 (LSTM)             (None, 8, 64)             49408     \n",
      "                                                                 \n",
      " lstm_175 (LSTM)             (None, 64)                33024     \n",
      "                                                                 \n",
      " dense_43 (Dense)            (None, 1)                 65        \n",
      "                                                                 \n",
      "=================================================================\n",
      "Total params: 543809 (2.07 MB)\n",
      "Trainable params: 543809 (2.07 MB)\n",
      "Non-trainable params: 0 (0.00 Byte)\n",
      "_________________________________________________________________\n",
      "INFO:tensorflow:Assets written to: model/assets\n"
     ]
    },
    {
     "name": "stderr",
     "output_type": "stream",
     "text": [
      "INFO:tensorflow:Assets written to: model/assets\n"
     ]
    },
    {
     "name": "stdout",
     "output_type": "stream",
     "text": [
      "INFO:tensorflow:Assets written to: model/assets\n"
     ]
    },
    {
     "name": "stderr",
     "output_type": "stream",
     "text": [
      "INFO:tensorflow:Assets written to: model/assets\n"
     ]
    },
    {
     "name": "stdout",
     "output_type": "stream",
     "text": [
      "INFO:tensorflow:Assets written to: model/assets\n"
     ]
    },
    {
     "name": "stderr",
     "output_type": "stream",
     "text": [
      "INFO:tensorflow:Assets written to: model/assets\n"
     ]
    },
    {
     "name": "stdout",
     "output_type": "stream",
     "text": [
      "1/1 [==============================] - 1s 1s/step\n",
      "1/1 [==============================] - 0s 48ms/step\n",
      "1/1 [==============================] - 1s 676ms/step\n",
      "1/1 [==============================] - 0s 25ms/step\n",
      "INFO:tensorflow:Assets written to: model/assets\n"
     ]
    },
    {
     "name": "stderr",
     "output_type": "stream",
     "text": [
      "INFO:tensorflow:Assets written to: model/assets\n"
     ]
    },
    {
     "name": "stdout",
     "output_type": "stream",
     "text": [
      "1/1 [==============================] - 1s 580ms/step\n",
      "1/1 [==============================] - 0s 31ms/step\n",
      "INFO:tensorflow:Assets written to: model/assets\n"
     ]
    },
    {
     "name": "stderr",
     "output_type": "stream",
     "text": [
      "INFO:tensorflow:Assets written to: model/assets\n"
     ]
    },
    {
     "name": "stdout",
     "output_type": "stream",
     "text": [
      "INFO:tensorflow:Assets written to: model/assets\n"
     ]
    },
    {
     "name": "stderr",
     "output_type": "stream",
     "text": [
      "INFO:tensorflow:Assets written to: model/assets\n"
     ]
    },
    {
     "name": "stdout",
     "output_type": "stream",
     "text": [
      "INFO:tensorflow:Assets written to: model/assets\n"
     ]
    },
    {
     "name": "stderr",
     "output_type": "stream",
     "text": [
      "INFO:tensorflow:Assets written to: model/assets\n"
     ]
    },
    {
     "name": "stdout",
     "output_type": "stream",
     "text": [
      "INFO:tensorflow:Assets written to: model/assets\n"
     ]
    },
    {
     "name": "stderr",
     "output_type": "stream",
     "text": [
      "INFO:tensorflow:Assets written to: model/assets\n"
     ]
    },
    {
     "name": "stdout",
     "output_type": "stream",
     "text": [
      "1/1 [==============================] - 1s 834ms/step\n",
      "1/1 [==============================] - 0s 35ms/step\n",
      "INFO:tensorflow:Assets written to: model/assets\n"
     ]
    },
    {
     "name": "stderr",
     "output_type": "stream",
     "text": [
      "INFO:tensorflow:Assets written to: model/assets\n"
     ]
    },
    {
     "name": "stdout",
     "output_type": "stream",
     "text": [
      "INFO:tensorflow:Assets written to: model/assets\n"
     ]
    },
    {
     "name": "stderr",
     "output_type": "stream",
     "text": [
      "INFO:tensorflow:Assets written to: model/assets\n"
     ]
    },
    {
     "name": "stdout",
     "output_type": "stream",
     "text": [
      "INFO:tensorflow:Assets written to: model/assets\n"
     ]
    },
    {
     "name": "stderr",
     "output_type": "stream",
     "text": [
      "INFO:tensorflow:Assets written to: model/assets\n"
     ]
    },
    {
     "name": "stdout",
     "output_type": "stream",
     "text": [
      "INFO:tensorflow:Assets written to: model/assets\n"
     ]
    },
    {
     "name": "stderr",
     "output_type": "stream",
     "text": [
      "INFO:tensorflow:Assets written to: model/assets\n"
     ]
    },
    {
     "name": "stdout",
     "output_type": "stream",
     "text": [
      "INFO:tensorflow:Assets written to: model/assets\n"
     ]
    },
    {
     "name": "stderr",
     "output_type": "stream",
     "text": [
      "INFO:tensorflow:Assets written to: model/assets\n"
     ]
    },
    {
     "name": "stdout",
     "output_type": "stream",
     "text": [
      "INFO:tensorflow:Assets written to: model/assets\n"
     ]
    },
    {
     "name": "stderr",
     "output_type": "stream",
     "text": [
      "INFO:tensorflow:Assets written to: model/assets\n"
     ]
    },
    {
     "name": "stdout",
     "output_type": "stream",
     "text": [
      "1/1 [==============================] - 1s 808ms/step\n",
      "1/1 [==============================] - 0s 21ms/step\n",
      "Model: \"sequential_44\"\n",
      "_________________________________________________________________\n",
      " Layer (type)                Output Shape              Param #   \n",
      "=================================================================\n",
      " lstm_176 (LSTM)             (None, 8, 256)            264192    \n",
      "                                                                 \n",
      " lstm_177 (LSTM)             (None, 8, 128)            197120    \n",
      "                                                                 \n",
      " lstm_178 (LSTM)             (None, 8, 64)             49408     \n",
      "                                                                 \n",
      " lstm_179 (LSTM)             (None, 64)                33024     \n",
      "                                                                 \n",
      " dense_44 (Dense)            (None, 1)                 65        \n",
      "                                                                 \n",
      "=================================================================\n",
      "Total params: 543809 (2.07 MB)\n",
      "Trainable params: 543809 (2.07 MB)\n",
      "Non-trainable params: 0 (0.00 Byte)\n",
      "_________________________________________________________________\n",
      "INFO:tensorflow:Assets written to: model/assets\n"
     ]
    },
    {
     "name": "stderr",
     "output_type": "stream",
     "text": [
      "INFO:tensorflow:Assets written to: model/assets\n"
     ]
    },
    {
     "name": "stdout",
     "output_type": "stream",
     "text": [
      "INFO:tensorflow:Assets written to: model/assets\n"
     ]
    },
    {
     "name": "stderr",
     "output_type": "stream",
     "text": [
      "INFO:tensorflow:Assets written to: model/assets\n"
     ]
    },
    {
     "name": "stdout",
     "output_type": "stream",
     "text": [
      "1/1 [==============================] - 1s 521ms/step\n",
      "1/1 [==============================] - 0s 39ms/step\n",
      "INFO:tensorflow:Assets written to: model/assets\n"
     ]
    },
    {
     "name": "stderr",
     "output_type": "stream",
     "text": [
      "INFO:tensorflow:Assets written to: model/assets\n"
     ]
    },
    {
     "name": "stdout",
     "output_type": "stream",
     "text": [
      "1/1 [==============================] - 1s 513ms/step\n",
      "1/1 [==============================] - 0s 33ms/step\n",
      "1/1 [==============================] - 1s 1s/step\n",
      "1/1 [==============================] - 0s 49ms/step\n",
      "INFO:tensorflow:Assets written to: model/assets\n"
     ]
    },
    {
     "name": "stderr",
     "output_type": "stream",
     "text": [
      "INFO:tensorflow:Assets written to: model/assets\n"
     ]
    },
    {
     "name": "stdout",
     "output_type": "stream",
     "text": [
      "INFO:tensorflow:Assets written to: model/assets\n"
     ]
    },
    {
     "name": "stderr",
     "output_type": "stream",
     "text": [
      "INFO:tensorflow:Assets written to: model/assets\n"
     ]
    },
    {
     "name": "stdout",
     "output_type": "stream",
     "text": [
      "INFO:tensorflow:Assets written to: model/assets\n"
     ]
    },
    {
     "name": "stderr",
     "output_type": "stream",
     "text": [
      "INFO:tensorflow:Assets written to: model/assets\n"
     ]
    },
    {
     "name": "stdout",
     "output_type": "stream",
     "text": [
      "INFO:tensorflow:Assets written to: model/assets\n"
     ]
    },
    {
     "name": "stderr",
     "output_type": "stream",
     "text": [
      "INFO:tensorflow:Assets written to: model/assets\n"
     ]
    },
    {
     "name": "stdout",
     "output_type": "stream",
     "text": [
      "1/1 [==============================] - 0s 494ms/step\n",
      "1/1 [==============================] - 0s 57ms/step\n",
      "1/1 [==============================] - 0s 474ms/step\n",
      "1/1 [==============================] - 0s 30ms/step\n"
     ]
    }
   ],
   "source": [
    "# service bus\n",
    "for i in range(5):\n",
    "\n",
    "    preds_test = []\n",
    "    preds_val = []\n",
    "\n",
    "    walk_history_service_bus = []\n",
    "\n",
    "    walk_mda_test = []\n",
    "    walk_mda_val = []\n",
    "\n",
    "    history = 0 \n",
    "\n",
    "    model = Sequential()\n",
    "    model.add(InputLayer((8, 1)))\n",
    "    model.add(LSTM(256, activation='relu', return_sequences=True))\n",
    "    model.add(LSTM(128, activation='relu', return_sequences=True))\n",
    "    model.add(LSTM(64, activation='relu', return_sequences=True))\n",
    "    model.add(LSTM(64, activation='relu'))\n",
    "    model.add(Dense(1))\n",
    "\n",
    "    model.summary()\n",
    "\n",
    "    cp = ModelCheckpoint(\"model/\", save_best_only=True, verbose = False)\n",
    "    model.compile(loss=custom_loss, optimizer=Adam(learning_rate=0.01), metrics=[custom_loss])\n",
    "\n",
    "    service_bus_model = model\n",
    "\n",
    "    for i in range(5):  \n",
    "\n",
    "        history_dict, service_bus_model = train_model(service_bus_model, service_bus_walk_train_x[i], service_bus_walk_train_y[i], service_bus_walk_val_x[i], service_bus_walk_val_y[i], cp)\n",
    "        walk_history_service_bus.append(history_dict)\n",
    "        preds_test.append(service_bus_model.predict(service_bus_walk_test_x[i]))\n",
    "        preds_val.append(service_bus_model.predict(service_bus_walk_val_x[i]))\n",
    "\n",
    "        preds_test = np.array(preds_test)\n",
    "        preds_val = np.array(preds_val)\n",
    "\n",
    "        walk_mda_test.append(da(service_bus_walk_test_y[i],preds_test.reshape(5)))\n",
    "        walk_mda_val.append(da(service_bus_walk_val_y[i],preds_val.reshape(10)))\n",
    "\n",
    "        predizioni_test_service_bus.append(preds_test)\n",
    "        predizioni_val_service_bus.append(preds_val)\n",
    "\n",
    "        preds_test = []\n",
    "        preds_val = []\n",
    "    \n",
    "    MODELS_SERVICE_BUS.append(service_bus_model)\n",
    "    MDA_VAL_SERVICE_BUS.append(sum(walk_mda_val)/len(walk_mda_val))\n",
    "    MDA_TEST_SERVICE_BUS.append(sum(walk_mda_test)/len(walk_mda_test))\n",
    "    HISTORY_SERVICE_BUS.append(walk_history_service_bus)\n",
    "\n",
    "    walk_mda_test = []\n",
    "    walk_mda_val = []\n"
   ]
  },
  {
   "cell_type": "code",
   "execution_count": 29,
   "metadata": {},
   "outputs": [
    {
     "name": "stdout",
     "output_type": "stream",
     "text": [
      "Model: \"sequential_45\"\n",
      "_________________________________________________________________\n",
      " Layer (type)                Output Shape              Param #   \n",
      "=================================================================\n",
      " lstm_180 (LSTM)             (None, 8, 256)            264192    \n",
      "                                                                 \n",
      " lstm_181 (LSTM)             (None, 8, 128)            197120    \n",
      "                                                                 \n",
      " lstm_182 (LSTM)             (None, 8, 64)             49408     \n",
      "                                                                 \n",
      " lstm_183 (LSTM)             (None, 64)                33024     \n",
      "                                                                 \n",
      " dense_45 (Dense)            (None, 1)                 65        \n",
      "                                                                 \n",
      "=================================================================\n",
      "Total params: 543809 (2.07 MB)\n",
      "Trainable params: 543809 (2.07 MB)\n",
      "Non-trainable params: 0 (0.00 Byte)\n",
      "_________________________________________________________________\n",
      "INFO:tensorflow:Assets written to: model/assets\n"
     ]
    },
    {
     "name": "stderr",
     "output_type": "stream",
     "text": [
      "INFO:tensorflow:Assets written to: model/assets\n"
     ]
    },
    {
     "name": "stdout",
     "output_type": "stream",
     "text": [
      "INFO:tensorflow:Assets written to: model/assets\n"
     ]
    },
    {
     "name": "stderr",
     "output_type": "stream",
     "text": [
      "INFO:tensorflow:Assets written to: model/assets\n"
     ]
    },
    {
     "name": "stdout",
     "output_type": "stream",
     "text": [
      "INFO:tensorflow:Assets written to: model/assets\n"
     ]
    },
    {
     "name": "stderr",
     "output_type": "stream",
     "text": [
      "INFO:tensorflow:Assets written to: model/assets\n"
     ]
    },
    {
     "name": "stdout",
     "output_type": "stream",
     "text": [
      "1/1 [==============================] - 0s 484ms/step\n",
      "1/1 [==============================] - 0s 21ms/step\n",
      "INFO:tensorflow:Assets written to: model/assets\n"
     ]
    },
    {
     "name": "stderr",
     "output_type": "stream",
     "text": [
      "INFO:tensorflow:Assets written to: model/assets\n"
     ]
    },
    {
     "name": "stdout",
     "output_type": "stream",
     "text": [
      "1/1 [==============================] - 0s 473ms/step\n",
      "1/1 [==============================] - 0s 16ms/step\n",
      "1/1 [==============================] - 0s 408ms/step\n",
      "1/1 [==============================] - 0s 24ms/step\n",
      "1/1 [==============================] - 0s 377ms/step\n",
      "1/1 [==============================] - 0s 19ms/step\n",
      "1/1 [==============================] - 0s 396ms/step\n",
      "1/1 [==============================] - 0s 16ms/step\n",
      "Model: \"sequential_46\"\n",
      "_________________________________________________________________\n",
      " Layer (type)                Output Shape              Param #   \n",
      "=================================================================\n",
      " lstm_184 (LSTM)             (None, 8, 256)            264192    \n",
      "                                                                 \n",
      " lstm_185 (LSTM)             (None, 8, 128)            197120    \n",
      "                                                                 \n",
      " lstm_186 (LSTM)             (None, 8, 64)             49408     \n",
      "                                                                 \n",
      " lstm_187 (LSTM)             (None, 64)                33024     \n",
      "                                                                 \n",
      " dense_46 (Dense)            (None, 1)                 65        \n",
      "                                                                 \n",
      "=================================================================\n",
      "Total params: 543809 (2.07 MB)\n",
      "Trainable params: 543809 (2.07 MB)\n",
      "Non-trainable params: 0 (0.00 Byte)\n",
      "_________________________________________________________________\n",
      "INFO:tensorflow:Assets written to: model/assets\n"
     ]
    },
    {
     "name": "stderr",
     "output_type": "stream",
     "text": [
      "INFO:tensorflow:Assets written to: model/assets\n"
     ]
    },
    {
     "name": "stdout",
     "output_type": "stream",
     "text": [
      "INFO:tensorflow:Assets written to: model/assets\n"
     ]
    },
    {
     "name": "stderr",
     "output_type": "stream",
     "text": [
      "INFO:tensorflow:Assets written to: model/assets\n"
     ]
    },
    {
     "name": "stdout",
     "output_type": "stream",
     "text": [
      "INFO:tensorflow:Assets written to: model/assets\n"
     ]
    },
    {
     "name": "stderr",
     "output_type": "stream",
     "text": [
      "INFO:tensorflow:Assets written to: model/assets\n"
     ]
    },
    {
     "name": "stdout",
     "output_type": "stream",
     "text": [
      "INFO:tensorflow:Assets written to: model/assets\n"
     ]
    },
    {
     "name": "stderr",
     "output_type": "stream",
     "text": [
      "INFO:tensorflow:Assets written to: model/assets\n"
     ]
    },
    {
     "name": "stdout",
     "output_type": "stream",
     "text": [
      "INFO:tensorflow:Assets written to: model/assets\n"
     ]
    },
    {
     "name": "stderr",
     "output_type": "stream",
     "text": [
      "INFO:tensorflow:Assets written to: model/assets\n"
     ]
    },
    {
     "name": "stdout",
     "output_type": "stream",
     "text": [
      "INFO:tensorflow:Assets written to: model/assets\n"
     ]
    },
    {
     "name": "stderr",
     "output_type": "stream",
     "text": [
      "INFO:tensorflow:Assets written to: model/assets\n"
     ]
    },
    {
     "name": "stdout",
     "output_type": "stream",
     "text": [
      "INFO:tensorflow:Assets written to: model/assets\n"
     ]
    },
    {
     "name": "stderr",
     "output_type": "stream",
     "text": [
      "INFO:tensorflow:Assets written to: model/assets\n"
     ]
    },
    {
     "name": "stdout",
     "output_type": "stream",
     "text": [
      "INFO:tensorflow:Assets written to: model/assets\n"
     ]
    },
    {
     "name": "stderr",
     "output_type": "stream",
     "text": [
      "INFO:tensorflow:Assets written to: model/assets\n"
     ]
    },
    {
     "name": "stdout",
     "output_type": "stream",
     "text": [
      "1/1 [==============================] - 0s 338ms/step\n",
      "1/1 [==============================] - 0s 23ms/step\n",
      "INFO:tensorflow:Assets written to: model/assets\n"
     ]
    },
    {
     "name": "stderr",
     "output_type": "stream",
     "text": [
      "INFO:tensorflow:Assets written to: model/assets\n"
     ]
    },
    {
     "name": "stdout",
     "output_type": "stream",
     "text": [
      "1/1 [==============================] - 0s 326ms/step\n",
      "1/1 [==============================] - 0s 26ms/step\n",
      "1/1 [==============================] - 0s 328ms/step\n",
      "1/1 [==============================] - 0s 15ms/step\n",
      "1/1 [==============================] - 0s 464ms/step\n",
      "1/1 [==============================] - 0s 19ms/step\n",
      "1/1 [==============================] - 0s 460ms/step\n",
      "1/1 [==============================] - 0s 25ms/step\n",
      "Model: \"sequential_47\"\n",
      "_________________________________________________________________\n",
      " Layer (type)                Output Shape              Param #   \n",
      "=================================================================\n",
      " lstm_188 (LSTM)             (None, 8, 256)            264192    \n",
      "                                                                 \n",
      " lstm_189 (LSTM)             (None, 8, 128)            197120    \n",
      "                                                                 \n",
      " lstm_190 (LSTM)             (None, 8, 64)             49408     \n",
      "                                                                 \n",
      " lstm_191 (LSTM)             (None, 64)                33024     \n",
      "                                                                 \n",
      " dense_47 (Dense)            (None, 1)                 65        \n",
      "                                                                 \n",
      "=================================================================\n",
      "Total params: 543809 (2.07 MB)\n",
      "Trainable params: 543809 (2.07 MB)\n",
      "Non-trainable params: 0 (0.00 Byte)\n",
      "_________________________________________________________________\n",
      "INFO:tensorflow:Assets written to: model/assets\n"
     ]
    },
    {
     "name": "stderr",
     "output_type": "stream",
     "text": [
      "INFO:tensorflow:Assets written to: model/assets\n"
     ]
    },
    {
     "name": "stdout",
     "output_type": "stream",
     "text": [
      "INFO:tensorflow:Assets written to: model/assets\n"
     ]
    },
    {
     "name": "stderr",
     "output_type": "stream",
     "text": [
      "INFO:tensorflow:Assets written to: model/assets\n"
     ]
    },
    {
     "name": "stdout",
     "output_type": "stream",
     "text": [
      "INFO:tensorflow:Assets written to: model/assets\n"
     ]
    },
    {
     "name": "stderr",
     "output_type": "stream",
     "text": [
      "INFO:tensorflow:Assets written to: model/assets\n"
     ]
    },
    {
     "name": "stdout",
     "output_type": "stream",
     "text": [
      "INFO:tensorflow:Assets written to: model/assets\n"
     ]
    },
    {
     "name": "stderr",
     "output_type": "stream",
     "text": [
      "INFO:tensorflow:Assets written to: model/assets\n"
     ]
    },
    {
     "name": "stdout",
     "output_type": "stream",
     "text": [
      "INFO:tensorflow:Assets written to: model/assets\n"
     ]
    },
    {
     "name": "stderr",
     "output_type": "stream",
     "text": [
      "INFO:tensorflow:Assets written to: model/assets\n"
     ]
    },
    {
     "name": "stdout",
     "output_type": "stream",
     "text": [
      "1/1 [==============================] - 0s 490ms/step\n",
      "1/1 [==============================] - 0s 19ms/step\n",
      "1/1 [==============================] - 0s 385ms/step\n",
      "1/1 [==============================] - 0s 15ms/step\n",
      "1/1 [==============================] - 0s 360ms/step\n",
      "1/1 [==============================] - 0s 14ms/step\n",
      "1/1 [==============================] - 0s 361ms/step\n",
      "1/1 [==============================] - 0s 18ms/step\n",
      "1/1 [==============================] - 0s 409ms/step\n",
      "1/1 [==============================] - 0s 19ms/step\n",
      "Model: \"sequential_48\"\n",
      "_________________________________________________________________\n",
      " Layer (type)                Output Shape              Param #   \n",
      "=================================================================\n",
      " lstm_192 (LSTM)             (None, 8, 256)            264192    \n",
      "                                                                 \n",
      " lstm_193 (LSTM)             (None, 8, 128)            197120    \n",
      "                                                                 \n",
      " lstm_194 (LSTM)             (None, 8, 64)             49408     \n",
      "                                                                 \n",
      " lstm_195 (LSTM)             (None, 64)                33024     \n",
      "                                                                 \n",
      " dense_48 (Dense)            (None, 1)                 65        \n",
      "                                                                 \n",
      "=================================================================\n",
      "Total params: 543809 (2.07 MB)\n",
      "Trainable params: 543809 (2.07 MB)\n",
      "Non-trainable params: 0 (0.00 Byte)\n",
      "_________________________________________________________________\n",
      "INFO:tensorflow:Assets written to: model/assets\n"
     ]
    },
    {
     "name": "stderr",
     "output_type": "stream",
     "text": [
      "INFO:tensorflow:Assets written to: model/assets\n"
     ]
    },
    {
     "name": "stdout",
     "output_type": "stream",
     "text": [
      "INFO:tensorflow:Assets written to: model/assets\n"
     ]
    },
    {
     "name": "stderr",
     "output_type": "stream",
     "text": [
      "INFO:tensorflow:Assets written to: model/assets\n"
     ]
    },
    {
     "name": "stdout",
     "output_type": "stream",
     "text": [
      "INFO:tensorflow:Assets written to: model/assets\n"
     ]
    },
    {
     "name": "stderr",
     "output_type": "stream",
     "text": [
      "INFO:tensorflow:Assets written to: model/assets\n"
     ]
    },
    {
     "name": "stdout",
     "output_type": "stream",
     "text": [
      "INFO:tensorflow:Assets written to: model/assets\n"
     ]
    },
    {
     "name": "stderr",
     "output_type": "stream",
     "text": [
      "INFO:tensorflow:Assets written to: model/assets\n"
     ]
    },
    {
     "name": "stdout",
     "output_type": "stream",
     "text": [
      "INFO:tensorflow:Assets written to: model/assets\n"
     ]
    },
    {
     "name": "stderr",
     "output_type": "stream",
     "text": [
      "INFO:tensorflow:Assets written to: model/assets\n"
     ]
    },
    {
     "name": "stdout",
     "output_type": "stream",
     "text": [
      "INFO:tensorflow:Assets written to: model/assets\n"
     ]
    },
    {
     "name": "stderr",
     "output_type": "stream",
     "text": [
      "INFO:tensorflow:Assets written to: model/assets\n"
     ]
    },
    {
     "name": "stdout",
     "output_type": "stream",
     "text": [
      "INFO:tensorflow:Assets written to: model/assets\n"
     ]
    },
    {
     "name": "stderr",
     "output_type": "stream",
     "text": [
      "INFO:tensorflow:Assets written to: model/assets\n"
     ]
    },
    {
     "name": "stdout",
     "output_type": "stream",
     "text": [
      "INFO:tensorflow:Assets written to: model/assets\n"
     ]
    },
    {
     "name": "stderr",
     "output_type": "stream",
     "text": [
      "INFO:tensorflow:Assets written to: model/assets\n"
     ]
    },
    {
     "name": "stdout",
     "output_type": "stream",
     "text": [
      "INFO:tensorflow:Assets written to: model/assets\n"
     ]
    },
    {
     "name": "stderr",
     "output_type": "stream",
     "text": [
      "INFO:tensorflow:Assets written to: model/assets\n"
     ]
    },
    {
     "name": "stdout",
     "output_type": "stream",
     "text": [
      "1/1 [==============================] - 1s 542ms/step\n",
      "1/1 [==============================] - 0s 15ms/step\n",
      "INFO:tensorflow:Assets written to: model/assets\n"
     ]
    },
    {
     "name": "stderr",
     "output_type": "stream",
     "text": [
      "INFO:tensorflow:Assets written to: model/assets\n"
     ]
    },
    {
     "name": "stdout",
     "output_type": "stream",
     "text": [
      "1/1 [==============================] - 0s 481ms/step\n",
      "1/1 [==============================] - 0s 27ms/step\n",
      "1/1 [==============================] - 0s 401ms/step\n",
      "1/1 [==============================] - 0s 16ms/step\n",
      "1/1 [==============================] - 0s 411ms/step\n",
      "1/1 [==============================] - 0s 27ms/step\n",
      "1/1 [==============================] - 0s 414ms/step\n",
      "1/1 [==============================] - 0s 15ms/step\n",
      "Model: \"sequential_49\"\n",
      "_________________________________________________________________\n",
      " Layer (type)                Output Shape              Param #   \n",
      "=================================================================\n",
      " lstm_196 (LSTM)             (None, 8, 256)            264192    \n",
      "                                                                 \n",
      " lstm_197 (LSTM)             (None, 8, 128)            197120    \n",
      "                                                                 \n",
      " lstm_198 (LSTM)             (None, 8, 64)             49408     \n",
      "                                                                 \n",
      " lstm_199 (LSTM)             (None, 64)                33024     \n",
      "                                                                 \n",
      " dense_49 (Dense)            (None, 1)                 65        \n",
      "                                                                 \n",
      "=================================================================\n",
      "Total params: 543809 (2.07 MB)\n",
      "Trainable params: 543809 (2.07 MB)\n",
      "Non-trainable params: 0 (0.00 Byte)\n",
      "_________________________________________________________________\n",
      "INFO:tensorflow:Assets written to: model/assets\n"
     ]
    },
    {
     "name": "stderr",
     "output_type": "stream",
     "text": [
      "INFO:tensorflow:Assets written to: model/assets\n"
     ]
    },
    {
     "name": "stdout",
     "output_type": "stream",
     "text": [
      "INFO:tensorflow:Assets written to: model/assets\n"
     ]
    },
    {
     "name": "stderr",
     "output_type": "stream",
     "text": [
      "INFO:tensorflow:Assets written to: model/assets\n"
     ]
    },
    {
     "name": "stdout",
     "output_type": "stream",
     "text": [
      "INFO:tensorflow:Assets written to: model/assets\n"
     ]
    },
    {
     "name": "stderr",
     "output_type": "stream",
     "text": [
      "INFO:tensorflow:Assets written to: model/assets\n"
     ]
    },
    {
     "name": "stdout",
     "output_type": "stream",
     "text": [
      "1/1 [==============================] - 0s 491ms/step\n",
      "1/1 [==============================] - 0s 19ms/step\n",
      "INFO:tensorflow:Assets written to: model/assets\n"
     ]
    },
    {
     "name": "stderr",
     "output_type": "stream",
     "text": [
      "INFO:tensorflow:Assets written to: model/assets\n"
     ]
    },
    {
     "name": "stdout",
     "output_type": "stream",
     "text": [
      "1/1 [==============================] - 0s 384ms/step\n",
      "1/1 [==============================] - 0s 20ms/step\n",
      "1/1 [==============================] - 0s 346ms/step\n",
      "1/1 [==============================] - 0s 18ms/step\n",
      "1/1 [==============================] - 1s 673ms/step\n",
      "1/1 [==============================] - 0s 15ms/step\n",
      "1/1 [==============================] - 0s 353ms/step\n",
      "1/1 [==============================] - 0s 17ms/step\n",
      "Model: \"sequential_50\"\n",
      "_________________________________________________________________\n",
      " Layer (type)                Output Shape              Param #   \n",
      "=================================================================\n",
      " lstm_200 (LSTM)             (None, 8, 256)            264192    \n",
      "                                                                 \n",
      " lstm_201 (LSTM)             (None, 8, 128)            197120    \n",
      "                                                                 \n",
      " lstm_202 (LSTM)             (None, 8, 64)             49408     \n",
      "                                                                 \n",
      " lstm_203 (LSTM)             (None, 64)                33024     \n",
      "                                                                 \n",
      " dense_50 (Dense)            (None, 1)                 65        \n",
      "                                                                 \n",
      "=================================================================\n",
      "Total params: 543809 (2.07 MB)\n",
      "Trainable params: 543809 (2.07 MB)\n",
      "Non-trainable params: 0 (0.00 Byte)\n",
      "_________________________________________________________________\n",
      "INFO:tensorflow:Assets written to: model/assets\n"
     ]
    },
    {
     "name": "stderr",
     "output_type": "stream",
     "text": [
      "INFO:tensorflow:Assets written to: model/assets\n"
     ]
    },
    {
     "name": "stdout",
     "output_type": "stream",
     "text": [
      "INFO:tensorflow:Assets written to: model/assets\n"
     ]
    },
    {
     "name": "stderr",
     "output_type": "stream",
     "text": [
      "INFO:tensorflow:Assets written to: model/assets\n"
     ]
    },
    {
     "name": "stdout",
     "output_type": "stream",
     "text": [
      "INFO:tensorflow:Assets written to: model/assets\n"
     ]
    },
    {
     "name": "stderr",
     "output_type": "stream",
     "text": [
      "INFO:tensorflow:Assets written to: model/assets\n"
     ]
    },
    {
     "name": "stdout",
     "output_type": "stream",
     "text": [
      "INFO:tensorflow:Assets written to: model/assets\n"
     ]
    },
    {
     "name": "stderr",
     "output_type": "stream",
     "text": [
      "INFO:tensorflow:Assets written to: model/assets\n"
     ]
    },
    {
     "name": "stdout",
     "output_type": "stream",
     "text": [
      "INFO:tensorflow:Assets written to: model/assets\n"
     ]
    },
    {
     "name": "stderr",
     "output_type": "stream",
     "text": [
      "INFO:tensorflow:Assets written to: model/assets\n"
     ]
    },
    {
     "name": "stdout",
     "output_type": "stream",
     "text": [
      "INFO:tensorflow:Assets written to: model/assets\n"
     ]
    },
    {
     "name": "stderr",
     "output_type": "stream",
     "text": [
      "INFO:tensorflow:Assets written to: model/assets\n"
     ]
    },
    {
     "name": "stdout",
     "output_type": "stream",
     "text": [
      "INFO:tensorflow:Assets written to: model/assets\n"
     ]
    },
    {
     "name": "stderr",
     "output_type": "stream",
     "text": [
      "INFO:tensorflow:Assets written to: model/assets\n"
     ]
    },
    {
     "name": "stdout",
     "output_type": "stream",
     "text": [
      "INFO:tensorflow:Assets written to: model/assets\n"
     ]
    },
    {
     "name": "stderr",
     "output_type": "stream",
     "text": [
      "INFO:tensorflow:Assets written to: model/assets\n"
     ]
    },
    {
     "name": "stdout",
     "output_type": "stream",
     "text": [
      "1/1 [==============================] - 0s 375ms/step\n",
      "1/1 [==============================] - 0s 18ms/step\n",
      "INFO:tensorflow:Assets written to: model/assets\n"
     ]
    },
    {
     "name": "stderr",
     "output_type": "stream",
     "text": [
      "INFO:tensorflow:Assets written to: model/assets\n"
     ]
    },
    {
     "name": "stdout",
     "output_type": "stream",
     "text": [
      "1/1 [==============================] - 0s 336ms/step\n",
      "1/1 [==============================] - 0s 20ms/step\n",
      "1/1 [==============================] - 0s 351ms/step\n",
      "1/1 [==============================] - 0s 15ms/step\n",
      "INFO:tensorflow:Assets written to: model/assets\n"
     ]
    },
    {
     "name": "stderr",
     "output_type": "stream",
     "text": [
      "INFO:tensorflow:Assets written to: model/assets\n"
     ]
    },
    {
     "name": "stdout",
     "output_type": "stream",
     "text": [
      "1/1 [==============================] - 0s 329ms/step\n",
      "1/1 [==============================] - 0s 18ms/step\n",
      "1/1 [==============================] - 0s 321ms/step\n",
      "1/1 [==============================] - 0s 15ms/step\n",
      "Model: \"sequential_51\"\n",
      "_________________________________________________________________\n",
      " Layer (type)                Output Shape              Param #   \n",
      "=================================================================\n",
      " lstm_204 (LSTM)             (None, 8, 256)            264192    \n",
      "                                                                 \n",
      " lstm_205 (LSTM)             (None, 8, 128)            197120    \n",
      "                                                                 \n",
      " lstm_206 (LSTM)             (None, 8, 64)             49408     \n",
      "                                                                 \n",
      " lstm_207 (LSTM)             (None, 64)                33024     \n",
      "                                                                 \n",
      " dense_51 (Dense)            (None, 1)                 65        \n",
      "                                                                 \n",
      "=================================================================\n",
      "Total params: 543809 (2.07 MB)\n",
      "Trainable params: 543809 (2.07 MB)\n",
      "Non-trainable params: 0 (0.00 Byte)\n",
      "_________________________________________________________________\n",
      "INFO:tensorflow:Assets written to: model/assets\n"
     ]
    },
    {
     "name": "stderr",
     "output_type": "stream",
     "text": [
      "INFO:tensorflow:Assets written to: model/assets\n"
     ]
    },
    {
     "name": "stdout",
     "output_type": "stream",
     "text": [
      "INFO:tensorflow:Assets written to: model/assets\n"
     ]
    },
    {
     "name": "stderr",
     "output_type": "stream",
     "text": [
      "INFO:tensorflow:Assets written to: model/assets\n"
     ]
    },
    {
     "name": "stdout",
     "output_type": "stream",
     "text": [
      "INFO:tensorflow:Assets written to: model/assets\n"
     ]
    },
    {
     "name": "stderr",
     "output_type": "stream",
     "text": [
      "INFO:tensorflow:Assets written to: model/assets\n"
     ]
    },
    {
     "name": "stdout",
     "output_type": "stream",
     "text": [
      "INFO:tensorflow:Assets written to: model/assets\n"
     ]
    },
    {
     "name": "stderr",
     "output_type": "stream",
     "text": [
      "INFO:tensorflow:Assets written to: model/assets\n"
     ]
    },
    {
     "name": "stdout",
     "output_type": "stream",
     "text": [
      "INFO:tensorflow:Assets written to: model/assets\n"
     ]
    },
    {
     "name": "stderr",
     "output_type": "stream",
     "text": [
      "INFO:tensorflow:Assets written to: model/assets\n"
     ]
    },
    {
     "name": "stdout",
     "output_type": "stream",
     "text": [
      "1/1 [==============================] - 0s 491ms/step\n",
      "1/1 [==============================] - 0s 29ms/step\n",
      "1/1 [==============================] - 0s 493ms/step\n",
      "1/1 [==============================] - 0s 20ms/step\n",
      "1/1 [==============================] - 1s 516ms/step\n",
      "1/1 [==============================] - 0s 18ms/step\n",
      "INFO:tensorflow:Assets written to: model/assets\n"
     ]
    },
    {
     "name": "stderr",
     "output_type": "stream",
     "text": [
      "INFO:tensorflow:Assets written to: model/assets\n"
     ]
    },
    {
     "name": "stdout",
     "output_type": "stream",
     "text": [
      "1/1 [==============================] - 1s 528ms/step\n",
      "1/1 [==============================] - 0s 23ms/step\n",
      "1/1 [==============================] - 0s 450ms/step\n",
      "1/1 [==============================] - 0s 22ms/step\n",
      "Model: \"sequential_52\"\n",
      "_________________________________________________________________\n",
      " Layer (type)                Output Shape              Param #   \n",
      "=================================================================\n",
      " lstm_208 (LSTM)             (None, 8, 256)            264192    \n",
      "                                                                 \n",
      " lstm_209 (LSTM)             (None, 8, 128)            197120    \n",
      "                                                                 \n",
      " lstm_210 (LSTM)             (None, 8, 64)             49408     \n",
      "                                                                 \n",
      " lstm_211 (LSTM)             (None, 64)                33024     \n",
      "                                                                 \n",
      " dense_52 (Dense)            (None, 1)                 65        \n",
      "                                                                 \n",
      "=================================================================\n",
      "Total params: 543809 (2.07 MB)\n",
      "Trainable params: 543809 (2.07 MB)\n",
      "Non-trainable params: 0 (0.00 Byte)\n",
      "_________________________________________________________________\n",
      "INFO:tensorflow:Assets written to: model/assets\n"
     ]
    },
    {
     "name": "stderr",
     "output_type": "stream",
     "text": [
      "INFO:tensorflow:Assets written to: model/assets\n"
     ]
    },
    {
     "name": "stdout",
     "output_type": "stream",
     "text": [
      "INFO:tensorflow:Assets written to: model/assets\n"
     ]
    },
    {
     "name": "stderr",
     "output_type": "stream",
     "text": [
      "INFO:tensorflow:Assets written to: model/assets\n"
     ]
    },
    {
     "name": "stdout",
     "output_type": "stream",
     "text": [
      "INFO:tensorflow:Assets written to: model/assets\n"
     ]
    },
    {
     "name": "stderr",
     "output_type": "stream",
     "text": [
      "INFO:tensorflow:Assets written to: model/assets\n"
     ]
    },
    {
     "name": "stdout",
     "output_type": "stream",
     "text": [
      "INFO:tensorflow:Assets written to: model/assets\n"
     ]
    },
    {
     "name": "stderr",
     "output_type": "stream",
     "text": [
      "INFO:tensorflow:Assets written to: model/assets\n"
     ]
    },
    {
     "name": "stdout",
     "output_type": "stream",
     "text": [
      "INFO:tensorflow:Assets written to: model/assets\n"
     ]
    },
    {
     "name": "stderr",
     "output_type": "stream",
     "text": [
      "INFO:tensorflow:Assets written to: model/assets\n"
     ]
    },
    {
     "name": "stdout",
     "output_type": "stream",
     "text": [
      "INFO:tensorflow:Assets written to: model/assets\n"
     ]
    },
    {
     "name": "stderr",
     "output_type": "stream",
     "text": [
      "INFO:tensorflow:Assets written to: model/assets\n"
     ]
    },
    {
     "name": "stdout",
     "output_type": "stream",
     "text": [
      "INFO:tensorflow:Assets written to: model/assets\n"
     ]
    },
    {
     "name": "stderr",
     "output_type": "stream",
     "text": [
      "INFO:tensorflow:Assets written to: model/assets\n"
     ]
    },
    {
     "name": "stdout",
     "output_type": "stream",
     "text": [
      "INFO:tensorflow:Assets written to: model/assets\n"
     ]
    },
    {
     "name": "stderr",
     "output_type": "stream",
     "text": [
      "INFO:tensorflow:Assets written to: model/assets\n"
     ]
    },
    {
     "name": "stdout",
     "output_type": "stream",
     "text": [
      "INFO:tensorflow:Assets written to: model/assets\n"
     ]
    },
    {
     "name": "stderr",
     "output_type": "stream",
     "text": [
      "INFO:tensorflow:Assets written to: model/assets\n"
     ]
    },
    {
     "name": "stdout",
     "output_type": "stream",
     "text": [
      "1/1 [==============================] - 0s 465ms/step\n",
      "1/1 [==============================] - 0s 23ms/step\n",
      "INFO:tensorflow:Assets written to: model/assets\n"
     ]
    },
    {
     "name": "stderr",
     "output_type": "stream",
     "text": [
      "INFO:tensorflow:Assets written to: model/assets\n"
     ]
    },
    {
     "name": "stdout",
     "output_type": "stream",
     "text": [
      "INFO:tensorflow:Assets written to: model/assets\n"
     ]
    },
    {
     "name": "stderr",
     "output_type": "stream",
     "text": [
      "INFO:tensorflow:Assets written to: model/assets\n"
     ]
    },
    {
     "name": "stdout",
     "output_type": "stream",
     "text": [
      "1/1 [==============================] - 0s 413ms/step\n",
      "1/1 [==============================] - 0s 20ms/step\n",
      "1/1 [==============================] - 0s 351ms/step\n",
      "1/1 [==============================] - 0s 20ms/step\n",
      "INFO:tensorflow:Assets written to: model/assets\n"
     ]
    },
    {
     "name": "stderr",
     "output_type": "stream",
     "text": [
      "INFO:tensorflow:Assets written to: model/assets\n"
     ]
    },
    {
     "name": "stdout",
     "output_type": "stream",
     "text": [
      "1/1 [==============================] - 0s 374ms/step\n",
      "1/1 [==============================] - 0s 21ms/step\n",
      "1/1 [==============================] - 0s 365ms/step\n",
      "1/1 [==============================] - 0s 21ms/step\n",
      "Model: \"sequential_53\"\n",
      "_________________________________________________________________\n",
      " Layer (type)                Output Shape              Param #   \n",
      "=================================================================\n",
      " lstm_212 (LSTM)             (None, 8, 256)            264192    \n",
      "                                                                 \n",
      " lstm_213 (LSTM)             (None, 8, 128)            197120    \n",
      "                                                                 \n",
      " lstm_214 (LSTM)             (None, 8, 64)             49408     \n",
      "                                                                 \n",
      " lstm_215 (LSTM)             (None, 64)                33024     \n",
      "                                                                 \n",
      " dense_53 (Dense)            (None, 1)                 65        \n",
      "                                                                 \n",
      "=================================================================\n",
      "Total params: 543809 (2.07 MB)\n",
      "Trainable params: 543809 (2.07 MB)\n",
      "Non-trainable params: 0 (0.00 Byte)\n",
      "_________________________________________________________________\n",
      "INFO:tensorflow:Assets written to: model/assets\n"
     ]
    },
    {
     "name": "stderr",
     "output_type": "stream",
     "text": [
      "INFO:tensorflow:Assets written to: model/assets\n"
     ]
    },
    {
     "name": "stdout",
     "output_type": "stream",
     "text": [
      "INFO:tensorflow:Assets written to: model/assets\n"
     ]
    },
    {
     "name": "stderr",
     "output_type": "stream",
     "text": [
      "INFO:tensorflow:Assets written to: model/assets\n"
     ]
    },
    {
     "name": "stdout",
     "output_type": "stream",
     "text": [
      "INFO:tensorflow:Assets written to: model/assets\n"
     ]
    },
    {
     "name": "stderr",
     "output_type": "stream",
     "text": [
      "INFO:tensorflow:Assets written to: model/assets\n"
     ]
    },
    {
     "name": "stdout",
     "output_type": "stream",
     "text": [
      "INFO:tensorflow:Assets written to: model/assets\n"
     ]
    },
    {
     "name": "stderr",
     "output_type": "stream",
     "text": [
      "INFO:tensorflow:Assets written to: model/assets\n"
     ]
    },
    {
     "name": "stdout",
     "output_type": "stream",
     "text": [
      "INFO:tensorflow:Assets written to: model/assets\n"
     ]
    },
    {
     "name": "stderr",
     "output_type": "stream",
     "text": [
      "INFO:tensorflow:Assets written to: model/assets\n"
     ]
    },
    {
     "name": "stdout",
     "output_type": "stream",
     "text": [
      "INFO:tensorflow:Assets written to: model/assets\n"
     ]
    },
    {
     "name": "stderr",
     "output_type": "stream",
     "text": [
      "INFO:tensorflow:Assets written to: model/assets\n"
     ]
    },
    {
     "name": "stdout",
     "output_type": "stream",
     "text": [
      "INFO:tensorflow:Assets written to: model/assets\n"
     ]
    },
    {
     "name": "stderr",
     "output_type": "stream",
     "text": [
      "INFO:tensorflow:Assets written to: model/assets\n"
     ]
    },
    {
     "name": "stdout",
     "output_type": "stream",
     "text": [
      "INFO:tensorflow:Assets written to: model/assets\n"
     ]
    },
    {
     "name": "stderr",
     "output_type": "stream",
     "text": [
      "INFO:tensorflow:Assets written to: model/assets\n"
     ]
    },
    {
     "name": "stdout",
     "output_type": "stream",
     "text": [
      "1/1 [==============================] - 0s 463ms/step\n",
      "1/1 [==============================] - 0s 17ms/step\n",
      "1/1 [==============================] - 0s 411ms/step\n",
      "1/1 [==============================] - 0s 16ms/step\n",
      "1/1 [==============================] - 0s 377ms/step\n",
      "1/1 [==============================] - 0s 20ms/step\n",
      "1/1 [==============================] - 0s 348ms/step\n",
      "1/1 [==============================] - 0s 15ms/step\n",
      "1/1 [==============================] - 0s 371ms/step\n",
      "1/1 [==============================] - 0s 15ms/step\n",
      "Model: \"sequential_54\"\n",
      "_________________________________________________________________\n",
      " Layer (type)                Output Shape              Param #   \n",
      "=================================================================\n",
      " lstm_216 (LSTM)             (None, 8, 256)            264192    \n",
      "                                                                 \n",
      " lstm_217 (LSTM)             (None, 8, 128)            197120    \n",
      "                                                                 \n",
      " lstm_218 (LSTM)             (None, 8, 64)             49408     \n",
      "                                                                 \n",
      " lstm_219 (LSTM)             (None, 64)                33024     \n",
      "                                                                 \n",
      " dense_54 (Dense)            (None, 1)                 65        \n",
      "                                                                 \n",
      "=================================================================\n",
      "Total params: 543809 (2.07 MB)\n",
      "Trainable params: 543809 (2.07 MB)\n",
      "Non-trainable params: 0 (0.00 Byte)\n",
      "_________________________________________________________________\n",
      "INFO:tensorflow:Assets written to: model/assets\n"
     ]
    },
    {
     "name": "stderr",
     "output_type": "stream",
     "text": [
      "INFO:tensorflow:Assets written to: model/assets\n"
     ]
    },
    {
     "name": "stdout",
     "output_type": "stream",
     "text": [
      "INFO:tensorflow:Assets written to: model/assets\n"
     ]
    },
    {
     "name": "stderr",
     "output_type": "stream",
     "text": [
      "INFO:tensorflow:Assets written to: model/assets\n"
     ]
    },
    {
     "name": "stdout",
     "output_type": "stream",
     "text": [
      "INFO:tensorflow:Assets written to: model/assets\n"
     ]
    },
    {
     "name": "stderr",
     "output_type": "stream",
     "text": [
      "INFO:tensorflow:Assets written to: model/assets\n"
     ]
    },
    {
     "name": "stdout",
     "output_type": "stream",
     "text": [
      "INFO:tensorflow:Assets written to: model/assets\n"
     ]
    },
    {
     "name": "stderr",
     "output_type": "stream",
     "text": [
      "INFO:tensorflow:Assets written to: model/assets\n"
     ]
    },
    {
     "name": "stdout",
     "output_type": "stream",
     "text": [
      "INFO:tensorflow:Assets written to: model/assets\n"
     ]
    },
    {
     "name": "stderr",
     "output_type": "stream",
     "text": [
      "INFO:tensorflow:Assets written to: model/assets\n"
     ]
    },
    {
     "name": "stdout",
     "output_type": "stream",
     "text": [
      "INFO:tensorflow:Assets written to: model/assets\n"
     ]
    },
    {
     "name": "stderr",
     "output_type": "stream",
     "text": [
      "INFO:tensorflow:Assets written to: model/assets\n"
     ]
    },
    {
     "name": "stdout",
     "output_type": "stream",
     "text": [
      "INFO:tensorflow:Assets written to: model/assets\n"
     ]
    },
    {
     "name": "stderr",
     "output_type": "stream",
     "text": [
      "INFO:tensorflow:Assets written to: model/assets\n"
     ]
    },
    {
     "name": "stdout",
     "output_type": "stream",
     "text": [
      "INFO:tensorflow:Assets written to: model/assets\n"
     ]
    },
    {
     "name": "stderr",
     "output_type": "stream",
     "text": [
      "INFO:tensorflow:Assets written to: model/assets\n"
     ]
    },
    {
     "name": "stdout",
     "output_type": "stream",
     "text": [
      "1/1 [==============================] - 1s 701ms/step\n",
      "1/1 [==============================] - 0s 27ms/step\n",
      "INFO:tensorflow:Assets written to: model/assets\n"
     ]
    },
    {
     "name": "stderr",
     "output_type": "stream",
     "text": [
      "INFO:tensorflow:Assets written to: model/assets\n"
     ]
    },
    {
     "name": "stdout",
     "output_type": "stream",
     "text": [
      "1/1 [==============================] - 1s 507ms/step\n",
      "1/1 [==============================] - 0s 18ms/step\n",
      "1/1 [==============================] - 1s 562ms/step\n",
      "1/1 [==============================] - 0s 18ms/step\n",
      "INFO:tensorflow:Assets written to: model/assets\n"
     ]
    },
    {
     "name": "stderr",
     "output_type": "stream",
     "text": [
      "INFO:tensorflow:Assets written to: model/assets\n"
     ]
    },
    {
     "name": "stdout",
     "output_type": "stream",
     "text": [
      "1/1 [==============================] - 1s 523ms/step\n",
      "1/1 [==============================] - 0s 15ms/step\n",
      "1/1 [==============================] - 1s 547ms/step\n",
      "1/1 [==============================] - 0s 15ms/step\n"
     ]
    }
   ],
   "source": [
    "predizioni_val_remaining = []\n",
    "predizioni_test_remaining = []\n",
    "MODELS_OTHERS = []\n",
    "MDA_TEST_OTHERS = []\n",
    "MDA_VAL_OTHERS = []\n",
    "HISTORY_OTHERS = []\n",
    "\n",
    "#remaining\n",
    "for i in range(10):\n",
    "\n",
    "    preds_test = []\n",
    "    preds_val = []\n",
    "\n",
    "    walk_history_remaining = []\n",
    "\n",
    "    walk_mda_test = []\n",
    "    walk_mda_val = []\n",
    "\n",
    "    history = 0 \n",
    "\n",
    "    model = Sequential()\n",
    "    model.add(InputLayer((8, 1)))\n",
    "    model.add(LSTM(256, activation='relu', return_sequences=True))\n",
    "    model.add(LSTM(128, activation='relu', return_sequences=True))\n",
    "    model.add(LSTM(64, activation='relu', return_sequences=True))\n",
    "    model.add(LSTM(64, activation='relu'))\n",
    "    model.add(Dense(1))\n",
    "\n",
    "    model.summary()\n",
    "\n",
    "    cp = ModelCheckpoint(\"model/\", save_best_only=True, verbose = False)\n",
    "    model.compile(loss=custom_loss, optimizer=Adam(learning_rate=0.01), metrics=[custom_loss])\n",
    "\n",
    "    remaining_model = model\n",
    "    for i in range(5):  \n",
    "\n",
    "        #storage\n",
    "        history_dict, remaining_model = train_model(remaining_model, remaining_walk_train_x[i], remaining_walk_train_y[i], remaining_walk_val_x[i], remaining_walk_val_y[i], cp)\n",
    "        walk_history_remaining.append(history_dict)\n",
    "        preds_test.append(remaining_model.predict(remaining_walk_test_x[i]))\n",
    "        preds_val.append(remaining_model.predict(remaining_walk_val_x[i]))\n",
    "\n",
    "        preds_test = np.array(preds_test)\n",
    "        preds_val = np.array(preds_val)\n",
    "\n",
    "        walk_mda_test.append(da(remaining_walk_test_y[i],preds_test.reshape(5)))\n",
    "        walk_mda_val.append(da(remaining_walk_val_y[i],preds_val.reshape(10)))\n",
    "\n",
    "        predizioni_test_remaining.append(preds_test)\n",
    "        predizioni_val_remaining.append(preds_val)\n",
    "\n",
    "        preds_test = []\n",
    "        preds_val = []\n",
    "    \n",
    "    MODELS_OTHERS.append(remaining_model)\n",
    "    MDA_VAL_OTHERS.append(sum(walk_mda_val)/len(walk_mda_val))\n",
    "    MDA_TEST_OTHERS.append(sum(walk_mda_test)/len(walk_mda_test))\n",
    "    HISTORY_OTHERS.append(walk_history_remaining)\n",
    "\n",
    "    walk_mda_test = []\n",
    "    walk_mda_val = []"
   ]
  },
  {
   "cell_type": "markdown",
   "metadata": {},
   "source": [
    "# Results"
   ]
  },
  {
   "cell_type": "code",
   "execution_count": 39,
   "metadata": {},
   "outputs": [
    {
     "name": "stdout",
     "output_type": "stream",
     "text": [
      "[0.5333333333333334, 0.5555555555555556, 0.5555555555555556, 0.5555555555555556, 0.5555555555555556, 0.5555555555555556, 0.5555555555555556, 0.6444444444444445, 0.5555555555555556, 0.5555555555555556]\n",
      "[0.5111111111111111, 0.5111111111111111, 0.5111111111111111, 0.5111111111111111, 0.5111111111111111]\n",
      "[0.6666666666666667, 0.6222222222222221, 0.6666666666666667, 0.6, 0.6666666666666667]\n",
      "[0.39999999999999997, 0.48888888888888893, 0.6444444444444445, 0.6888888888888889, 0.6666666666666666]\n",
      "[0.6666666666666667, 0.6666666666666667, 0.7333333333333333, 0.6444444444444444, 0.7333333333333333]\n",
      "[0.5555555555555556, 0.6, 0.5777777777777777, 0.6, 0.6222222222222222]\n",
      "[0.6888888888888889, 0.7333333333333333, 0.7333333333333333, 0.711111111111111, 0.7999999999999999]\n",
      "[0.6444444444444445, 0.6222222222222221, 0.6888888888888889, 0.6666666666666666, 0.7555555555555555]\n",
      "[0.6, 0.5555555555555556, 0.6222222222222223, 0.6222222222222222, 0.5777777777777778, 0.7333333333333334, 0.7555555555555555, 0.711111111111111, 0.6000000000000001, 0.6888888888888889]\n",
      "0.7\n",
      "0.6\n",
      "0.6\n",
      "0.7\n",
      "0.7\n",
      "0.65\n",
      "0.6\n",
      "0.65\n",
      "0.45\n"
     ]
    }
   ],
   "source": [
    "print(MDA_VAL_STORAGE)\n",
    "print(MDA_VAL_VIRTUAL_MACHINES)\n",
    "print(MDA_VAL_AUTOMATION)\n",
    "print(MDA_VAL_LOGIC_APPS)\n",
    "print(MDA_VAL_BANDWIDTH)\n",
    "print(MDA_VAL_LOAD_BALANCER)\n",
    "print(MDA_VAL_LOG_ANALYTICS)\n",
    "print(MDA_VAL_SERVICE_BUS)\n",
    "print(MDA_VAL_OTHERS)\n",
    "\n",
    "print(MDA_TEST_STORAGE[7])\n",
    "print(MDA_TEST_VIRTUAL_MACHINES[0])\n",
    "print(MDA_TEST_AUTOMATION[0])\n",
    "print(MDA_TEST_LOGIC_APPS[3])\n",
    "print(MDA_TEST_BANDWIDTH[2])\n",
    "print(MDA_TEST_LOAD_BALANCER[4])\n",
    "print(MDA_TEST_LOG_ANALYTICS[4])\n",
    "print(MDA_TEST_SERVICE_BUS[4])\n",
    "print(MDA_TEST_OTHERS[6])\n",
    "\n",
    "storage_int = 7\n",
    "virtual_machines_int = 0\n",
    "automation_int = 0\n",
    "logic_apps_int = 3\n",
    "bandwidth_int = 2\n",
    "load_balancer_int = 4\n",
    "log_analytics_int = 4\n",
    "service_bus_int = 4\n",
    "remaining_int = 6"
   ]
  },
  {
   "cell_type": "code",
   "execution_count": 40,
   "metadata": {},
   "outputs": [],
   "source": [
    "model_storage = MODELS_STORAGE[storage_int]\n",
    "model_virtual_machines = MODELS_VIRTUAL_MACHINES[virtual_machines_int]\n",
    "model_automation = MODELS_AUTOMATION[automation_int]\n",
    "model_logic_apps = MODELS_LOGIC_APPS[logic_apps_int]\n",
    "model_log_analytics = MODELS_LOG_ANALYTICS[log_analytics_int]\n",
    "model_bandwidth = MODELS_BANDWIDTH[bandwidth_int]\n",
    "model_load_balancer = MODELS_LOAD_BALANCER[load_balancer_int]\n",
    "model_service_bus = MODELS_SERVICE_BUS[service_bus_int]\n",
    "model_remaining = MODELS_OTHERS[remaining_int]"
   ]
  },
  {
   "cell_type": "code",
   "execution_count": 49,
   "metadata": {},
   "outputs": [
    {
     "name": "stdout",
     "output_type": "stream",
     "text": [
      "INFO:tensorflow:Assets written to: Models_6_step/model_storage_6_step/assets\n"
     ]
    },
    {
     "name": "stderr",
     "output_type": "stream",
     "text": [
      "INFO:tensorflow:Assets written to: Models_6_step/model_storage_6_step/assets\n"
     ]
    },
    {
     "name": "stdout",
     "output_type": "stream",
     "text": [
      "INFO:tensorflow:Assets written to: Models_6_step/model_virtual_machines_6_step/assets\n"
     ]
    },
    {
     "name": "stderr",
     "output_type": "stream",
     "text": [
      "INFO:tensorflow:Assets written to: Models_6_step/model_virtual_machines_6_step/assets\n"
     ]
    },
    {
     "name": "stdout",
     "output_type": "stream",
     "text": [
      "INFO:tensorflow:Assets written to: Models_6_step/model_automation_6_step/assets\n"
     ]
    },
    {
     "name": "stderr",
     "output_type": "stream",
     "text": [
      "INFO:tensorflow:Assets written to: Models_6_step/model_automation_6_step/assets\n"
     ]
    },
    {
     "name": "stdout",
     "output_type": "stream",
     "text": [
      "INFO:tensorflow:Assets written to: Models_6_step/model_logic_apps_6_step/assets\n"
     ]
    },
    {
     "name": "stderr",
     "output_type": "stream",
     "text": [
      "INFO:tensorflow:Assets written to: Models_6_step/model_logic_apps_6_step/assets\n"
     ]
    },
    {
     "name": "stdout",
     "output_type": "stream",
     "text": [
      "INFO:tensorflow:Assets written to: Models_6_step/model_log_analytics_6_step/assets\n"
     ]
    },
    {
     "name": "stderr",
     "output_type": "stream",
     "text": [
      "INFO:tensorflow:Assets written to: Models_6_step/model_log_analytics_6_step/assets\n"
     ]
    },
    {
     "name": "stdout",
     "output_type": "stream",
     "text": [
      "INFO:tensorflow:Assets written to: Models_6_step/model_bandwidth_6_step/assets\n"
     ]
    },
    {
     "name": "stderr",
     "output_type": "stream",
     "text": [
      "INFO:tensorflow:Assets written to: Models_6_step/model_bandwidth_6_step/assets\n"
     ]
    },
    {
     "name": "stdout",
     "output_type": "stream",
     "text": [
      "INFO:tensorflow:Assets written to: Models_6_step/model_load_balancer_6_step/assets\n"
     ]
    },
    {
     "name": "stderr",
     "output_type": "stream",
     "text": [
      "INFO:tensorflow:Assets written to: Models_6_step/model_load_balancer_6_step/assets\n"
     ]
    },
    {
     "name": "stdout",
     "output_type": "stream",
     "text": [
      "INFO:tensorflow:Assets written to: Models_6_step/model_service_bus_6_step/assets\n"
     ]
    },
    {
     "name": "stderr",
     "output_type": "stream",
     "text": [
      "INFO:tensorflow:Assets written to: Models_6_step/model_service_bus_6_step/assets\n"
     ]
    },
    {
     "name": "stdout",
     "output_type": "stream",
     "text": [
      "INFO:tensorflow:Assets written to: Models_6_step/model_remaining_6_step/assets\n"
     ]
    },
    {
     "name": "stderr",
     "output_type": "stream",
     "text": [
      "INFO:tensorflow:Assets written to: Models_6_step/model_remaining_6_step/assets\n"
     ]
    }
   ],
   "source": [
    "model_storage.save(\"Models_6_step/model_storage_6_step\")\n",
    "model_virtual_machines.save(\"Models_6_step/model_virtual_machines_6_step\")\n",
    "model_automation.save(\"Models_6_step/model_automation_6_step\")\n",
    "model_logic_apps.save(\"Models_6_step/model_logic_apps_6_step\")\n",
    "model_log_analytics.save(\"Models_6_step/model_log_analytics_6_step\") \n",
    "model_bandwidth.save(\"Models_6_step/model_bandwidth_6_step\")\n",
    "model_load_balancer.save(\"Models_6_step/model_load_balancer_6_step\")\n",
    "model_service_bus.save(\"Models_6_step/model_service_bus_6_step\") \n",
    "model_remaining.save(\"Models_6_step/model_remaining_6_step\")"
   ]
  },
  {
   "cell_type": "code",
   "execution_count": 41,
   "metadata": {},
   "outputs": [],
   "source": [
    "def reshape_predictions(predictions_list):\n",
    "    predictions_list = np.array(predictions_list)\n",
    "    predictions_list = predictions_list.reshape(len(predictions_list)//5,25)\n",
    "    return predictions_list"
   ]
  },
  {
   "cell_type": "code",
   "execution_count": 69,
   "metadata": {},
   "outputs": [
    {
     "data": {
      "text/plain": [
       "50"
      ]
     },
     "execution_count": 69,
     "metadata": {},
     "output_type": "execute_result"
    }
   ],
   "source": []
  },
  {
   "cell_type": "code",
   "execution_count": 42,
   "metadata": {},
   "outputs": [],
   "source": [
    "predizioni_test_storage = reshape_predictions(predizioni_test_storage)\n",
    "predizioni_test_automation = reshape_predictions(predizioni_test_automation)\n",
    "predizioni_test_virtual_machines = reshape_predictions(predizioni_test_virtual_machines)\n",
    "predizioni_test_bandwidth = reshape_predictions(predizioni_test_bandwidth)\n",
    "predizioni_test_load_balancer = reshape_predictions(predizioni_test_load_balancer)\n",
    "predizioni_test_log_analytics = reshape_predictions(predizioni_test_log_analytics)\n",
    "predizioni_test_logic_apps = reshape_predictions(predizioni_test_logic_apps)\n",
    "predizioni_test_service_bus = reshape_predictions(predizioni_test_service_bus)\n",
    "predizioni_test_remaining = reshape_predictions(predizioni_test_remaining)"
   ]
  },
  {
   "cell_type": "code",
   "execution_count": 43,
   "metadata": {},
   "outputs": [],
   "source": [
    "SUM_DF = pd.DataFrame()\n",
    "SUM_DF['ground_truth'] = df['CostInBillingCurrency'][-26:]\n",
    "SUM_DF['storage'] = 0\n",
    "SUM_DF['virtual_machines'] = 0\n",
    "SUM_DF['automation'] = 0\n",
    "SUM_DF['logic_apps'] = 0\n",
    "SUM_DF['log_analytics'] = 0\n",
    "SUM_DF['bandwidth'] = 0\n",
    "SUM_DF['load_balancer'] = 0\n",
    "SUM_DF['service_bus'] = 0\n",
    "SUM_DF['Others'] = 0"
   ]
  },
  {
   "cell_type": "code",
   "execution_count": 44,
   "metadata": {},
   "outputs": [],
   "source": [
    "def insert_firtst_day(p, DF):\n",
    "    p = np.array(p)\n",
    "    p = np.insert(p, 0, DF['ground_truth'][0])  \n",
    "\n",
    "    return p\n"
   ]
  },
  {
   "cell_type": "code",
   "execution_count": 45,
   "metadata": {},
   "outputs": [],
   "source": [
    "df_storage = insert_firtst_day(predizioni_test_storage[storage_int],SUM_DF) \n",
    "df_virtual_machines = insert_firtst_day(predizioni_test_virtual_machines[virtual_machines_int],SUM_DF) \n",
    "df_automation = insert_firtst_day(predizioni_test_automation[automation_int],SUM_DF) \n",
    "df_logic_apps = insert_firtst_day(predizioni_test_logic_apps[logic_apps_int],SUM_DF) \n",
    "df_log_analytics = insert_firtst_day(predizioni_test_log_analytics[log_analytics_int],SUM_DF) \n",
    "df_bandwodth = insert_firtst_day(predizioni_test_bandwidth[bandwidth_int],SUM_DF) \n",
    "df_load_balancer = insert_firtst_day(predizioni_test_load_balancer[load_balancer_int],SUM_DF) \n",
    "df_service_bus = insert_firtst_day(predizioni_test_service_bus[service_bus_int],SUM_DF) \n",
    "df_remaining = insert_firtst_day(predizioni_test_remaining[remaining_int],SUM_DF) \n",
    "\n",
    "SUM_DF['storage'] = df_storage\n",
    "SUM_DF['virtual_machines'] = df_virtual_machines\n",
    "SUM_DF['automation'] = df_automation\n",
    "SUM_DF['logic_apps'] = df_logic_apps\n",
    "SUM_DF['log_analytics'] = df_log_analytics\n",
    "SUM_DF['bandwidth'] = df_bandwodth\n",
    "SUM_DF['load_balancer'] = df_load_balancer\n",
    "SUM_DF['service_bus'] = df_service_bus\n",
    "SUM_DF['Others'] = df_remaining"
   ]
  },
  {
   "cell_type": "code",
   "execution_count": 50,
   "metadata": {},
   "outputs": [
    {
     "data": {
      "text/html": [
       "<div>\n",
       "<style scoped>\n",
       "    .dataframe tbody tr th:only-of-type {\n",
       "        vertical-align: middle;\n",
       "    }\n",
       "\n",
       "    .dataframe tbody tr th {\n",
       "        vertical-align: top;\n",
       "    }\n",
       "\n",
       "    .dataframe thead th {\n",
       "        text-align: right;\n",
       "    }\n",
       "</style>\n",
       "<table border=\"1\" class=\"dataframe\">\n",
       "  <thead>\n",
       "    <tr style=\"text-align: right;\">\n",
       "      <th></th>\n",
       "      <th>storage</th>\n",
       "      <th>virtual_machines</th>\n",
       "      <th>automation</th>\n",
       "      <th>logic_apps</th>\n",
       "      <th>log_analytics</th>\n",
       "      <th>bandwidth</th>\n",
       "      <th>load_balancer</th>\n",
       "      <th>service_bus</th>\n",
       "      <th>Others</th>\n",
       "      <th>SUM</th>\n",
       "      <th>ground_truth</th>\n",
       "    </tr>\n",
       "    <tr>\n",
       "      <th>Date</th>\n",
       "      <th></th>\n",
       "      <th></th>\n",
       "      <th></th>\n",
       "      <th></th>\n",
       "      <th></th>\n",
       "      <th></th>\n",
       "      <th></th>\n",
       "      <th></th>\n",
       "      <th></th>\n",
       "      <th></th>\n",
       "      <th></th>\n",
       "    </tr>\n",
       "  </thead>\n",
       "  <tbody>\n",
       "    <tr>\n",
       "      <th>2023-02-23</th>\n",
       "      <td>110.306381</td>\n",
       "      <td>110.306381</td>\n",
       "      <td>110.306381</td>\n",
       "      <td>110.306381</td>\n",
       "      <td>110.306381</td>\n",
       "      <td>110.306381</td>\n",
       "      <td>110.306381</td>\n",
       "      <td>110.306381</td>\n",
       "      <td>110.306381</td>\n",
       "      <td>992.757507</td>\n",
       "      <td>110.306381</td>\n",
       "    </tr>\n",
       "    <tr>\n",
       "      <th>2023-02-24</th>\n",
       "      <td>21.629164</td>\n",
       "      <td>17.816616</td>\n",
       "      <td>0.009914</td>\n",
       "      <td>1.919490</td>\n",
       "      <td>0.431589</td>\n",
       "      <td>0.039494</td>\n",
       "      <td>4.670322</td>\n",
       "      <td>0.132162</td>\n",
       "      <td>61.334953</td>\n",
       "      <td>107.983704</td>\n",
       "      <td>108.557959</td>\n",
       "    </tr>\n",
       "    <tr>\n",
       "      <th>2023-02-25</th>\n",
       "      <td>21.624479</td>\n",
       "      <td>17.819107</td>\n",
       "      <td>0.009901</td>\n",
       "      <td>1.098380</td>\n",
       "      <td>0.431634</td>\n",
       "      <td>0.039528</td>\n",
       "      <td>4.703234</td>\n",
       "      <td>0.132099</td>\n",
       "      <td>59.690910</td>\n",
       "      <td>105.549271</td>\n",
       "      <td>107.925850</td>\n",
       "    </tr>\n",
       "    <tr>\n",
       "      <th>2023-02-26</th>\n",
       "      <td>21.626253</td>\n",
       "      <td>17.819199</td>\n",
       "      <td>0.009896</td>\n",
       "      <td>0.613522</td>\n",
       "      <td>0.431609</td>\n",
       "      <td>0.039562</td>\n",
       "      <td>4.733448</td>\n",
       "      <td>0.132085</td>\n",
       "      <td>58.202896</td>\n",
       "      <td>103.608467</td>\n",
       "      <td>103.073215</td>\n",
       "    </tr>\n",
       "    <tr>\n",
       "      <th>2023-02-27</th>\n",
       "      <td>21.674078</td>\n",
       "      <td>17.818508</td>\n",
       "      <td>0.009978</td>\n",
       "      <td>0.433257</td>\n",
       "      <td>0.430869</td>\n",
       "      <td>0.039415</td>\n",
       "      <td>4.721598</td>\n",
       "      <td>0.132278</td>\n",
       "      <td>57.031921</td>\n",
       "      <td>102.291901</td>\n",
       "      <td>110.290543</td>\n",
       "    </tr>\n",
       "    <tr>\n",
       "      <th>2023-02-28</th>\n",
       "      <td>21.695795</td>\n",
       "      <td>17.817055</td>\n",
       "      <td>0.009968</td>\n",
       "      <td>0.444688</td>\n",
       "      <td>0.430903</td>\n",
       "      <td>0.039417</td>\n",
       "      <td>4.696507</td>\n",
       "      <td>0.132317</td>\n",
       "      <td>56.358414</td>\n",
       "      <td>101.625061</td>\n",
       "      <td>102.686326</td>\n",
       "    </tr>\n",
       "    <tr>\n",
       "      <th>2023-03-01</th>\n",
       "      <td>21.648504</td>\n",
       "      <td>17.814726</td>\n",
       "      <td>0.009941</td>\n",
       "      <td>0.462555</td>\n",
       "      <td>0.192908</td>\n",
       "      <td>0.039443</td>\n",
       "      <td>4.839612</td>\n",
       "      <td>0.031554</td>\n",
       "      <td>56.408615</td>\n",
       "      <td>101.447861</td>\n",
       "      <td>81.475006</td>\n",
       "    </tr>\n",
       "    <tr>\n",
       "      <th>2023-03-02</th>\n",
       "      <td>21.576899</td>\n",
       "      <td>17.812469</td>\n",
       "      <td>0.009928</td>\n",
       "      <td>0.477205</td>\n",
       "      <td>0.192913</td>\n",
       "      <td>0.039472</td>\n",
       "      <td>4.838470</td>\n",
       "      <td>0.009158</td>\n",
       "      <td>56.008148</td>\n",
       "      <td>100.964661</td>\n",
       "      <td>78.840089</td>\n",
       "    </tr>\n",
       "    <tr>\n",
       "      <th>2023-03-03</th>\n",
       "      <td>21.547625</td>\n",
       "      <td>17.808500</td>\n",
       "      <td>0.009912</td>\n",
       "      <td>0.493747</td>\n",
       "      <td>0.192922</td>\n",
       "      <td>0.039504</td>\n",
       "      <td>4.836792</td>\n",
       "      <td>-0.024299</td>\n",
       "      <td>55.946117</td>\n",
       "      <td>100.850815</td>\n",
       "      <td>93.283237</td>\n",
       "    </tr>\n",
       "    <tr>\n",
       "      <th>2023-03-04</th>\n",
       "      <td>21.500654</td>\n",
       "      <td>17.806107</td>\n",
       "      <td>0.009900</td>\n",
       "      <td>0.512547</td>\n",
       "      <td>0.192955</td>\n",
       "      <td>0.039536</td>\n",
       "      <td>4.833044</td>\n",
       "      <td>-0.071390</td>\n",
       "      <td>55.248837</td>\n",
       "      <td>100.072189</td>\n",
       "      <td>88.019660</td>\n",
       "    </tr>\n",
       "    <tr>\n",
       "      <th>2023-03-05</th>\n",
       "      <td>21.455317</td>\n",
       "      <td>17.799942</td>\n",
       "      <td>0.009895</td>\n",
       "      <td>0.533696</td>\n",
       "      <td>0.192979</td>\n",
       "      <td>0.039568</td>\n",
       "      <td>4.831873</td>\n",
       "      <td>-0.137873</td>\n",
       "      <td>55.069458</td>\n",
       "      <td>99.794846</td>\n",
       "      <td>88.327233</td>\n",
       "    </tr>\n",
       "    <tr>\n",
       "      <th>2023-03-06</th>\n",
       "      <td>21.555695</td>\n",
       "      <td>17.795914</td>\n",
       "      <td>0.009970</td>\n",
       "      <td>0.438775</td>\n",
       "      <td>0.192266</td>\n",
       "      <td>0.039427</td>\n",
       "      <td>4.354237</td>\n",
       "      <td>0.046766</td>\n",
       "      <td>54.745911</td>\n",
       "      <td>99.178963</td>\n",
       "      <td>91.842523</td>\n",
       "    </tr>\n",
       "    <tr>\n",
       "      <th>2023-03-07</th>\n",
       "      <td>21.811003</td>\n",
       "      <td>17.787725</td>\n",
       "      <td>0.009959</td>\n",
       "      <td>0.449444</td>\n",
       "      <td>0.192266</td>\n",
       "      <td>0.039429</td>\n",
       "      <td>4.348643</td>\n",
       "      <td>0.043469</td>\n",
       "      <td>55.347248</td>\n",
       "      <td>100.029190</td>\n",
       "      <td>89.705884</td>\n",
       "    </tr>\n",
       "    <tr>\n",
       "      <th>2023-03-08</th>\n",
       "      <td>21.799227</td>\n",
       "      <td>17.768528</td>\n",
       "      <td>0.009941</td>\n",
       "      <td>0.462427</td>\n",
       "      <td>0.192265</td>\n",
       "      <td>0.039443</td>\n",
       "      <td>4.338818</td>\n",
       "      <td>0.033389</td>\n",
       "      <td>56.493835</td>\n",
       "      <td>101.137878</td>\n",
       "      <td>88.426166</td>\n",
       "    </tr>\n",
       "    <tr>\n",
       "      <th>2023-03-09</th>\n",
       "      <td>21.788948</td>\n",
       "      <td>17.752039</td>\n",
       "      <td>0.009928</td>\n",
       "      <td>0.477135</td>\n",
       "      <td>0.192264</td>\n",
       "      <td>0.039472</td>\n",
       "      <td>4.329510</td>\n",
       "      <td>0.011699</td>\n",
       "      <td>58.215092</td>\n",
       "      <td>102.816086</td>\n",
       "      <td>91.046703</td>\n",
       "    </tr>\n",
       "    <tr>\n",
       "      <th>2023-03-10</th>\n",
       "      <td>21.829523</td>\n",
       "      <td>17.757223</td>\n",
       "      <td>0.009912</td>\n",
       "      <td>0.493741</td>\n",
       "      <td>0.192269</td>\n",
       "      <td>0.039503</td>\n",
       "      <td>4.303344</td>\n",
       "      <td>-0.021359</td>\n",
       "      <td>58.654106</td>\n",
       "      <td>103.258263</td>\n",
       "      <td>93.068870</td>\n",
       "    </tr>\n",
       "    <tr>\n",
       "      <th>2023-03-11</th>\n",
       "      <td>21.815327</td>\n",
       "      <td>17.744526</td>\n",
       "      <td>0.009900</td>\n",
       "      <td>0.512629</td>\n",
       "      <td>0.371140</td>\n",
       "      <td>0.039535</td>\n",
       "      <td>4.299933</td>\n",
       "      <td>-0.001823</td>\n",
       "      <td>64.469154</td>\n",
       "      <td>109.260323</td>\n",
       "      <td>97.552727</td>\n",
       "    </tr>\n",
       "    <tr>\n",
       "      <th>2023-03-12</th>\n",
       "      <td>21.817434</td>\n",
       "      <td>17.744968</td>\n",
       "      <td>0.009895</td>\n",
       "      <td>0.533852</td>\n",
       "      <td>0.371140</td>\n",
       "      <td>0.039567</td>\n",
       "      <td>4.298915</td>\n",
       "      <td>-0.005531</td>\n",
       "      <td>64.765991</td>\n",
       "      <td>109.576233</td>\n",
       "      <td>97.784930</td>\n",
       "    </tr>\n",
       "    <tr>\n",
       "      <th>2023-03-13</th>\n",
       "      <td>21.816858</td>\n",
       "      <td>17.746960</td>\n",
       "      <td>0.009970</td>\n",
       "      <td>0.438922</td>\n",
       "      <td>0.371141</td>\n",
       "      <td>0.039426</td>\n",
       "      <td>4.290112</td>\n",
       "      <td>0.007454</td>\n",
       "      <td>64.633385</td>\n",
       "      <td>109.354233</td>\n",
       "      <td>96.167977</td>\n",
       "    </tr>\n",
       "    <tr>\n",
       "      <th>2023-03-14</th>\n",
       "      <td>21.801985</td>\n",
       "      <td>17.749939</td>\n",
       "      <td>0.009959</td>\n",
       "      <td>0.449689</td>\n",
       "      <td>0.371142</td>\n",
       "      <td>0.039428</td>\n",
       "      <td>4.292648</td>\n",
       "      <td>0.006487</td>\n",
       "      <td>64.619904</td>\n",
       "      <td>109.341187</td>\n",
       "      <td>111.392723</td>\n",
       "    </tr>\n",
       "    <tr>\n",
       "      <th>2023-03-15</th>\n",
       "      <td>21.792158</td>\n",
       "      <td>17.753874</td>\n",
       "      <td>0.009941</td>\n",
       "      <td>0.462788</td>\n",
       "      <td>0.371144</td>\n",
       "      <td>0.039443</td>\n",
       "      <td>4.295630</td>\n",
       "      <td>0.005059</td>\n",
       "      <td>65.522659</td>\n",
       "      <td>110.252701</td>\n",
       "      <td>130.164057</td>\n",
       "    </tr>\n",
       "    <tr>\n",
       "      <th>2023-03-16</th>\n",
       "      <td>21.794912</td>\n",
       "      <td>17.754070</td>\n",
       "      <td>0.009928</td>\n",
       "      <td>0.477539</td>\n",
       "      <td>0.371141</td>\n",
       "      <td>0.039472</td>\n",
       "      <td>4.300074</td>\n",
       "      <td>0.003165</td>\n",
       "      <td>66.813477</td>\n",
       "      <td>111.563782</td>\n",
       "      <td>124.372183</td>\n",
       "    </tr>\n",
       "    <tr>\n",
       "      <th>2023-03-17</th>\n",
       "      <td>21.794792</td>\n",
       "      <td>17.750071</td>\n",
       "      <td>0.009912</td>\n",
       "      <td>0.559444</td>\n",
       "      <td>0.371141</td>\n",
       "      <td>0.039504</td>\n",
       "      <td>4.309539</td>\n",
       "      <td>0.000915</td>\n",
       "      <td>67.663704</td>\n",
       "      <td>112.499023</td>\n",
       "      <td>138.567702</td>\n",
       "    </tr>\n",
       "    <tr>\n",
       "      <th>2023-03-18</th>\n",
       "      <td>21.798216</td>\n",
       "      <td>17.756048</td>\n",
       "      <td>0.009900</td>\n",
       "      <td>0.613661</td>\n",
       "      <td>0.371142</td>\n",
       "      <td>0.039536</td>\n",
       "      <td>4.323219</td>\n",
       "      <td>-0.001971</td>\n",
       "      <td>67.767838</td>\n",
       "      <td>112.677589</td>\n",
       "      <td>147.010317</td>\n",
       "    </tr>\n",
       "    <tr>\n",
       "      <th>2023-03-19</th>\n",
       "      <td>21.763243</td>\n",
       "      <td>17.776184</td>\n",
       "      <td>0.009895</td>\n",
       "      <td>0.668220</td>\n",
       "      <td>0.371142</td>\n",
       "      <td>0.039568</td>\n",
       "      <td>4.339071</td>\n",
       "      <td>-0.005635</td>\n",
       "      <td>67.728775</td>\n",
       "      <td>112.690475</td>\n",
       "      <td>105.024077</td>\n",
       "    </tr>\n",
       "    <tr>\n",
       "      <th>2023-03-20</th>\n",
       "      <td>21.686430</td>\n",
       "      <td>17.800997</td>\n",
       "      <td>0.009970</td>\n",
       "      <td>0.557592</td>\n",
       "      <td>0.371142</td>\n",
       "      <td>0.039427</td>\n",
       "      <td>4.329638</td>\n",
       "      <td>0.007333</td>\n",
       "      <td>69.025047</td>\n",
       "      <td>113.827576</td>\n",
       "      <td>137.515357</td>\n",
       "    </tr>\n",
       "  </tbody>\n",
       "</table>\n",
       "</div>"
      ],
      "text/plain": [
       "               storage  virtual_machines  automation  logic_apps  \\\n",
       "Date                                                               \n",
       "2023-02-23  110.306381        110.306381  110.306381  110.306381   \n",
       "2023-02-24   21.629164         17.816616    0.009914    1.919490   \n",
       "2023-02-25   21.624479         17.819107    0.009901    1.098380   \n",
       "2023-02-26   21.626253         17.819199    0.009896    0.613522   \n",
       "2023-02-27   21.674078         17.818508    0.009978    0.433257   \n",
       "2023-02-28   21.695795         17.817055    0.009968    0.444688   \n",
       "2023-03-01   21.648504         17.814726    0.009941    0.462555   \n",
       "2023-03-02   21.576899         17.812469    0.009928    0.477205   \n",
       "2023-03-03   21.547625         17.808500    0.009912    0.493747   \n",
       "2023-03-04   21.500654         17.806107    0.009900    0.512547   \n",
       "2023-03-05   21.455317         17.799942    0.009895    0.533696   \n",
       "2023-03-06   21.555695         17.795914    0.009970    0.438775   \n",
       "2023-03-07   21.811003         17.787725    0.009959    0.449444   \n",
       "2023-03-08   21.799227         17.768528    0.009941    0.462427   \n",
       "2023-03-09   21.788948         17.752039    0.009928    0.477135   \n",
       "2023-03-10   21.829523         17.757223    0.009912    0.493741   \n",
       "2023-03-11   21.815327         17.744526    0.009900    0.512629   \n",
       "2023-03-12   21.817434         17.744968    0.009895    0.533852   \n",
       "2023-03-13   21.816858         17.746960    0.009970    0.438922   \n",
       "2023-03-14   21.801985         17.749939    0.009959    0.449689   \n",
       "2023-03-15   21.792158         17.753874    0.009941    0.462788   \n",
       "2023-03-16   21.794912         17.754070    0.009928    0.477539   \n",
       "2023-03-17   21.794792         17.750071    0.009912    0.559444   \n",
       "2023-03-18   21.798216         17.756048    0.009900    0.613661   \n",
       "2023-03-19   21.763243         17.776184    0.009895    0.668220   \n",
       "2023-03-20   21.686430         17.800997    0.009970    0.557592   \n",
       "\n",
       "            log_analytics   bandwidth  load_balancer  service_bus      Others  \\\n",
       "Date                                                                            \n",
       "2023-02-23     110.306381  110.306381     110.306381   110.306381  110.306381   \n",
       "2023-02-24       0.431589    0.039494       4.670322     0.132162   61.334953   \n",
       "2023-02-25       0.431634    0.039528       4.703234     0.132099   59.690910   \n",
       "2023-02-26       0.431609    0.039562       4.733448     0.132085   58.202896   \n",
       "2023-02-27       0.430869    0.039415       4.721598     0.132278   57.031921   \n",
       "2023-02-28       0.430903    0.039417       4.696507     0.132317   56.358414   \n",
       "2023-03-01       0.192908    0.039443       4.839612     0.031554   56.408615   \n",
       "2023-03-02       0.192913    0.039472       4.838470     0.009158   56.008148   \n",
       "2023-03-03       0.192922    0.039504       4.836792    -0.024299   55.946117   \n",
       "2023-03-04       0.192955    0.039536       4.833044    -0.071390   55.248837   \n",
       "2023-03-05       0.192979    0.039568       4.831873    -0.137873   55.069458   \n",
       "2023-03-06       0.192266    0.039427       4.354237     0.046766   54.745911   \n",
       "2023-03-07       0.192266    0.039429       4.348643     0.043469   55.347248   \n",
       "2023-03-08       0.192265    0.039443       4.338818     0.033389   56.493835   \n",
       "2023-03-09       0.192264    0.039472       4.329510     0.011699   58.215092   \n",
       "2023-03-10       0.192269    0.039503       4.303344    -0.021359   58.654106   \n",
       "2023-03-11       0.371140    0.039535       4.299933    -0.001823   64.469154   \n",
       "2023-03-12       0.371140    0.039567       4.298915    -0.005531   64.765991   \n",
       "2023-03-13       0.371141    0.039426       4.290112     0.007454   64.633385   \n",
       "2023-03-14       0.371142    0.039428       4.292648     0.006487   64.619904   \n",
       "2023-03-15       0.371144    0.039443       4.295630     0.005059   65.522659   \n",
       "2023-03-16       0.371141    0.039472       4.300074     0.003165   66.813477   \n",
       "2023-03-17       0.371141    0.039504       4.309539     0.000915   67.663704   \n",
       "2023-03-18       0.371142    0.039536       4.323219    -0.001971   67.767838   \n",
       "2023-03-19       0.371142    0.039568       4.339071    -0.005635   67.728775   \n",
       "2023-03-20       0.371142    0.039427       4.329638     0.007333   69.025047   \n",
       "\n",
       "                   SUM  ground_truth  \n",
       "Date                                  \n",
       "2023-02-23  992.757507    110.306381  \n",
       "2023-02-24  107.983704    108.557959  \n",
       "2023-02-25  105.549271    107.925850  \n",
       "2023-02-26  103.608467    103.073215  \n",
       "2023-02-27  102.291901    110.290543  \n",
       "2023-02-28  101.625061    102.686326  \n",
       "2023-03-01  101.447861     81.475006  \n",
       "2023-03-02  100.964661     78.840089  \n",
       "2023-03-03  100.850815     93.283237  \n",
       "2023-03-04  100.072189     88.019660  \n",
       "2023-03-05   99.794846     88.327233  \n",
       "2023-03-06   99.178963     91.842523  \n",
       "2023-03-07  100.029190     89.705884  \n",
       "2023-03-08  101.137878     88.426166  \n",
       "2023-03-09  102.816086     91.046703  \n",
       "2023-03-10  103.258263     93.068870  \n",
       "2023-03-11  109.260323     97.552727  \n",
       "2023-03-12  109.576233     97.784930  \n",
       "2023-03-13  109.354233     96.167977  \n",
       "2023-03-14  109.341187    111.392723  \n",
       "2023-03-15  110.252701    130.164057  \n",
       "2023-03-16  111.563782    124.372183  \n",
       "2023-03-17  112.499023    138.567702  \n",
       "2023-03-18  112.677589    147.010317  \n",
       "2023-03-19  112.690475    105.024077  \n",
       "2023-03-20  113.827576    137.515357  "
      ]
     },
     "execution_count": 50,
     "metadata": {},
     "output_type": "execute_result"
    }
   ],
   "source": [
    "SUM_DF"
   ]
  },
  {
   "cell_type": "code",
   "execution_count": 47,
   "metadata": {},
   "outputs": [
    {
     "data": {
      "text/html": [
       "<div>\n",
       "<style scoped>\n",
       "    .dataframe tbody tr th:only-of-type {\n",
       "        vertical-align: middle;\n",
       "    }\n",
       "\n",
       "    .dataframe tbody tr th {\n",
       "        vertical-align: top;\n",
       "    }\n",
       "\n",
       "    .dataframe thead th {\n",
       "        text-align: right;\n",
       "    }\n",
       "</style>\n",
       "<table border=\"1\" class=\"dataframe\">\n",
       "  <thead>\n",
       "    <tr style=\"text-align: right;\">\n",
       "      <th></th>\n",
       "      <th>storage</th>\n",
       "      <th>virtual_machines</th>\n",
       "      <th>automation</th>\n",
       "      <th>logic_apps</th>\n",
       "      <th>log_analytics</th>\n",
       "      <th>bandwidth</th>\n",
       "      <th>load_balancer</th>\n",
       "      <th>service_bus</th>\n",
       "      <th>Others</th>\n",
       "      <th>SUM</th>\n",
       "      <th>ground_truth</th>\n",
       "    </tr>\n",
       "    <tr>\n",
       "      <th>Date</th>\n",
       "      <th></th>\n",
       "      <th></th>\n",
       "      <th></th>\n",
       "      <th></th>\n",
       "      <th></th>\n",
       "      <th></th>\n",
       "      <th></th>\n",
       "      <th></th>\n",
       "      <th></th>\n",
       "      <th></th>\n",
       "      <th></th>\n",
       "    </tr>\n",
       "  </thead>\n",
       "  <tbody>\n",
       "    <tr>\n",
       "      <th>2023-02-23</th>\n",
       "      <td>110.306381</td>\n",
       "      <td>110.306381</td>\n",
       "      <td>110.306381</td>\n",
       "      <td>110.306381</td>\n",
       "      <td>110.306381</td>\n",
       "      <td>110.306381</td>\n",
       "      <td>110.306381</td>\n",
       "      <td>110.306381</td>\n",
       "      <td>110.306381</td>\n",
       "      <td>992.757507</td>\n",
       "      <td>110.306381</td>\n",
       "    </tr>\n",
       "    <tr>\n",
       "      <th>2023-02-24</th>\n",
       "      <td>21.629164</td>\n",
       "      <td>17.816616</td>\n",
       "      <td>0.009914</td>\n",
       "      <td>1.919490</td>\n",
       "      <td>0.431589</td>\n",
       "      <td>0.039494</td>\n",
       "      <td>4.670322</td>\n",
       "      <td>0.132162</td>\n",
       "      <td>61.334953</td>\n",
       "      <td>107.983704</td>\n",
       "      <td>108.557959</td>\n",
       "    </tr>\n",
       "    <tr>\n",
       "      <th>2023-02-25</th>\n",
       "      <td>21.624479</td>\n",
       "      <td>17.819107</td>\n",
       "      <td>0.009901</td>\n",
       "      <td>1.098380</td>\n",
       "      <td>0.431634</td>\n",
       "      <td>0.039528</td>\n",
       "      <td>4.703234</td>\n",
       "      <td>0.132099</td>\n",
       "      <td>59.690910</td>\n",
       "      <td>105.549271</td>\n",
       "      <td>107.925850</td>\n",
       "    </tr>\n",
       "    <tr>\n",
       "      <th>2023-02-26</th>\n",
       "      <td>21.626253</td>\n",
       "      <td>17.819199</td>\n",
       "      <td>0.009896</td>\n",
       "      <td>0.613522</td>\n",
       "      <td>0.431609</td>\n",
       "      <td>0.039562</td>\n",
       "      <td>4.733448</td>\n",
       "      <td>0.132085</td>\n",
       "      <td>58.202896</td>\n",
       "      <td>103.608467</td>\n",
       "      <td>103.073215</td>\n",
       "    </tr>\n",
       "    <tr>\n",
       "      <th>2023-02-27</th>\n",
       "      <td>21.674078</td>\n",
       "      <td>17.818508</td>\n",
       "      <td>0.009978</td>\n",
       "      <td>0.433257</td>\n",
       "      <td>0.430869</td>\n",
       "      <td>0.039415</td>\n",
       "      <td>4.721598</td>\n",
       "      <td>0.132278</td>\n",
       "      <td>57.031921</td>\n",
       "      <td>102.291901</td>\n",
       "      <td>110.290543</td>\n",
       "    </tr>\n",
       "    <tr>\n",
       "      <th>2023-02-28</th>\n",
       "      <td>21.695795</td>\n",
       "      <td>17.817055</td>\n",
       "      <td>0.009968</td>\n",
       "      <td>0.444688</td>\n",
       "      <td>0.430903</td>\n",
       "      <td>0.039417</td>\n",
       "      <td>4.696507</td>\n",
       "      <td>0.132317</td>\n",
       "      <td>56.358414</td>\n",
       "      <td>101.625061</td>\n",
       "      <td>102.686326</td>\n",
       "    </tr>\n",
       "    <tr>\n",
       "      <th>2023-03-01</th>\n",
       "      <td>21.648504</td>\n",
       "      <td>17.814726</td>\n",
       "      <td>0.009941</td>\n",
       "      <td>0.462555</td>\n",
       "      <td>0.192908</td>\n",
       "      <td>0.039443</td>\n",
       "      <td>4.839612</td>\n",
       "      <td>0.031554</td>\n",
       "      <td>56.408615</td>\n",
       "      <td>101.447861</td>\n",
       "      <td>81.475006</td>\n",
       "    </tr>\n",
       "    <tr>\n",
       "      <th>2023-03-02</th>\n",
       "      <td>21.576899</td>\n",
       "      <td>17.812469</td>\n",
       "      <td>0.009928</td>\n",
       "      <td>0.477205</td>\n",
       "      <td>0.192913</td>\n",
       "      <td>0.039472</td>\n",
       "      <td>4.838470</td>\n",
       "      <td>0.009158</td>\n",
       "      <td>56.008148</td>\n",
       "      <td>100.964661</td>\n",
       "      <td>78.840089</td>\n",
       "    </tr>\n",
       "    <tr>\n",
       "      <th>2023-03-03</th>\n",
       "      <td>21.547625</td>\n",
       "      <td>17.808500</td>\n",
       "      <td>0.009912</td>\n",
       "      <td>0.493747</td>\n",
       "      <td>0.192922</td>\n",
       "      <td>0.039504</td>\n",
       "      <td>4.836792</td>\n",
       "      <td>-0.024299</td>\n",
       "      <td>55.946117</td>\n",
       "      <td>100.850815</td>\n",
       "      <td>93.283237</td>\n",
       "    </tr>\n",
       "    <tr>\n",
       "      <th>2023-03-04</th>\n",
       "      <td>21.500654</td>\n",
       "      <td>17.806107</td>\n",
       "      <td>0.009900</td>\n",
       "      <td>0.512547</td>\n",
       "      <td>0.192955</td>\n",
       "      <td>0.039536</td>\n",
       "      <td>4.833044</td>\n",
       "      <td>-0.071390</td>\n",
       "      <td>55.248837</td>\n",
       "      <td>100.072189</td>\n",
       "      <td>88.019660</td>\n",
       "    </tr>\n",
       "    <tr>\n",
       "      <th>2023-03-05</th>\n",
       "      <td>21.455317</td>\n",
       "      <td>17.799942</td>\n",
       "      <td>0.009895</td>\n",
       "      <td>0.533696</td>\n",
       "      <td>0.192979</td>\n",
       "      <td>0.039568</td>\n",
       "      <td>4.831873</td>\n",
       "      <td>-0.137873</td>\n",
       "      <td>55.069458</td>\n",
       "      <td>99.794846</td>\n",
       "      <td>88.327233</td>\n",
       "    </tr>\n",
       "    <tr>\n",
       "      <th>2023-03-06</th>\n",
       "      <td>21.555695</td>\n",
       "      <td>17.795914</td>\n",
       "      <td>0.009970</td>\n",
       "      <td>0.438775</td>\n",
       "      <td>0.192266</td>\n",
       "      <td>0.039427</td>\n",
       "      <td>4.354237</td>\n",
       "      <td>0.046766</td>\n",
       "      <td>54.745911</td>\n",
       "      <td>99.178963</td>\n",
       "      <td>91.842523</td>\n",
       "    </tr>\n",
       "    <tr>\n",
       "      <th>2023-03-07</th>\n",
       "      <td>21.811003</td>\n",
       "      <td>17.787725</td>\n",
       "      <td>0.009959</td>\n",
       "      <td>0.449444</td>\n",
       "      <td>0.192266</td>\n",
       "      <td>0.039429</td>\n",
       "      <td>4.348643</td>\n",
       "      <td>0.043469</td>\n",
       "      <td>55.347248</td>\n",
       "      <td>100.029190</td>\n",
       "      <td>89.705884</td>\n",
       "    </tr>\n",
       "    <tr>\n",
       "      <th>2023-03-08</th>\n",
       "      <td>21.799227</td>\n",
       "      <td>17.768528</td>\n",
       "      <td>0.009941</td>\n",
       "      <td>0.462427</td>\n",
       "      <td>0.192265</td>\n",
       "      <td>0.039443</td>\n",
       "      <td>4.338818</td>\n",
       "      <td>0.033389</td>\n",
       "      <td>56.493835</td>\n",
       "      <td>101.137878</td>\n",
       "      <td>88.426166</td>\n",
       "    </tr>\n",
       "    <tr>\n",
       "      <th>2023-03-09</th>\n",
       "      <td>21.788948</td>\n",
       "      <td>17.752039</td>\n",
       "      <td>0.009928</td>\n",
       "      <td>0.477135</td>\n",
       "      <td>0.192264</td>\n",
       "      <td>0.039472</td>\n",
       "      <td>4.329510</td>\n",
       "      <td>0.011699</td>\n",
       "      <td>58.215092</td>\n",
       "      <td>102.816086</td>\n",
       "      <td>91.046703</td>\n",
       "    </tr>\n",
       "    <tr>\n",
       "      <th>2023-03-10</th>\n",
       "      <td>21.829523</td>\n",
       "      <td>17.757223</td>\n",
       "      <td>0.009912</td>\n",
       "      <td>0.493741</td>\n",
       "      <td>0.192269</td>\n",
       "      <td>0.039503</td>\n",
       "      <td>4.303344</td>\n",
       "      <td>-0.021359</td>\n",
       "      <td>58.654106</td>\n",
       "      <td>103.258263</td>\n",
       "      <td>93.068870</td>\n",
       "    </tr>\n",
       "    <tr>\n",
       "      <th>2023-03-11</th>\n",
       "      <td>21.815327</td>\n",
       "      <td>17.744526</td>\n",
       "      <td>0.009900</td>\n",
       "      <td>0.512629</td>\n",
       "      <td>0.371140</td>\n",
       "      <td>0.039535</td>\n",
       "      <td>4.299933</td>\n",
       "      <td>-0.001823</td>\n",
       "      <td>64.469154</td>\n",
       "      <td>109.260323</td>\n",
       "      <td>97.552727</td>\n",
       "    </tr>\n",
       "    <tr>\n",
       "      <th>2023-03-12</th>\n",
       "      <td>21.817434</td>\n",
       "      <td>17.744968</td>\n",
       "      <td>0.009895</td>\n",
       "      <td>0.533852</td>\n",
       "      <td>0.371140</td>\n",
       "      <td>0.039567</td>\n",
       "      <td>4.298915</td>\n",
       "      <td>-0.005531</td>\n",
       "      <td>64.765991</td>\n",
       "      <td>109.576233</td>\n",
       "      <td>97.784930</td>\n",
       "    </tr>\n",
       "    <tr>\n",
       "      <th>2023-03-13</th>\n",
       "      <td>21.816858</td>\n",
       "      <td>17.746960</td>\n",
       "      <td>0.009970</td>\n",
       "      <td>0.438922</td>\n",
       "      <td>0.371141</td>\n",
       "      <td>0.039426</td>\n",
       "      <td>4.290112</td>\n",
       "      <td>0.007454</td>\n",
       "      <td>64.633385</td>\n",
       "      <td>109.354233</td>\n",
       "      <td>96.167977</td>\n",
       "    </tr>\n",
       "    <tr>\n",
       "      <th>2023-03-14</th>\n",
       "      <td>21.801985</td>\n",
       "      <td>17.749939</td>\n",
       "      <td>0.009959</td>\n",
       "      <td>0.449689</td>\n",
       "      <td>0.371142</td>\n",
       "      <td>0.039428</td>\n",
       "      <td>4.292648</td>\n",
       "      <td>0.006487</td>\n",
       "      <td>64.619904</td>\n",
       "      <td>109.341187</td>\n",
       "      <td>111.392723</td>\n",
       "    </tr>\n",
       "    <tr>\n",
       "      <th>2023-03-15</th>\n",
       "      <td>21.792158</td>\n",
       "      <td>17.753874</td>\n",
       "      <td>0.009941</td>\n",
       "      <td>0.462788</td>\n",
       "      <td>0.371144</td>\n",
       "      <td>0.039443</td>\n",
       "      <td>4.295630</td>\n",
       "      <td>0.005059</td>\n",
       "      <td>65.522659</td>\n",
       "      <td>110.252701</td>\n",
       "      <td>130.164057</td>\n",
       "    </tr>\n",
       "    <tr>\n",
       "      <th>2023-03-16</th>\n",
       "      <td>21.794912</td>\n",
       "      <td>17.754070</td>\n",
       "      <td>0.009928</td>\n",
       "      <td>0.477539</td>\n",
       "      <td>0.371141</td>\n",
       "      <td>0.039472</td>\n",
       "      <td>4.300074</td>\n",
       "      <td>0.003165</td>\n",
       "      <td>66.813477</td>\n",
       "      <td>111.563782</td>\n",
       "      <td>124.372183</td>\n",
       "    </tr>\n",
       "    <tr>\n",
       "      <th>2023-03-17</th>\n",
       "      <td>21.794792</td>\n",
       "      <td>17.750071</td>\n",
       "      <td>0.009912</td>\n",
       "      <td>0.559444</td>\n",
       "      <td>0.371141</td>\n",
       "      <td>0.039504</td>\n",
       "      <td>4.309539</td>\n",
       "      <td>0.000915</td>\n",
       "      <td>67.663704</td>\n",
       "      <td>112.499023</td>\n",
       "      <td>138.567702</td>\n",
       "    </tr>\n",
       "    <tr>\n",
       "      <th>2023-03-18</th>\n",
       "      <td>21.798216</td>\n",
       "      <td>17.756048</td>\n",
       "      <td>0.009900</td>\n",
       "      <td>0.613661</td>\n",
       "      <td>0.371142</td>\n",
       "      <td>0.039536</td>\n",
       "      <td>4.323219</td>\n",
       "      <td>-0.001971</td>\n",
       "      <td>67.767838</td>\n",
       "      <td>112.677589</td>\n",
       "      <td>147.010317</td>\n",
       "    </tr>\n",
       "    <tr>\n",
       "      <th>2023-03-19</th>\n",
       "      <td>21.763243</td>\n",
       "      <td>17.776184</td>\n",
       "      <td>0.009895</td>\n",
       "      <td>0.668220</td>\n",
       "      <td>0.371142</td>\n",
       "      <td>0.039568</td>\n",
       "      <td>4.339071</td>\n",
       "      <td>-0.005635</td>\n",
       "      <td>67.728775</td>\n",
       "      <td>112.690475</td>\n",
       "      <td>105.024077</td>\n",
       "    </tr>\n",
       "    <tr>\n",
       "      <th>2023-03-20</th>\n",
       "      <td>21.686430</td>\n",
       "      <td>17.800997</td>\n",
       "      <td>0.009970</td>\n",
       "      <td>0.557592</td>\n",
       "      <td>0.371142</td>\n",
       "      <td>0.039427</td>\n",
       "      <td>4.329638</td>\n",
       "      <td>0.007333</td>\n",
       "      <td>69.025047</td>\n",
       "      <td>113.827576</td>\n",
       "      <td>137.515357</td>\n",
       "    </tr>\n",
       "  </tbody>\n",
       "</table>\n",
       "</div>"
      ],
      "text/plain": [
       "               storage  virtual_machines  automation  logic_apps  \\\n",
       "Date                                                               \n",
       "2023-02-23  110.306381        110.306381  110.306381  110.306381   \n",
       "2023-02-24   21.629164         17.816616    0.009914    1.919490   \n",
       "2023-02-25   21.624479         17.819107    0.009901    1.098380   \n",
       "2023-02-26   21.626253         17.819199    0.009896    0.613522   \n",
       "2023-02-27   21.674078         17.818508    0.009978    0.433257   \n",
       "2023-02-28   21.695795         17.817055    0.009968    0.444688   \n",
       "2023-03-01   21.648504         17.814726    0.009941    0.462555   \n",
       "2023-03-02   21.576899         17.812469    0.009928    0.477205   \n",
       "2023-03-03   21.547625         17.808500    0.009912    0.493747   \n",
       "2023-03-04   21.500654         17.806107    0.009900    0.512547   \n",
       "2023-03-05   21.455317         17.799942    0.009895    0.533696   \n",
       "2023-03-06   21.555695         17.795914    0.009970    0.438775   \n",
       "2023-03-07   21.811003         17.787725    0.009959    0.449444   \n",
       "2023-03-08   21.799227         17.768528    0.009941    0.462427   \n",
       "2023-03-09   21.788948         17.752039    0.009928    0.477135   \n",
       "2023-03-10   21.829523         17.757223    0.009912    0.493741   \n",
       "2023-03-11   21.815327         17.744526    0.009900    0.512629   \n",
       "2023-03-12   21.817434         17.744968    0.009895    0.533852   \n",
       "2023-03-13   21.816858         17.746960    0.009970    0.438922   \n",
       "2023-03-14   21.801985         17.749939    0.009959    0.449689   \n",
       "2023-03-15   21.792158         17.753874    0.009941    0.462788   \n",
       "2023-03-16   21.794912         17.754070    0.009928    0.477539   \n",
       "2023-03-17   21.794792         17.750071    0.009912    0.559444   \n",
       "2023-03-18   21.798216         17.756048    0.009900    0.613661   \n",
       "2023-03-19   21.763243         17.776184    0.009895    0.668220   \n",
       "2023-03-20   21.686430         17.800997    0.009970    0.557592   \n",
       "\n",
       "            log_analytics   bandwidth  load_balancer  service_bus      Others  \\\n",
       "Date                                                                            \n",
       "2023-02-23     110.306381  110.306381     110.306381   110.306381  110.306381   \n",
       "2023-02-24       0.431589    0.039494       4.670322     0.132162   61.334953   \n",
       "2023-02-25       0.431634    0.039528       4.703234     0.132099   59.690910   \n",
       "2023-02-26       0.431609    0.039562       4.733448     0.132085   58.202896   \n",
       "2023-02-27       0.430869    0.039415       4.721598     0.132278   57.031921   \n",
       "2023-02-28       0.430903    0.039417       4.696507     0.132317   56.358414   \n",
       "2023-03-01       0.192908    0.039443       4.839612     0.031554   56.408615   \n",
       "2023-03-02       0.192913    0.039472       4.838470     0.009158   56.008148   \n",
       "2023-03-03       0.192922    0.039504       4.836792    -0.024299   55.946117   \n",
       "2023-03-04       0.192955    0.039536       4.833044    -0.071390   55.248837   \n",
       "2023-03-05       0.192979    0.039568       4.831873    -0.137873   55.069458   \n",
       "2023-03-06       0.192266    0.039427       4.354237     0.046766   54.745911   \n",
       "2023-03-07       0.192266    0.039429       4.348643     0.043469   55.347248   \n",
       "2023-03-08       0.192265    0.039443       4.338818     0.033389   56.493835   \n",
       "2023-03-09       0.192264    0.039472       4.329510     0.011699   58.215092   \n",
       "2023-03-10       0.192269    0.039503       4.303344    -0.021359   58.654106   \n",
       "2023-03-11       0.371140    0.039535       4.299933    -0.001823   64.469154   \n",
       "2023-03-12       0.371140    0.039567       4.298915    -0.005531   64.765991   \n",
       "2023-03-13       0.371141    0.039426       4.290112     0.007454   64.633385   \n",
       "2023-03-14       0.371142    0.039428       4.292648     0.006487   64.619904   \n",
       "2023-03-15       0.371144    0.039443       4.295630     0.005059   65.522659   \n",
       "2023-03-16       0.371141    0.039472       4.300074     0.003165   66.813477   \n",
       "2023-03-17       0.371141    0.039504       4.309539     0.000915   67.663704   \n",
       "2023-03-18       0.371142    0.039536       4.323219    -0.001971   67.767838   \n",
       "2023-03-19       0.371142    0.039568       4.339071    -0.005635   67.728775   \n",
       "2023-03-20       0.371142    0.039427       4.329638     0.007333   69.025047   \n",
       "\n",
       "                   SUM  ground_truth  \n",
       "Date                                  \n",
       "2023-02-23  992.757507    110.306381  \n",
       "2023-02-24  107.983704    108.557959  \n",
       "2023-02-25  105.549271    107.925850  \n",
       "2023-02-26  103.608467    103.073215  \n",
       "2023-02-27  102.291901    110.290543  \n",
       "2023-02-28  101.625061    102.686326  \n",
       "2023-03-01  101.447861     81.475006  \n",
       "2023-03-02  100.964661     78.840089  \n",
       "2023-03-03  100.850815     93.283237  \n",
       "2023-03-04  100.072189     88.019660  \n",
       "2023-03-05   99.794846     88.327233  \n",
       "2023-03-06   99.178963     91.842523  \n",
       "2023-03-07  100.029190     89.705884  \n",
       "2023-03-08  101.137878     88.426166  \n",
       "2023-03-09  102.816086     91.046703  \n",
       "2023-03-10  103.258263     93.068870  \n",
       "2023-03-11  109.260323     97.552727  \n",
       "2023-03-12  109.576233     97.784930  \n",
       "2023-03-13  109.354233     96.167977  \n",
       "2023-03-14  109.341187    111.392723  \n",
       "2023-03-15  110.252701    130.164057  \n",
       "2023-03-16  111.563782    124.372183  \n",
       "2023-03-17  112.499023    138.567702  \n",
       "2023-03-18  112.677589    147.010317  \n",
       "2023-03-19  112.690475    105.024077  \n",
       "2023-03-20  113.827576    137.515357  "
      ]
     },
     "execution_count": 47,
     "metadata": {},
     "output_type": "execute_result"
    }
   ],
   "source": [
    "SUM_DF = SUM_DF.drop('ground_truth', axis=1)\n",
    "#SUM_DF = SUM_DF.drop('SUM', axis=1)\n",
    "SUM_DF['SUM'] = SUM_DF.sum(axis=1, skipna=True)\n",
    "SUM_DF['ground_truth'] = df['CostInBillingCurrency'][-26:]\n",
    "SUM_DF"
   ]
  },
  {
   "cell_type": "code",
   "execution_count": 48,
   "metadata": {},
   "outputs": [
    {
     "data": {
      "image/png": "[encoded data removed]",
      "text/plain": [
       "<Figure size 2000x500 with 1 Axes>"
      ]
     },
     "metadata": {},
     "output_type": "display_data"
    },
    {
     "name": "stdout",
     "output_type": "stream",
     "text": [
      "MDA = 0.64\n",
      "RMSE = 14.630167357324286\n"
     ]
    }
   ],
   "source": [
    "pred_data = SUM_DF['SUM']\n",
    "truth_data = SUM_DF['ground_truth']\n",
    "\n",
    "# Create the plot\n",
    "plt.figure(figsize=(20, 5))\n",
    "plt.plot(truth_data[1:], label=\"Ground Truth\")\n",
    "plt.plot(pred_data[1:], label=\"LSTM Predictions for each MeterCategory\")\n",
    "\n",
    "# Add title and legends\n",
    "plt.title(\"Prediction vs Ground Truth\")\n",
    "plt.legend()\n",
    "\n",
    "# Display the plot\n",
    "plt.show()\n",
    "\n",
    "print(\"MDA =\",da(truth_data,pred_data))\n",
    "print(\"RMSE =\",np.sqrt(mean_squared_error(truth_data[1:], pred_data[1:])))"
   ]
  }
 ],
 "metadata": {
  "kernelspec": {
   "display_name": "forecasting",
   "language": "python",
   "name": "python3"
  },
  "language_info": {
   "codemirror_mode": {
    "name": "ipython",
    "version": 3
   },
   "file_extension": ".py",
   "mimetype": "text/x-python",
   "name": "python",
   "nbconvert_exporter": "python",
   "pygments_lexer": "ipython3",
   "version": "3.11.5"
  }
 },
 "nbformat": 4,
 "nbformat_minor": 2
}

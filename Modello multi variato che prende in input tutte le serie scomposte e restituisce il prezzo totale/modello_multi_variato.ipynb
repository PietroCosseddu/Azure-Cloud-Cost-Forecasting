{
 "cells": [
  {
   "cell_type": "markdown",
   "metadata": {},
   "source": [
    "# data preparation"
   ]
  },
  {
   "cell_type": "code",
   "execution_count": 1,
   "metadata": {},
   "outputs": [],
   "source": [
    "import pandas as pd\n",
    "import matplotlib.pyplot as plt\n",
    "import seaborn as sns\n",
    "import xgboost as xgb\n",
    "from sklearn.metrics import mean_squared_error\n",
    "import numpy as np\n",
    "from sklearn.model_selection import TimeSeriesSplit\n",
    "from hyperopt import fmin, tpe, hp, STATUS_OK, Trials\n",
    "import tensorflow as tf\n",
    "import os\n",
    "from sklearn.preprocessing import MinMaxScaler\n",
    "color_pal = sns.color_palette()\n",
    "\n",
    "from tensorflow.keras import backend as K\n",
    "from tensorflow.keras.models import Sequential\n",
    "from tensorflow.keras.layers import Dense, BatchNormalization\n",
    "from tensorflow.keras.layers import *\n",
    "from tensorflow.keras.callbacks import ModelCheckpoint\n",
    "from tensorflow.keras.losses import MeanSquaredError\n",
    "from tensorflow.keras.losses import MeanAbsoluteError\n",
    "from tensorflow.keras.metrics import RootMeanSquaredError\n",
    "from tensorflow.keras.metrics import MeanAbsoluteError\n",
    "from tensorflow.keras.optimizers.legacy import Adam\n",
    "from tensorflow.keras.initializers import HeNormal\n",
    "from tensorflow.keras.initializers import GlorotUniform"
   ]
  },
  {
   "cell_type": "code",
   "execution_count": 2,
   "metadata": {},
   "outputs": [],
   "source": [
    "def get_df(MeterCategory):\n",
    "\n",
    "    df = pd.read_csv(\"/Users/pietrocosseddu/Desktop/Tirocinio/Approccio robusto/anonymized_costs.csv\")\n",
    "\n",
    "    undesired_meter_categories = ['Storage', 'Virtual Machines', 'Automation', 'Bandwidth', 'Load Balancer', 'Log Analytics', 'Service Bus', 'Logic Apps'] \n",
    "\n",
    "    # Define the MeterCategories you want to select as a list\n",
    "    desired_meter_categories = [MeterCategory]  # Add your desired categories\n",
    "\n",
    "    # Select rows where 'MeterCategory' matches the desired names\n",
    "    if (MeterCategory == 'Others'):\n",
    "        df = df[-df['MeterCategory'].isin(undesired_meter_categories)]\n",
    "    else:\n",
    "        df = df[df['MeterCategory'].isin(desired_meter_categories)]\n",
    "\n",
    "    # Rest of your data processing code\n",
    "    columns_to_eliminate = ['InvoiceSectionName', 'MeterCategory', 'MeterSubCategory', 'MeterName', 'SubscriptionName', 'ResourceGroup', 'ConsumedService', 'ResourceLocation', 'ResourceName']\n",
    "\n",
    "    # Mapping categorical features (if needed)\n",
    "\n",
    "    df.drop(columns=columns_to_eliminate, inplace=True)\n",
    "    df = df.set_index(\"Date\")\n",
    "    df.index = pd.to_datetime(df.index)\n",
    "\n",
    "    df['DayOfWeek'] = df.index.day_of_week\n",
    "    df['Month'] = df.index.month\n",
    "\n",
    "    df['CostInBillingCurrency'] = df.groupby(df.index.date)['CostInBillingCurrency'].sum()\n",
    "    df = df.drop_duplicates(subset=['CostInBillingCurrency'])\n",
    "    df = df.sort_index()\n",
    "    return df"
   ]
  },
  {
   "cell_type": "code",
   "execution_count": 53,
   "metadata": {},
   "outputs": [],
   "source": [
    "df = pd.read_csv(\"/Users/pietrocosseddu/Desktop/Tirocinio/Approccio robusto/anonymized_costs.csv\")\n",
    "\n",
    "# Define the MeterCategories you want to select as a list\n",
    "#desired_meter_categories = ['Storage', 'Virtual Machines', 'Automation', 'Bandwidth', 'Load Balancer', 'Log Analytics', 'Service Bus', 'Logic Apps']  # Add your desired categories\n",
    "\n",
    "# Select rows where 'MeterCategory' matches the desired names\n",
    "#df = df[df['MeterCategory'].isin(desired_meter_categories)]\n",
    "\n",
    "# Rest of your data processing code\n",
    "columns_to_eliminate = ['InvoiceSectionName', 'MeterCategory', 'MeterSubCategory', 'MeterName', 'SubscriptionName', 'ResourceGroup', 'ConsumedService', 'ResourceLocation', 'ResourceName']\n",
    "\n",
    "# Mapping categorical features (if needed)\n",
    "\n",
    "seq_length = 6\n",
    "\n",
    "df.drop(columns=columns_to_eliminate, inplace=True)\n",
    "df = df.set_index(\"Date\")\n",
    "df.index = pd.to_datetime(df.index)\n",
    "\n",
    "df['DayOfWeek'] = df.index.day_of_week\n",
    "df['Month'] = df.index.month\n",
    "\n",
    "df['CostInBillingCurrency'] = df.groupby(df.index.date)['CostInBillingCurrency'].sum()\n",
    "df = df.drop_duplicates(subset=['CostInBillingCurrency'])\n",
    "df = df.sort_index()\n",
    "\n",
    "Y = df['CostInBillingCurrency'][seq_length:].values\n",
    "\n",
    "walk_train_y = []\n",
    "walk_val_y = []\n",
    "walk_test_y = []\n",
    "\n",
    "if (seq_length == 4):\n",
    "    start = 50\n",
    "elif (seq_length == 2):\n",
    "    start = 52\n",
    "elif (seq_length == 6):\n",
    "    start = 48\n",
    "\n",
    "for i in range (5):\n",
    "\n",
    "    delay = i*5\n",
    "\n",
    "    walk_train_y.append(Y[delay:start+delay])\n",
    "    walk_val_y.append(Y[start+delay:start+10+delay])\n",
    "    walk_test_y.append(Y[start+10+delay:start+15+delay])"
   ]
  },
  {
   "cell_type": "code",
   "execution_count": 54,
   "metadata": {},
   "outputs": [],
   "source": [
    "def generate_multivariate_sequences(df, sequence_length):\n",
    "    num_rows, num_columns = df.shape\n",
    "    sequences = []\n",
    "\n",
    "    for i in range(num_rows - sequence_length + 1):\n",
    "        sequence = df.iloc[i:i+sequence_length, :].values.tolist()\n",
    "        sequences.append(sequence)\n",
    "    \n",
    "    sequences = sequences[:-1]\n",
    "\n",
    "    return sequences"
   ]
  },
  {
   "cell_type": "code",
   "execution_count": 55,
   "metadata": {},
   "outputs": [],
   "source": [
    "def add_element(data, element):\n",
    "  DataSet = np.empty((data.shape[0], data.shape[1] + 1))\n",
    "  for i in range(data.shape[0]):\n",
    "      nuova_riga = np.append(data[i], element[i])\n",
    "      DataSet[i] = nuova_riga\n",
    "  return DataSet"
   ]
  },
  {
   "cell_type": "code",
   "execution_count": 34,
   "metadata": {},
   "outputs": [],
   "source": [
    "def da(y_true, y_pred):\n",
    "    y_true = np.array(y_true)\n",
    "    y_pred = np.array(y_pred)\n",
    "\n",
    "    # Calculate the sign of the difference between consecutive actual values\n",
    "    actual_diff = np.sign(y_true[1:] - y_true[:-1])\n",
    "    \n",
    "    # Calculate the sign of the difference between the predicted value and the actual value of the previous day\n",
    "    pred_diff = np.sign(y_pred[1:] - y_true[:-1])\n",
    "    \n",
    "    # Calculate the number of times the signs are the same\n",
    "    num_correct = np.sum(actual_diff == pred_diff)\n",
    "    \n",
    "    # Calculate the total number of comparisons (which is one less than the length of the time series)\n",
    "    total_comparisons = len(y_true) - 1\n",
    "    \n",
    "    # Calculate the directional accuracy\n",
    "    da = num_correct / total_comparisons\n",
    "    \n",
    "    return da"
   ]
  },
  {
   "cell_type": "code",
   "execution_count": 35,
   "metadata": {},
   "outputs": [],
   "source": [
    "def multivariate_sequences(df, seq_length):\n",
    "    df_as_np = df.to_numpy()\n",
    "    X = []\n",
    "    for i in range (len(df_as_np)-seq_length):\n",
    "        row = [r for r in df_as_np[i:i+seq_length]]\n",
    "        X.append(row)\n",
    "    return np.array(X)"
   ]
  },
  {
   "cell_type": "code",
   "execution_count": 57,
   "metadata": {},
   "outputs": [],
   "source": [
    "def create_train_test_val(df):\n",
    "\n",
    "    seq_length = 6\n",
    "\n",
    "    if (seq_length == 4):\n",
    "        train = 50\n",
    "        val = 60\n",
    "        test = 65\n",
    "    elif (seq_length == 2):\n",
    "        train = 52\n",
    "        val = 62\n",
    "        test = 67\n",
    "    elif (seq_length == 6):\n",
    "        train = 48\n",
    "        val = 58\n",
    "        test = 63\n",
    "\n",
    "    data = df\n",
    "    data = multivariate_sequences(data, seq_length)\n",
    "    \n",
    "    data = np.array(data)\n",
    "\n",
    "    walk_train_x = []\n",
    "    walk_val_x = []\n",
    "    walk_test_x = []\n",
    "\n",
    "    delay = 0\n",
    "\n",
    "    # divisione dei passi\n",
    "    for i in range (5):\n",
    "\n",
    "        delay = i*5\n",
    "\n",
    "        walk_train_x.append(data[delay:train+delay])\n",
    "        walk_val_x.append(data[train+delay:val+delay])\n",
    "        walk_test_x.append(data[val+delay:test+delay])\n",
    "    \n",
    "    return np.array(walk_train_x), np.array(walk_val_x), np.array(walk_test_x), data"
   ]
  },
  {
   "cell_type": "code",
   "execution_count": 58,
   "metadata": {},
   "outputs": [],
   "source": [
    "def compute_rmse(predictions, truth):\n",
    "    rmse = []\n",
    "    for i in range(len(predictions)):\n",
    "        rmse.append(np.sqrt(mean_squared_error(truth[i], predictions[i])))\n",
    "    result = sum(rmse)/len(rmse)\n",
    "    return result"
   ]
  },
  {
   "cell_type": "code",
   "execution_count": 59,
   "metadata": {},
   "outputs": [],
   "source": [
    "def custom_loss(y_true, y_pred):\n",
    "\n",
    "    rmse_w = 0.5\n",
    "    da_w = 0.5\n",
    "\n",
    "    # Calculate RMSE\n",
    "    rmse = K.sqrt(K.mean(K.square(y_pred - y_true)))\n",
    "    \n",
    "    # Calculate directional accuracy\n",
    "    actual_diff = K.sign(y_true[1:] - y_true[:-1])\n",
    "    pred_diff = K.sign(y_pred[1:] - y_true[:-1])\n",
    "    num_correct = K.sum(K.cast(K.equal(actual_diff, pred_diff), tf.float32))\n",
    "    total_comparisons = K.cast(K.shape(y_true)[0] - 1, tf.float32)\n",
    "    da = num_correct / total_comparisons\n",
    "    da = 1-da\n",
    "\n",
    "    # Normalize RMSE and directional accuracy\n",
    "    rmse_normalized = rmse / (K.max(y_true) - K.min(y_true))\n",
    "    \n",
    "    # Combine normalized RMSE and directional accuracy with weights\n",
    "    loss = (rmse_normalized * rmse_w) + (da * da_w)\n",
    "    \n",
    "    return loss"
   ]
  },
  {
   "cell_type": "code",
   "execution_count": 60,
   "metadata": {},
   "outputs": [],
   "source": [
    "storage = get_df('Storage')\n",
    "virtual_machines = get_df('Virtual Machines')\n",
    "automation = get_df('Automation')\n",
    "bandwidth = get_df('Bandwidth')\n",
    "load_balancer = get_df('Load Balancer')\n",
    "log_analytics = get_df('Log Analytics')\n",
    "logic_apps = get_df('Logic Apps')\n",
    "service_bus = get_df('Service Bus')\n",
    "remaining = get_df('Others')"
   ]
  },
  {
   "cell_type": "code",
   "execution_count": 61,
   "metadata": {},
   "outputs": [],
   "source": [
    "MULTI_DF = pd.DataFrame()\n",
    "MULTI_DF['storage'] = storage['CostInBillingCurrency']\n",
    "MULTI_DF['DayOfWeek'] = storage['DayOfWeek']\n",
    "MULTI_DF['Month'] = storage['Month']\n",
    "MULTI_DF['virtual_machines'] = virtual_machines['CostInBillingCurrency']\n",
    "MULTI_DF['automation'] = automation['CostInBillingCurrency']\n",
    "MULTI_DF['bandwidth'] = bandwidth['CostInBillingCurrency']\n",
    "MULTI_DF['load_balancer'] = load_balancer['CostInBillingCurrency']\n",
    "MULTI_DF['log_analytics'] = log_analytics['CostInBillingCurrency']\n",
    "MULTI_DF['logic_apps'] = logic_apps['CostInBillingCurrency']\n",
    "MULTI_DF['service_bus'] = service_bus['CostInBillingCurrency']\n",
    "MULTI_DF['remaining'] = remaining['CostInBillingCurrency']\n"
   ]
  },
  {
   "cell_type": "code",
   "execution_count": 62,
   "metadata": {},
   "outputs": [],
   "source": [
    "MULTI_DF = MULTI_DF.fillna(0) "
   ]
  },
  {
   "cell_type": "code",
   "execution_count": 63,
   "metadata": {},
   "outputs": [],
   "source": [
    "walk_train_x, walk_val_x, walk_test_x, data = create_train_test_val(MULTI_DF)"
   ]
  },
  {
   "cell_type": "code",
   "execution_count": 65,
   "metadata": {},
   "outputs": [
    {
     "name": "stdout",
     "output_type": "stream",
     "text": [
      "Model: \"sequential_24\"\n",
      "_________________________________________________________________\n",
      " Layer (type)                Output Shape              Param #   \n",
      "=================================================================\n",
      " lstm_96 (LSTM)              (None, 6, 256)            274432    \n",
      "                                                                 \n",
      " lstm_97 (LSTM)              (None, 6, 128)            197120    \n",
      "                                                                 \n",
      " lstm_98 (LSTM)              (None, 6, 64)             49408     \n",
      "                                                                 \n",
      " lstm_99 (LSTM)              (None, 64)                33024     \n",
      "                                                                 \n",
      " dense_24 (Dense)            (None, 1)                 65        \n",
      "                                                                 \n",
      "=================================================================\n",
      "Total params: 554049 (2.11 MB)\n",
      "Trainable params: 554049 (2.11 MB)\n",
      "Non-trainable params: 0 (0.00 Byte)\n",
      "_________________________________________________________________\n",
      "INFO:tensorflow:Assets written to: model/assets\n"
     ]
    },
    {
     "name": "stderr",
     "output_type": "stream",
     "text": [
      "INFO:tensorflow:Assets written to: model/assets\n"
     ]
    },
    {
     "name": "stdout",
     "output_type": "stream",
     "text": [
      "INFO:tensorflow:Assets written to: model/assets\n"
     ]
    },
    {
     "name": "stderr",
     "output_type": "stream",
     "text": [
      "INFO:tensorflow:Assets written to: model/assets\n"
     ]
    },
    {
     "name": "stdout",
     "output_type": "stream",
     "text": [
      "INFO:tensorflow:Assets written to: model/assets\n"
     ]
    },
    {
     "name": "stderr",
     "output_type": "stream",
     "text": [
      "INFO:tensorflow:Assets written to: model/assets\n"
     ]
    },
    {
     "name": "stdout",
     "output_type": "stream",
     "text": [
      "INFO:tensorflow:Assets written to: model/assets\n"
     ]
    },
    {
     "name": "stderr",
     "output_type": "stream",
     "text": [
      "INFO:tensorflow:Assets written to: model/assets\n"
     ]
    },
    {
     "name": "stdout",
     "output_type": "stream",
     "text": [
      "1/1 [==============================] - 0s 360ms/step\n",
      "1/1 [==============================] - 0s 22ms/step\n",
      "INFO:tensorflow:Assets written to: model/assets\n"
     ]
    },
    {
     "name": "stderr",
     "output_type": "stream",
     "text": [
      "INFO:tensorflow:Assets written to: model/assets\n"
     ]
    },
    {
     "name": "stdout",
     "output_type": "stream",
     "text": [
      "INFO:tensorflow:Assets written to: model/assets\n"
     ]
    },
    {
     "name": "stderr",
     "output_type": "stream",
     "text": [
      "INFO:tensorflow:Assets written to: model/assets\n"
     ]
    },
    {
     "name": "stdout",
     "output_type": "stream",
     "text": [
      "1/1 [==============================] - 0s 347ms/step\n",
      "1/1 [==============================] - 0s 22ms/step\n",
      "1/1 [==============================] - 0s 339ms/step\n",
      "1/1 [==============================] - 0s 27ms/step\n",
      "1/1 [==============================] - 0s 326ms/step\n",
      "1/1 [==============================] - 0s 20ms/step\n",
      "1/1 [==============================] - 0s 327ms/step\n",
      "1/1 [==============================] - 0s 22ms/step\n",
      "Model: \"sequential_25\"\n",
      "_________________________________________________________________\n",
      " Layer (type)                Output Shape              Param #   \n",
      "=================================================================\n",
      " lstm_100 (LSTM)             (None, 6, 256)            274432    \n",
      "                                                                 \n",
      " lstm_101 (LSTM)             (None, 6, 128)            197120    \n",
      "                                                                 \n",
      " lstm_102 (LSTM)             (None, 6, 64)             49408     \n",
      "                                                                 \n",
      " lstm_103 (LSTM)             (None, 64)                33024     \n",
      "                                                                 \n",
      " dense_25 (Dense)            (None, 1)                 65        \n",
      "                                                                 \n",
      "=================================================================\n",
      "Total params: 554049 (2.11 MB)\n",
      "Trainable params: 554049 (2.11 MB)\n",
      "Non-trainable params: 0 (0.00 Byte)\n",
      "_________________________________________________________________\n",
      "INFO:tensorflow:Assets written to: model/assets\n"
     ]
    },
    {
     "name": "stderr",
     "output_type": "stream",
     "text": [
      "INFO:tensorflow:Assets written to: model/assets\n"
     ]
    },
    {
     "name": "stdout",
     "output_type": "stream",
     "text": [
      "INFO:tensorflow:Assets written to: model/assets\n"
     ]
    },
    {
     "name": "stderr",
     "output_type": "stream",
     "text": [
      "INFO:tensorflow:Assets written to: model/assets\n"
     ]
    },
    {
     "name": "stdout",
     "output_type": "stream",
     "text": [
      "INFO:tensorflow:Assets written to: model/assets\n"
     ]
    },
    {
     "name": "stderr",
     "output_type": "stream",
     "text": [
      "INFO:tensorflow:Assets written to: model/assets\n"
     ]
    },
    {
     "name": "stdout",
     "output_type": "stream",
     "text": [
      "INFO:tensorflow:Assets written to: model/assets\n"
     ]
    },
    {
     "name": "stderr",
     "output_type": "stream",
     "text": [
      "INFO:tensorflow:Assets written to: model/assets\n"
     ]
    },
    {
     "name": "stdout",
     "output_type": "stream",
     "text": [
      "INFO:tensorflow:Assets written to: model/assets\n"
     ]
    },
    {
     "name": "stderr",
     "output_type": "stream",
     "text": [
      "INFO:tensorflow:Assets written to: model/assets\n"
     ]
    },
    {
     "name": "stdout",
     "output_type": "stream",
     "text": [
      "INFO:tensorflow:Assets written to: model/assets\n"
     ]
    },
    {
     "name": "stderr",
     "output_type": "stream",
     "text": [
      "INFO:tensorflow:Assets written to: model/assets\n"
     ]
    },
    {
     "name": "stdout",
     "output_type": "stream",
     "text": [
      "INFO:tensorflow:Assets written to: model/assets\n"
     ]
    },
    {
     "name": "stderr",
     "output_type": "stream",
     "text": [
      "INFO:tensorflow:Assets written to: model/assets\n"
     ]
    },
    {
     "name": "stdout",
     "output_type": "stream",
     "text": [
      "1/1 [==============================] - 0s 326ms/step\n",
      "1/1 [==============================] - 0s 20ms/step\n",
      "INFO:tensorflow:Assets written to: model/assets\n"
     ]
    },
    {
     "name": "stderr",
     "output_type": "stream",
     "text": [
      "INFO:tensorflow:Assets written to: model/assets\n"
     ]
    },
    {
     "name": "stdout",
     "output_type": "stream",
     "text": [
      "INFO:tensorflow:Assets written to: model/assets\n"
     ]
    },
    {
     "name": "stderr",
     "output_type": "stream",
     "text": [
      "INFO:tensorflow:Assets written to: model/assets\n"
     ]
    },
    {
     "name": "stdout",
     "output_type": "stream",
     "text": [
      "1/1 [==============================] - 0s 330ms/step\n",
      "1/1 [==============================] - 0s 24ms/step\n",
      "1/1 [==============================] - 0s 371ms/step\n",
      "1/1 [==============================] - 0s 20ms/step\n",
      "1/1 [==============================] - 0s 420ms/step\n",
      "1/1 [==============================] - 0s 19ms/step\n",
      "INFO:tensorflow:Assets written to: model/assets\n"
     ]
    },
    {
     "name": "stderr",
     "output_type": "stream",
     "text": [
      "INFO:tensorflow:Assets written to: model/assets\n"
     ]
    },
    {
     "name": "stdout",
     "output_type": "stream",
     "text": [
      "INFO:tensorflow:Assets written to: model/assets\n"
     ]
    },
    {
     "name": "stderr",
     "output_type": "stream",
     "text": [
      "INFO:tensorflow:Assets written to: model/assets\n"
     ]
    },
    {
     "name": "stdout",
     "output_type": "stream",
     "text": [
      "INFO:tensorflow:Assets written to: model/assets\n"
     ]
    },
    {
     "name": "stderr",
     "output_type": "stream",
     "text": [
      "INFO:tensorflow:Assets written to: model/assets\n"
     ]
    },
    {
     "name": "stdout",
     "output_type": "stream",
     "text": [
      "INFO:tensorflow:Assets written to: model/assets\n"
     ]
    },
    {
     "name": "stderr",
     "output_type": "stream",
     "text": [
      "INFO:tensorflow:Assets written to: model/assets\n"
     ]
    },
    {
     "name": "stdout",
     "output_type": "stream",
     "text": [
      "1/1 [==============================] - 0s 321ms/step\n",
      "1/1 [==============================] - 0s 18ms/step\n",
      "Model: \"sequential_26\"\n",
      "_________________________________________________________________\n",
      " Layer (type)                Output Shape              Param #   \n",
      "=================================================================\n",
      " lstm_104 (LSTM)             (None, 6, 256)            274432    \n",
      "                                                                 \n",
      " lstm_105 (LSTM)             (None, 6, 128)            197120    \n",
      "                                                                 \n",
      " lstm_106 (LSTM)             (None, 6, 64)             49408     \n",
      "                                                                 \n",
      " lstm_107 (LSTM)             (None, 64)                33024     \n",
      "                                                                 \n",
      " dense_26 (Dense)            (None, 1)                 65        \n",
      "                                                                 \n",
      "=================================================================\n",
      "Total params: 554049 (2.11 MB)\n",
      "Trainable params: 554049 (2.11 MB)\n",
      "Non-trainable params: 0 (0.00 Byte)\n",
      "_________________________________________________________________\n",
      "INFO:tensorflow:Assets written to: model/assets\n"
     ]
    },
    {
     "name": "stderr",
     "output_type": "stream",
     "text": [
      "INFO:tensorflow:Assets written to: model/assets\n"
     ]
    },
    {
     "name": "stdout",
     "output_type": "stream",
     "text": [
      "INFO:tensorflow:Assets written to: model/assets\n"
     ]
    },
    {
     "name": "stderr",
     "output_type": "stream",
     "text": [
      "INFO:tensorflow:Assets written to: model/assets\n"
     ]
    },
    {
     "name": "stdout",
     "output_type": "stream",
     "text": [
      "INFO:tensorflow:Assets written to: model/assets\n"
     ]
    },
    {
     "name": "stderr",
     "output_type": "stream",
     "text": [
      "INFO:tensorflow:Assets written to: model/assets\n"
     ]
    },
    {
     "name": "stdout",
     "output_type": "stream",
     "text": [
      "INFO:tensorflow:Assets written to: model/assets\n"
     ]
    },
    {
     "name": "stderr",
     "output_type": "stream",
     "text": [
      "INFO:tensorflow:Assets written to: model/assets\n"
     ]
    },
    {
     "name": "stdout",
     "output_type": "stream",
     "text": [
      "INFO:tensorflow:Assets written to: model/assets\n"
     ]
    },
    {
     "name": "stderr",
     "output_type": "stream",
     "text": [
      "INFO:tensorflow:Assets written to: model/assets\n"
     ]
    },
    {
     "name": "stdout",
     "output_type": "stream",
     "text": [
      "1/1 [==============================] - 0s 383ms/step\n",
      "1/1 [==============================] - 0s 35ms/step\n",
      "1/1 [==============================] - 0s 323ms/step\n",
      "1/1 [==============================] - 0s 20ms/step\n",
      "1/1 [==============================] - 0s 342ms/step\n",
      "1/1 [==============================] - 0s 22ms/step\n",
      "1/1 [==============================] - 0s 369ms/step\n",
      "1/1 [==============================] - 0s 22ms/step\n",
      "INFO:tensorflow:Assets written to: model/assets\n"
     ]
    },
    {
     "name": "stderr",
     "output_type": "stream",
     "text": [
      "INFO:tensorflow:Assets written to: model/assets\n"
     ]
    },
    {
     "name": "stdout",
     "output_type": "stream",
     "text": [
      "1/1 [==============================] - 0s 338ms/step\n",
      "1/1 [==============================] - 0s 28ms/step\n",
      "Model: \"sequential_27\"\n",
      "_________________________________________________________________\n",
      " Layer (type)                Output Shape              Param #   \n",
      "=================================================================\n",
      " lstm_108 (LSTM)             (None, 6, 256)            274432    \n",
      "                                                                 \n",
      " lstm_109 (LSTM)             (None, 6, 128)            197120    \n",
      "                                                                 \n",
      " lstm_110 (LSTM)             (None, 6, 64)             49408     \n",
      "                                                                 \n",
      " lstm_111 (LSTM)             (None, 64)                33024     \n",
      "                                                                 \n",
      " dense_27 (Dense)            (None, 1)                 65        \n",
      "                                                                 \n",
      "=================================================================\n",
      "Total params: 554049 (2.11 MB)\n",
      "Trainable params: 554049 (2.11 MB)\n",
      "Non-trainable params: 0 (0.00 Byte)\n",
      "_________________________________________________________________\n",
      "INFO:tensorflow:Assets written to: model/assets\n"
     ]
    },
    {
     "name": "stderr",
     "output_type": "stream",
     "text": [
      "INFO:tensorflow:Assets written to: model/assets\n"
     ]
    },
    {
     "name": "stdout",
     "output_type": "stream",
     "text": [
      "INFO:tensorflow:Assets written to: model/assets\n"
     ]
    },
    {
     "name": "stderr",
     "output_type": "stream",
     "text": [
      "INFO:tensorflow:Assets written to: model/assets\n"
     ]
    },
    {
     "name": "stdout",
     "output_type": "stream",
     "text": [
      "INFO:tensorflow:Assets written to: model/assets\n"
     ]
    },
    {
     "name": "stderr",
     "output_type": "stream",
     "text": [
      "INFO:tensorflow:Assets written to: model/assets\n"
     ]
    },
    {
     "name": "stdout",
     "output_type": "stream",
     "text": [
      "1/1 [==============================] - 0s 326ms/step\n",
      "1/1 [==============================] - 0s 19ms/step\n",
      "INFO:tensorflow:Assets written to: model/assets\n"
     ]
    },
    {
     "name": "stderr",
     "output_type": "stream",
     "text": [
      "INFO:tensorflow:Assets written to: model/assets\n"
     ]
    },
    {
     "name": "stdout",
     "output_type": "stream",
     "text": [
      "INFO:tensorflow:Assets written to: model/assets\n"
     ]
    },
    {
     "name": "stderr",
     "output_type": "stream",
     "text": [
      "INFO:tensorflow:Assets written to: model/assets\n"
     ]
    },
    {
     "name": "stdout",
     "output_type": "stream",
     "text": [
      "INFO:tensorflow:Assets written to: model/assets\n"
     ]
    },
    {
     "name": "stderr",
     "output_type": "stream",
     "text": [
      "INFO:tensorflow:Assets written to: model/assets\n"
     ]
    },
    {
     "name": "stdout",
     "output_type": "stream",
     "text": [
      "INFO:tensorflow:Assets written to: model/assets\n"
     ]
    },
    {
     "name": "stderr",
     "output_type": "stream",
     "text": [
      "INFO:tensorflow:Assets written to: model/assets\n"
     ]
    },
    {
     "name": "stdout",
     "output_type": "stream",
     "text": [
      "INFO:tensorflow:Assets written to: model/assets\n"
     ]
    },
    {
     "name": "stderr",
     "output_type": "stream",
     "text": [
      "INFO:tensorflow:Assets written to: model/assets\n"
     ]
    },
    {
     "name": "stdout",
     "output_type": "stream",
     "text": [
      "1/1 [==============================] - 0s 345ms/step\n",
      "1/1 [==============================] - 0s 20ms/step\n",
      "1/1 [==============================] - 0s 346ms/step\n",
      "1/1 [==============================] - 0s 19ms/step\n",
      "1/1 [==============================] - 0s 322ms/step\n",
      "1/1 [==============================] - 0s 21ms/step\n",
      "1/1 [==============================] - 0s 441ms/step\n",
      "1/1 [==============================] - 0s 23ms/step\n",
      "Model: \"sequential_28\"\n",
      "_________________________________________________________________\n",
      " Layer (type)                Output Shape              Param #   \n",
      "=================================================================\n",
      " lstm_112 (LSTM)             (None, 6, 256)            274432    \n",
      "                                                                 \n",
      " lstm_113 (LSTM)             (None, 6, 128)            197120    \n",
      "                                                                 \n",
      " lstm_114 (LSTM)             (None, 6, 64)             49408     \n",
      "                                                                 \n",
      " lstm_115 (LSTM)             (None, 64)                33024     \n",
      "                                                                 \n",
      " dense_28 (Dense)            (None, 1)                 65        \n",
      "                                                                 \n",
      "=================================================================\n",
      "Total params: 554049 (2.11 MB)\n",
      "Trainable params: 554049 (2.11 MB)\n",
      "Non-trainable params: 0 (0.00 Byte)\n",
      "_________________________________________________________________\n",
      "INFO:tensorflow:Assets written to: model/assets\n"
     ]
    },
    {
     "name": "stderr",
     "output_type": "stream",
     "text": [
      "INFO:tensorflow:Assets written to: model/assets\n"
     ]
    },
    {
     "name": "stdout",
     "output_type": "stream",
     "text": [
      "INFO:tensorflow:Assets written to: model/assets\n"
     ]
    },
    {
     "name": "stderr",
     "output_type": "stream",
     "text": [
      "INFO:tensorflow:Assets written to: model/assets\n"
     ]
    },
    {
     "name": "stdout",
     "output_type": "stream",
     "text": [
      "INFO:tensorflow:Assets written to: model/assets\n"
     ]
    },
    {
     "name": "stderr",
     "output_type": "stream",
     "text": [
      "INFO:tensorflow:Assets written to: model/assets\n"
     ]
    },
    {
     "name": "stdout",
     "output_type": "stream",
     "text": [
      "INFO:tensorflow:Assets written to: model/assets\n"
     ]
    },
    {
     "name": "stderr",
     "output_type": "stream",
     "text": [
      "INFO:tensorflow:Assets written to: model/assets\n"
     ]
    },
    {
     "name": "stdout",
     "output_type": "stream",
     "text": [
      "1/1 [==============================] - 0s 350ms/step\n",
      "1/1 [==============================] - 0s 24ms/step\n",
      "INFO:tensorflow:Assets written to: model/assets\n"
     ]
    },
    {
     "name": "stderr",
     "output_type": "stream",
     "text": [
      "INFO:tensorflow:Assets written to: model/assets\n"
     ]
    },
    {
     "name": "stdout",
     "output_type": "stream",
     "text": [
      "1/1 [==============================] - 0s 362ms/step\n",
      "1/1 [==============================] - 0s 24ms/step\n",
      "1/1 [==============================] - 0s 334ms/step\n",
      "1/1 [==============================] - 0s 20ms/step\n",
      "1/1 [==============================] - 0s 409ms/step\n",
      "1/1 [==============================] - 0s 22ms/step\n",
      "1/1 [==============================] - 0s 340ms/step\n",
      "1/1 [==============================] - 0s 20ms/step\n",
      "Model: \"sequential_29\"\n",
      "_________________________________________________________________\n",
      " Layer (type)                Output Shape              Param #   \n",
      "=================================================================\n",
      " lstm_116 (LSTM)             (None, 6, 256)            274432    \n",
      "                                                                 \n",
      " lstm_117 (LSTM)             (None, 6, 128)            197120    \n",
      "                                                                 \n",
      " lstm_118 (LSTM)             (None, 6, 64)             49408     \n",
      "                                                                 \n",
      " lstm_119 (LSTM)             (None, 64)                33024     \n",
      "                                                                 \n",
      " dense_29 (Dense)            (None, 1)                 65        \n",
      "                                                                 \n",
      "=================================================================\n",
      "Total params: 554049 (2.11 MB)\n",
      "Trainable params: 554049 (2.11 MB)\n",
      "Non-trainable params: 0 (0.00 Byte)\n",
      "_________________________________________________________________\n",
      "INFO:tensorflow:Assets written to: model/assets\n"
     ]
    },
    {
     "name": "stderr",
     "output_type": "stream",
     "text": [
      "INFO:tensorflow:Assets written to: model/assets\n"
     ]
    },
    {
     "name": "stdout",
     "output_type": "stream",
     "text": [
      "INFO:tensorflow:Assets written to: model/assets\n"
     ]
    },
    {
     "name": "stderr",
     "output_type": "stream",
     "text": [
      "INFO:tensorflow:Assets written to: model/assets\n"
     ]
    },
    {
     "name": "stdout",
     "output_type": "stream",
     "text": [
      "INFO:tensorflow:Assets written to: model/assets\n"
     ]
    },
    {
     "name": "stderr",
     "output_type": "stream",
     "text": [
      "INFO:tensorflow:Assets written to: model/assets\n"
     ]
    },
    {
     "name": "stdout",
     "output_type": "stream",
     "text": [
      "INFO:tensorflow:Assets written to: model/assets\n"
     ]
    },
    {
     "name": "stderr",
     "output_type": "stream",
     "text": [
      "INFO:tensorflow:Assets written to: model/assets\n"
     ]
    },
    {
     "name": "stdout",
     "output_type": "stream",
     "text": [
      "INFO:tensorflow:Assets written to: model/assets\n"
     ]
    },
    {
     "name": "stderr",
     "output_type": "stream",
     "text": [
      "INFO:tensorflow:Assets written to: model/assets\n"
     ]
    },
    {
     "name": "stdout",
     "output_type": "stream",
     "text": [
      "INFO:tensorflow:Assets written to: model/assets\n"
     ]
    },
    {
     "name": "stderr",
     "output_type": "stream",
     "text": [
      "INFO:tensorflow:Assets written to: model/assets\n"
     ]
    },
    {
     "name": "stdout",
     "output_type": "stream",
     "text": [
      "1/1 [==============================] - 0s 338ms/step\n",
      "1/1 [==============================] - 0s 26ms/step\n",
      "INFO:tensorflow:Assets written to: model/assets\n"
     ]
    },
    {
     "name": "stderr",
     "output_type": "stream",
     "text": [
      "INFO:tensorflow:Assets written to: model/assets\n"
     ]
    },
    {
     "name": "stdout",
     "output_type": "stream",
     "text": [
      "1/1 [==============================] - 0s 338ms/step\n",
      "1/1 [==============================] - 0s 30ms/step\n",
      "1/1 [==============================] - 0s 326ms/step\n",
      "1/1 [==============================] - 0s 23ms/step\n",
      "1/1 [==============================] - 0s 326ms/step\n",
      "1/1 [==============================] - 0s 25ms/step\n",
      "INFO:tensorflow:Assets written to: model/assets\n"
     ]
    },
    {
     "name": "stderr",
     "output_type": "stream",
     "text": [
      "INFO:tensorflow:Assets written to: model/assets\n"
     ]
    },
    {
     "name": "stdout",
     "output_type": "stream",
     "text": [
      "1/1 [==============================] - 0s 371ms/step\n",
      "1/1 [==============================] - 0s 30ms/step\n",
      "Model: \"sequential_30\"\n",
      "_________________________________________________________________\n",
      " Layer (type)                Output Shape              Param #   \n",
      "=================================================================\n",
      " lstm_120 (LSTM)             (None, 6, 256)            274432    \n",
      "                                                                 \n",
      " lstm_121 (LSTM)             (None, 6, 128)            197120    \n",
      "                                                                 \n",
      " lstm_122 (LSTM)             (None, 6, 64)             49408     \n",
      "                                                                 \n",
      " lstm_123 (LSTM)             (None, 64)                33024     \n",
      "                                                                 \n",
      " dense_30 (Dense)            (None, 1)                 65        \n",
      "                                                                 \n",
      "=================================================================\n",
      "Total params: 554049 (2.11 MB)\n",
      "Trainable params: 554049 (2.11 MB)\n",
      "Non-trainable params: 0 (0.00 Byte)\n",
      "_________________________________________________________________\n",
      "INFO:tensorflow:Assets written to: model/assets\n"
     ]
    },
    {
     "name": "stderr",
     "output_type": "stream",
     "text": [
      "INFO:tensorflow:Assets written to: model/assets\n"
     ]
    },
    {
     "name": "stdout",
     "output_type": "stream",
     "text": [
      "INFO:tensorflow:Assets written to: model/assets\n"
     ]
    },
    {
     "name": "stderr",
     "output_type": "stream",
     "text": [
      "INFO:tensorflow:Assets written to: model/assets\n"
     ]
    },
    {
     "name": "stdout",
     "output_type": "stream",
     "text": [
      "INFO:tensorflow:Assets written to: model/assets\n"
     ]
    },
    {
     "name": "stderr",
     "output_type": "stream",
     "text": [
      "INFO:tensorflow:Assets written to: model/assets\n"
     ]
    },
    {
     "name": "stdout",
     "output_type": "stream",
     "text": [
      "INFO:tensorflow:Assets written to: model/assets\n"
     ]
    },
    {
     "name": "stderr",
     "output_type": "stream",
     "text": [
      "INFO:tensorflow:Assets written to: model/assets\n"
     ]
    },
    {
     "name": "stdout",
     "output_type": "stream",
     "text": [
      "INFO:tensorflow:Assets written to: model/assets\n"
     ]
    },
    {
     "name": "stderr",
     "output_type": "stream",
     "text": [
      "INFO:tensorflow:Assets written to: model/assets\n"
     ]
    },
    {
     "name": "stdout",
     "output_type": "stream",
     "text": [
      "INFO:tensorflow:Assets written to: model/assets\n"
     ]
    },
    {
     "name": "stderr",
     "output_type": "stream",
     "text": [
      "INFO:tensorflow:Assets written to: model/assets\n"
     ]
    },
    {
     "name": "stdout",
     "output_type": "stream",
     "text": [
      "1/1 [==============================] - 0s 340ms/step\n",
      "1/1 [==============================] - 0s 18ms/step\n",
      "INFO:tensorflow:Assets written to: model/assets\n"
     ]
    },
    {
     "name": "stderr",
     "output_type": "stream",
     "text": [
      "INFO:tensorflow:Assets written to: model/assets\n"
     ]
    },
    {
     "name": "stdout",
     "output_type": "stream",
     "text": [
      "INFO:tensorflow:Assets written to: model/assets\n"
     ]
    },
    {
     "name": "stderr",
     "output_type": "stream",
     "text": [
      "INFO:tensorflow:Assets written to: model/assets\n"
     ]
    },
    {
     "name": "stdout",
     "output_type": "stream",
     "text": [
      "INFO:tensorflow:Assets written to: model/assets\n"
     ]
    },
    {
     "name": "stderr",
     "output_type": "stream",
     "text": [
      "INFO:tensorflow:Assets written to: model/assets\n"
     ]
    },
    {
     "name": "stdout",
     "output_type": "stream",
     "text": [
      "1/1 [==============================] - 0s 329ms/step\n",
      "1/1 [==============================] - 0s 26ms/step\n",
      "INFO:tensorflow:Assets written to: model/assets\n"
     ]
    },
    {
     "name": "stderr",
     "output_type": "stream",
     "text": [
      "INFO:tensorflow:Assets written to: model/assets\n"
     ]
    },
    {
     "name": "stdout",
     "output_type": "stream",
     "text": [
      "1/1 [==============================] - 0s 327ms/step\n",
      "1/1 [==============================] - 0s 19ms/step\n",
      "INFO:tensorflow:Assets written to: model/assets\n"
     ]
    },
    {
     "name": "stderr",
     "output_type": "stream",
     "text": [
      "INFO:tensorflow:Assets written to: model/assets\n"
     ]
    },
    {
     "name": "stdout",
     "output_type": "stream",
     "text": [
      "1/1 [==============================] - 0s 332ms/step\n",
      "1/1 [==============================] - 0s 21ms/step\n",
      "1/1 [==============================] - 0s 325ms/step\n",
      "1/1 [==============================] - 0s 26ms/step\n",
      "Model: \"sequential_31\"\n",
      "_________________________________________________________________\n",
      " Layer (type)                Output Shape              Param #   \n",
      "=================================================================\n",
      " lstm_124 (LSTM)             (None, 6, 256)            274432    \n",
      "                                                                 \n",
      " lstm_125 (LSTM)             (None, 6, 128)            197120    \n",
      "                                                                 \n",
      " lstm_126 (LSTM)             (None, 6, 64)             49408     \n",
      "                                                                 \n",
      " lstm_127 (LSTM)             (None, 64)                33024     \n",
      "                                                                 \n",
      " dense_31 (Dense)            (None, 1)                 65        \n",
      "                                                                 \n",
      "=================================================================\n",
      "Total params: 554049 (2.11 MB)\n",
      "Trainable params: 554049 (2.11 MB)\n",
      "Non-trainable params: 0 (0.00 Byte)\n",
      "_________________________________________________________________\n",
      "INFO:tensorflow:Assets written to: model/assets\n"
     ]
    },
    {
     "name": "stderr",
     "output_type": "stream",
     "text": [
      "INFO:tensorflow:Assets written to: model/assets\n"
     ]
    },
    {
     "name": "stdout",
     "output_type": "stream",
     "text": [
      "INFO:tensorflow:Assets written to: model/assets\n"
     ]
    },
    {
     "name": "stderr",
     "output_type": "stream",
     "text": [
      "INFO:tensorflow:Assets written to: model/assets\n"
     ]
    },
    {
     "name": "stdout",
     "output_type": "stream",
     "text": [
      "INFO:tensorflow:Assets written to: model/assets\n"
     ]
    },
    {
     "name": "stderr",
     "output_type": "stream",
     "text": [
      "INFO:tensorflow:Assets written to: model/assets\n"
     ]
    },
    {
     "name": "stdout",
     "output_type": "stream",
     "text": [
      "INFO:tensorflow:Assets written to: model/assets\n"
     ]
    },
    {
     "name": "stderr",
     "output_type": "stream",
     "text": [
      "INFO:tensorflow:Assets written to: model/assets\n"
     ]
    },
    {
     "name": "stdout",
     "output_type": "stream",
     "text": [
      "1/1 [==============================] - 0s 344ms/step\n",
      "1/1 [==============================] - 0s 24ms/step\n",
      "INFO:tensorflow:Assets written to: model/assets\n"
     ]
    },
    {
     "name": "stderr",
     "output_type": "stream",
     "text": [
      "INFO:tensorflow:Assets written to: model/assets\n"
     ]
    },
    {
     "name": "stdout",
     "output_type": "stream",
     "text": [
      "INFO:tensorflow:Assets written to: model/assets\n"
     ]
    },
    {
     "name": "stderr",
     "output_type": "stream",
     "text": [
      "INFO:tensorflow:Assets written to: model/assets\n"
     ]
    },
    {
     "name": "stdout",
     "output_type": "stream",
     "text": [
      "INFO:tensorflow:Assets written to: model/assets\n"
     ]
    },
    {
     "name": "stderr",
     "output_type": "stream",
     "text": [
      "INFO:tensorflow:Assets written to: model/assets\n"
     ]
    },
    {
     "name": "stdout",
     "output_type": "stream",
     "text": [
      "INFO:tensorflow:Assets written to: model/assets\n"
     ]
    },
    {
     "name": "stderr",
     "output_type": "stream",
     "text": [
      "INFO:tensorflow:Assets written to: model/assets\n"
     ]
    },
    {
     "name": "stdout",
     "output_type": "stream",
     "text": [
      "1/1 [==============================] - 0s 416ms/step\n",
      "1/1 [==============================] - 0s 43ms/step\n",
      "1/1 [==============================] - 0s 336ms/step\n",
      "1/1 [==============================] - 0s 27ms/step\n",
      "1/1 [==============================] - 0s 340ms/step\n",
      "1/1 [==============================] - 0s 30ms/step\n",
      "1/1 [==============================] - 0s 332ms/step\n",
      "1/1 [==============================] - 0s 21ms/step\n",
      "Model: \"sequential_32\"\n",
      "_________________________________________________________________\n",
      " Layer (type)                Output Shape              Param #   \n",
      "=================================================================\n",
      " lstm_128 (LSTM)             (None, 6, 256)            274432    \n",
      "                                                                 \n",
      " lstm_129 (LSTM)             (None, 6, 128)            197120    \n",
      "                                                                 \n",
      " lstm_130 (LSTM)             (None, 6, 64)             49408     \n",
      "                                                                 \n",
      " lstm_131 (LSTM)             (None, 64)                33024     \n",
      "                                                                 \n",
      " dense_32 (Dense)            (None, 1)                 65        \n",
      "                                                                 \n",
      "=================================================================\n",
      "Total params: 554049 (2.11 MB)\n",
      "Trainable params: 554049 (2.11 MB)\n",
      "Non-trainable params: 0 (0.00 Byte)\n",
      "_________________________________________________________________\n",
      "INFO:tensorflow:Assets written to: model/assets\n"
     ]
    },
    {
     "name": "stderr",
     "output_type": "stream",
     "text": [
      "INFO:tensorflow:Assets written to: model/assets\n"
     ]
    },
    {
     "name": "stdout",
     "output_type": "stream",
     "text": [
      "INFO:tensorflow:Assets written to: model/assets\n"
     ]
    },
    {
     "name": "stderr",
     "output_type": "stream",
     "text": [
      "INFO:tensorflow:Assets written to: model/assets\n"
     ]
    },
    {
     "name": "stdout",
     "output_type": "stream",
     "text": [
      "INFO:tensorflow:Assets written to: model/assets\n"
     ]
    },
    {
     "name": "stderr",
     "output_type": "stream",
     "text": [
      "INFO:tensorflow:Assets written to: model/assets\n"
     ]
    },
    {
     "name": "stdout",
     "output_type": "stream",
     "text": [
      "1/1 [==============================] - 0s 354ms/step\n",
      "1/1 [==============================] - 0s 31ms/step\n",
      "1/1 [==============================] - 0s 384ms/step\n",
      "1/1 [==============================] - 0s 36ms/step\n",
      "1/1 [==============================] - 0s 344ms/step\n",
      "1/1 [==============================] - 0s 24ms/step\n",
      "1/1 [==============================] - 0s 365ms/step\n",
      "1/1 [==============================] - 0s 25ms/step\n",
      "INFO:tensorflow:Assets written to: model/assets\n"
     ]
    },
    {
     "name": "stderr",
     "output_type": "stream",
     "text": [
      "INFO:tensorflow:Assets written to: model/assets\n"
     ]
    },
    {
     "name": "stdout",
     "output_type": "stream",
     "text": [
      "INFO:tensorflow:Assets written to: model/assets\n"
     ]
    },
    {
     "name": "stderr",
     "output_type": "stream",
     "text": [
      "INFO:tensorflow:Assets written to: model/assets\n"
     ]
    },
    {
     "name": "stdout",
     "output_type": "stream",
     "text": [
      "1/1 [==============================] - 0s 358ms/step\n",
      "1/1 [==============================] - 0s 36ms/step\n",
      "Model: \"sequential_33\"\n",
      "_________________________________________________________________\n",
      " Layer (type)                Output Shape              Param #   \n",
      "=================================================================\n",
      " lstm_132 (LSTM)             (None, 6, 256)            274432    \n",
      "                                                                 \n",
      " lstm_133 (LSTM)             (None, 6, 128)            197120    \n",
      "                                                                 \n",
      " lstm_134 (LSTM)             (None, 6, 64)             49408     \n",
      "                                                                 \n",
      " lstm_135 (LSTM)             (None, 64)                33024     \n",
      "                                                                 \n",
      " dense_33 (Dense)            (None, 1)                 65        \n",
      "                                                                 \n",
      "=================================================================\n",
      "Total params: 554049 (2.11 MB)\n",
      "Trainable params: 554049 (2.11 MB)\n",
      "Non-trainable params: 0 (0.00 Byte)\n",
      "_________________________________________________________________\n",
      "INFO:tensorflow:Assets written to: model/assets\n"
     ]
    },
    {
     "name": "stderr",
     "output_type": "stream",
     "text": [
      "INFO:tensorflow:Assets written to: model/assets\n"
     ]
    },
    {
     "name": "stdout",
     "output_type": "stream",
     "text": [
      "INFO:tensorflow:Assets written to: model/assets\n"
     ]
    },
    {
     "name": "stderr",
     "output_type": "stream",
     "text": [
      "INFO:tensorflow:Assets written to: model/assets\n"
     ]
    },
    {
     "name": "stdout",
     "output_type": "stream",
     "text": [
      "INFO:tensorflow:Assets written to: model/assets\n"
     ]
    },
    {
     "name": "stderr",
     "output_type": "stream",
     "text": [
      "INFO:tensorflow:Assets written to: model/assets\n"
     ]
    },
    {
     "name": "stdout",
     "output_type": "stream",
     "text": [
      "INFO:tensorflow:Assets written to: model/assets\n"
     ]
    },
    {
     "name": "stderr",
     "output_type": "stream",
     "text": [
      "INFO:tensorflow:Assets written to: model/assets\n"
     ]
    },
    {
     "name": "stdout",
     "output_type": "stream",
     "text": [
      "INFO:tensorflow:Assets written to: model/assets\n"
     ]
    },
    {
     "name": "stderr",
     "output_type": "stream",
     "text": [
      "INFO:tensorflow:Assets written to: model/assets\n"
     ]
    },
    {
     "name": "stdout",
     "output_type": "stream",
     "text": [
      "INFO:tensorflow:Assets written to: model/assets\n"
     ]
    },
    {
     "name": "stderr",
     "output_type": "stream",
     "text": [
      "INFO:tensorflow:Assets written to: model/assets\n"
     ]
    },
    {
     "name": "stdout",
     "output_type": "stream",
     "text": [
      "1/1 [==============================] - 0s 354ms/step\n",
      "1/1 [==============================] - 0s 28ms/step\n",
      "INFO:tensorflow:Assets written to: model/assets\n"
     ]
    },
    {
     "name": "stderr",
     "output_type": "stream",
     "text": [
      "INFO:tensorflow:Assets written to: model/assets\n"
     ]
    },
    {
     "name": "stdout",
     "output_type": "stream",
     "text": [
      "INFO:tensorflow:Assets written to: model/assets\n"
     ]
    },
    {
     "name": "stderr",
     "output_type": "stream",
     "text": [
      "INFO:tensorflow:Assets written to: model/assets\n"
     ]
    },
    {
     "name": "stdout",
     "output_type": "stream",
     "text": [
      "1/1 [==============================] - 0s 355ms/step\n",
      "1/1 [==============================] - 0s 23ms/step\n",
      "1/1 [==============================] - 0s 392ms/step\n",
      "1/1 [==============================] - 0s 34ms/step\n",
      "1/1 [==============================] - 0s 375ms/step\n",
      "1/1 [==============================] - 0s 28ms/step\n",
      "1/1 [==============================] - 0s 374ms/step\n",
      "1/1 [==============================] - 0s 28ms/step\n"
     ]
    }
   ],
   "source": [
    "MDA_VAL = []\n",
    "MDA_TEST = []\n",
    "MODELS = []\n",
    "HISTORYS = []\n",
    "RMSE_VAL = []\n",
    "RMSE_TEST = []\n",
    "\n",
    "predizioni_test = []\n",
    "predizioni_val = []\n",
    "\n",
    "for i in range(10):\n",
    "\n",
    "    walk_pred_test = []\n",
    "    walk_pred_val = []\n",
    "    walk_history = []\n",
    "    walk_mda_test = []\n",
    "    walk_mda_val = []\n",
    "\n",
    "    history = 0 \n",
    "\n",
    "    model = 0\n",
    "    model = Sequential()\n",
    "    model.add(InputLayer((6, 11)))\n",
    "    model.add(LSTM(256, activation='relu', return_sequences=True))\n",
    "    model.add(LSTM(128, activation='relu', return_sequences=True))\n",
    "    model.add(LSTM(64, activation='relu', return_sequences=True))\n",
    "    model.add(LSTM(64, activation='relu'))\n",
    "    model.add(Dense(1))\n",
    "\n",
    "    model.summary()\n",
    "\n",
    "    cp = ModelCheckpoint(\"model/\", save_best_only=True, verbose = False)\n",
    "    model.compile(loss=custom_loss, optimizer=Adam(learning_rate=0.01), metrics=[custom_loss])\n",
    "\n",
    "    for i in range(5):\n",
    "\n",
    "        history = model.fit(walk_train_x[i], walk_train_y[i], validation_data=(walk_val_x[i], walk_val_y[i]), epochs = 50, batch_size = 5, callbacks=[cp], verbose = False)\n",
    "\n",
    "        #extracting the loss value both for training and validation\n",
    "        history_dict = history.history\n",
    "        walk_history.append(history_dict)\n",
    "        \n",
    "        #I calculate the predictions and I compute tha directional accuracy on val set in order to then choose the best model to test on the test set\n",
    "        model = tf.keras.models.load_model('model', custom_objects={'custom_loss': custom_loss})\n",
    "        walk_pred_test.append(model.predict(walk_test_x[i]))\n",
    "        walk_pred_val.append(model.predict(walk_val_x[i]))\n",
    "        walk_mda_test.append(da(walk_test_y[i],walk_pred_test[i].reshape(5)))\n",
    "        walk_mda_val.append(da(walk_val_y[i],walk_pred_val[i].reshape(10)))\n",
    "\n",
    "    predizioni_test.append(walk_pred_test)\n",
    "    predizioni_val.append(walk_pred_val)\n",
    "    MODELS.append(model)\n",
    "    MDA_VAL.append(sum(walk_mda_val)/len(walk_mda_val))\n",
    "    MDA_TEST.append(sum(walk_mda_test)/len(walk_mda_test))\n",
    "    HISTORYS.append(walk_history)\n",
    "    RMSE_TEST.append(compute_rmse(walk_pred_test, walk_test_y))\n",
    "    RMSE_VAL.append(compute_rmse(walk_pred_val, walk_val_y))"
   ]
  },
  {
   "cell_type": "code",
   "execution_count": 66,
   "metadata": {},
   "outputs": [
    {
     "data": {
      "text/plain": [
       "[0.48888888888888893,\n",
       " 0.5555555555555556,\n",
       " 0.48888888888888893,\n",
       " 0.6444444444444445,\n",
       " 0.5111111111111112,\n",
       " 0.5777777777777778,\n",
       " 0.6,\n",
       " 0.6444444444444445,\n",
       " 0.4222222222222222,\n",
       " 0.5555555555555556]"
      ]
     },
     "execution_count": 66,
     "metadata": {},
     "output_type": "execute_result"
    }
   ],
   "source": [
    "MDA_VAL"
   ]
  },
  {
   "cell_type": "code",
   "execution_count": 67,
   "metadata": {},
   "outputs": [
    {
     "data": {
      "text/plain": [
       "[0.35, 0.4, 0.5, 0.45, 0.3, 0.45, 0.35, 0.45, 0.45, 0.45]"
      ]
     },
     "execution_count": 67,
     "metadata": {},
     "output_type": "execute_result"
    }
   ],
   "source": [
    "MDA_TEST"
   ]
  },
  {
   "cell_type": "code",
   "execution_count": 48,
   "metadata": {},
   "outputs": [
    {
     "data": {
      "text/plain": [
       "21.970370748910348"
      ]
     },
     "execution_count": 48,
     "metadata": {},
     "output_type": "execute_result"
    }
   ],
   "source": [
    "RMSE_TEST[5]"
   ]
  },
  {
   "cell_type": "code",
   "execution_count": 49,
   "metadata": {},
   "outputs": [],
   "source": [
    "def reshape_predictions(predictions_list):\n",
    "    predictions_list = np.array(predictions_list)\n",
    "    predictions_list = predictions_list.reshape(len(predictions_list),25)\n",
    "    return predictions_list"
   ]
  },
  {
   "cell_type": "code",
   "execution_count": 68,
   "metadata": {},
   "outputs": [
    {
     "data": {
      "text/html": [
       "<div>\n",
       "<style scoped>\n",
       "    .dataframe tbody tr th:only-of-type {\n",
       "        vertical-align: middle;\n",
       "    }\n",
       "\n",
       "    .dataframe tbody tr th {\n",
       "        vertical-align: top;\n",
       "    }\n",
       "\n",
       "    .dataframe thead th {\n",
       "        text-align: right;\n",
       "    }\n",
       "</style>\n",
       "<table border=\"1\" class=\"dataframe\">\n",
       "  <thead>\n",
       "    <tr style=\"text-align: right;\">\n",
       "      <th></th>\n",
       "      <th>Ground_truth</th>\n",
       "      <th>predictions</th>\n",
       "    </tr>\n",
       "    <tr>\n",
       "      <th>Date</th>\n",
       "      <th></th>\n",
       "      <th></th>\n",
       "    </tr>\n",
       "  </thead>\n",
       "  <tbody>\n",
       "    <tr>\n",
       "      <th>2023-02-23</th>\n",
       "      <td>110.306381</td>\n",
       "      <td>110.306381</td>\n",
       "    </tr>\n",
       "    <tr>\n",
       "      <th>2023-02-24</th>\n",
       "      <td>108.557959</td>\n",
       "      <td>140.020401</td>\n",
       "    </tr>\n",
       "    <tr>\n",
       "      <th>2023-02-25</th>\n",
       "      <td>107.925850</td>\n",
       "      <td>135.649261</td>\n",
       "    </tr>\n",
       "    <tr>\n",
       "      <th>2023-02-26</th>\n",
       "      <td>103.073215</td>\n",
       "      <td>128.723206</td>\n",
       "    </tr>\n",
       "    <tr>\n",
       "      <th>2023-02-27</th>\n",
       "      <td>110.290543</td>\n",
       "      <td>121.222954</td>\n",
       "    </tr>\n",
       "    <tr>\n",
       "      <th>2023-02-28</th>\n",
       "      <td>102.686326</td>\n",
       "      <td>114.045715</td>\n",
       "    </tr>\n",
       "    <tr>\n",
       "      <th>2023-03-01</th>\n",
       "      <td>81.475006</td>\n",
       "      <td>101.598000</td>\n",
       "    </tr>\n",
       "    <tr>\n",
       "      <th>2023-03-02</th>\n",
       "      <td>78.840089</td>\n",
       "      <td>97.339508</td>\n",
       "    </tr>\n",
       "    <tr>\n",
       "      <th>2023-03-03</th>\n",
       "      <td>93.283237</td>\n",
       "      <td>93.275055</td>\n",
       "    </tr>\n",
       "    <tr>\n",
       "      <th>2023-03-04</th>\n",
       "      <td>88.019660</td>\n",
       "      <td>99.072319</td>\n",
       "    </tr>\n",
       "    <tr>\n",
       "      <th>2023-03-05</th>\n",
       "      <td>88.327233</td>\n",
       "      <td>95.142960</td>\n",
       "    </tr>\n",
       "    <tr>\n",
       "      <th>2023-03-06</th>\n",
       "      <td>91.842523</td>\n",
       "      <td>90.699326</td>\n",
       "    </tr>\n",
       "    <tr>\n",
       "      <th>2023-03-07</th>\n",
       "      <td>89.705884</td>\n",
       "      <td>86.579521</td>\n",
       "    </tr>\n",
       "    <tr>\n",
       "      <th>2023-03-08</th>\n",
       "      <td>88.426166</td>\n",
       "      <td>88.933449</td>\n",
       "    </tr>\n",
       "    <tr>\n",
       "      <th>2023-03-09</th>\n",
       "      <td>91.046703</td>\n",
       "      <td>99.124969</td>\n",
       "    </tr>\n",
       "    <tr>\n",
       "      <th>2023-03-10</th>\n",
       "      <td>93.068870</td>\n",
       "      <td>95.697990</td>\n",
       "    </tr>\n",
       "    <tr>\n",
       "      <th>2023-03-11</th>\n",
       "      <td>97.552727</td>\n",
       "      <td>94.666306</td>\n",
       "    </tr>\n",
       "    <tr>\n",
       "      <th>2023-03-12</th>\n",
       "      <td>97.784930</td>\n",
       "      <td>89.915909</td>\n",
       "    </tr>\n",
       "    <tr>\n",
       "      <th>2023-03-13</th>\n",
       "      <td>96.167977</td>\n",
       "      <td>91.771988</td>\n",
       "    </tr>\n",
       "    <tr>\n",
       "      <th>2023-03-14</th>\n",
       "      <td>111.392723</td>\n",
       "      <td>93.696754</td>\n",
       "    </tr>\n",
       "    <tr>\n",
       "      <th>2023-03-15</th>\n",
       "      <td>130.164057</td>\n",
       "      <td>97.171951</td>\n",
       "    </tr>\n",
       "    <tr>\n",
       "      <th>2023-03-16</th>\n",
       "      <td>124.372183</td>\n",
       "      <td>98.763046</td>\n",
       "    </tr>\n",
       "    <tr>\n",
       "      <th>2023-03-17</th>\n",
       "      <td>138.567702</td>\n",
       "      <td>100.286438</td>\n",
       "    </tr>\n",
       "    <tr>\n",
       "      <th>2023-03-18</th>\n",
       "      <td>147.010317</td>\n",
       "      <td>98.586304</td>\n",
       "    </tr>\n",
       "    <tr>\n",
       "      <th>2023-03-19</th>\n",
       "      <td>105.024077</td>\n",
       "      <td>97.687561</td>\n",
       "    </tr>\n",
       "    <tr>\n",
       "      <th>2023-03-20</th>\n",
       "      <td>137.515357</td>\n",
       "      <td>104.685852</td>\n",
       "    </tr>\n",
       "  </tbody>\n",
       "</table>\n",
       "</div>"
      ],
      "text/plain": [
       "            Ground_truth  predictions\n",
       "Date                                 \n",
       "2023-02-23    110.306381   110.306381\n",
       "2023-02-24    108.557959   140.020401\n",
       "2023-02-25    107.925850   135.649261\n",
       "2023-02-26    103.073215   128.723206\n",
       "2023-02-27    110.290543   121.222954\n",
       "2023-02-28    102.686326   114.045715\n",
       "2023-03-01     81.475006   101.598000\n",
       "2023-03-02     78.840089    97.339508\n",
       "2023-03-03     93.283237    93.275055\n",
       "2023-03-04     88.019660    99.072319\n",
       "2023-03-05     88.327233    95.142960\n",
       "2023-03-06     91.842523    90.699326\n",
       "2023-03-07     89.705884    86.579521\n",
       "2023-03-08     88.426166    88.933449\n",
       "2023-03-09     91.046703    99.124969\n",
       "2023-03-10     93.068870    95.697990\n",
       "2023-03-11     97.552727    94.666306\n",
       "2023-03-12     97.784930    89.915909\n",
       "2023-03-13     96.167977    91.771988\n",
       "2023-03-14    111.392723    93.696754\n",
       "2023-03-15    130.164057    97.171951\n",
       "2023-03-16    124.372183    98.763046\n",
       "2023-03-17    138.567702   100.286438\n",
       "2023-03-18    147.010317    98.586304\n",
       "2023-03-19    105.024077    97.687561\n",
       "2023-03-20    137.515357   104.685852"
      ]
     },
     "execution_count": 68,
     "metadata": {},
     "output_type": "execute_result"
    }
   ],
   "source": [
    "Compare_df = pd.DataFrame()\n",
    "Compare_df['Ground_truth'] = df['CostInBillingCurrency'][-26:]\n",
    "\n",
    "p = np.array(predizioni_test[7])\n",
    "p = np.insert(p, 0, Compare_df['Ground_truth'][0])\n",
    "\n",
    "Compare_df['predictions'] = p\n",
    "Compare_df"
   ]
  },
  {
   "cell_type": "code",
   "execution_count": 69,
   "metadata": {},
   "outputs": [
    {
     "data": {
      "image/png": "[encoded data removed]",
      "text/plain": [
       "<Figure size 2000x500 with 1 Axes>"
      ]
     },
     "metadata": {},
     "output_type": "display_data"
    },
    {
     "name": "stdout",
     "output_type": "stream",
     "text": [
      "MDA = 0.52\n",
      "RMSE = 18.287248282182446\n"
     ]
    }
   ],
   "source": [
    "pred_data = Compare_df['predictions']\n",
    "truth_data = Compare_df['Ground_truth']\n",
    "\n",
    "# Create the plot\n",
    "plt.figure(figsize=(20, 5))\n",
    "plt.plot(truth_data, label=\"Ground Truth\")\n",
    "plt.plot(pred_data, label=\"LSTM Predictions for each MeterCategory\")\n",
    "\n",
    "# Add title and legends\n",
    "plt.title(\"Prediction vs Ground Truth\")\n",
    "plt.legend()\n",
    "\n",
    "# Display the plot\n",
    "plt.show()\n",
    "\n",
    "print(\"MDA =\",da(truth_data,pred_data))\n",
    "print(\"RMSE =\",RMSE_TEST[7])"
   ]
  }
 ],
 "metadata": {
  "kernelspec": {
   "display_name": "forecasting",
   "language": "python",
   "name": "python3"
  },
  "language_info": {
   "codemirror_mode": {
    "name": "ipython",
    "version": 3
   },
   "file_extension": ".py",
   "mimetype": "text/x-python",
   "name": "python",
   "nbconvert_exporter": "python",
   "pygments_lexer": "ipython3",
   "version": "3.11.5"
  }
 },
 "nbformat": 4,
 "nbformat_minor": 2
}
